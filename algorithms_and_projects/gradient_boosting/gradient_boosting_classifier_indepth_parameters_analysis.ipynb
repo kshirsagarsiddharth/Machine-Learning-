{
 "cells": [
  {
   "cell_type": "code",
   "execution_count": 54,
   "metadata": {},
   "outputs": [],
   "source": [
    "import pandas as pd\n",
    "import numpy as np\n",
    "import seaborn as sns\n",
    "import matplotlib.pyplot as plt\n",
    "from sklearn.ensemble import GradientBoostingClassifier\n",
    "from sklearn.metrics import classification_report,confusion_matrix,roc_auc_score\n",
    "from sklearn.model_selection import GridSearchCV,train_test_split\n",
    "from sklearn.model_selection import cross_val_score\n"
   ]
  },
  {
   "cell_type": "code",
   "execution_count": 55,
   "metadata": {},
   "outputs": [],
   "source": [
    "train = pd.read_csv('train_modified.csv')"
   ]
  },
  {
   "cell_type": "code",
   "execution_count": 56,
   "metadata": {},
   "outputs": [],
   "source": [
    "X = train.drop(columns = ['Disbursed','ID'])\n",
    "y = train['Disbursed'].values.ravel()"
   ]
  },
  {
   "cell_type": "code",
   "execution_count": 53,
   "metadata": {},
   "outputs": [
    {
     "ename": "KeyboardInterrupt",
     "evalue": "",
     "output_type": "error",
     "traceback": [
      "\u001b[0;31m---------------------------------------------------------------------------\u001b[0m",
      "\u001b[0;31mKeyboardInterrupt\u001b[0m                         Traceback (most recent call last)",
      "\u001b[0;32m<ipython-input-53-8c106cc0068f>\u001b[0m in \u001b[0;36m<module>\u001b[0;34m\u001b[0m\n\u001b[1;32m      2\u001b[0m \u001b[0;34m\u001b[0m\u001b[0m\n\u001b[1;32m      3\u001b[0m \u001b[0mgbc\u001b[0m \u001b[0;34m=\u001b[0m \u001b[0mGradientBoostingClassifier\u001b[0m\u001b[0;34m(\u001b[0m\u001b[0;34m)\u001b[0m\u001b[0;34m\u001b[0m\u001b[0;34m\u001b[0m\u001b[0m\n\u001b[0;32m----> 4\u001b[0;31m \u001b[0mgbc\u001b[0m\u001b[0;34m.\u001b[0m\u001b[0mfit\u001b[0m\u001b[0;34m(\u001b[0m\u001b[0mX_train\u001b[0m\u001b[0;34m,\u001b[0m\u001b[0my_train\u001b[0m\u001b[0;34m)\u001b[0m\u001b[0;34m\u001b[0m\u001b[0;34m\u001b[0m\u001b[0m\n\u001b[0m\u001b[1;32m      5\u001b[0m \u001b[0;34m\u001b[0m\u001b[0m\n\u001b[1;32m      6\u001b[0m \u001b[0mpred\u001b[0m \u001b[0;34m=\u001b[0m \u001b[0mgbc\u001b[0m\u001b[0;34m.\u001b[0m\u001b[0mpredict\u001b[0m\u001b[0;34m(\u001b[0m\u001b[0mX_test\u001b[0m\u001b[0;34m)\u001b[0m\u001b[0;34m\u001b[0m\u001b[0;34m\u001b[0m\u001b[0m\n",
      "\u001b[0;32m~/conda/envs/python/lib/python3.6/site-packages/sklearn/ensemble/gradient_boosting.py\u001b[0m in \u001b[0;36mfit\u001b[0;34m(self, X, y, sample_weight, monitor)\u001b[0m\n\u001b[1;32m   1463\u001b[0m         n_stages = self._fit_stages(X, y, y_pred, sample_weight, self._rng,\n\u001b[1;32m   1464\u001b[0m                                     \u001b[0mX_val\u001b[0m\u001b[0;34m,\u001b[0m \u001b[0my_val\u001b[0m\u001b[0;34m,\u001b[0m \u001b[0msample_weight_val\u001b[0m\u001b[0;34m,\u001b[0m\u001b[0;34m\u001b[0m\u001b[0;34m\u001b[0m\u001b[0m\n\u001b[0;32m-> 1465\u001b[0;31m                                     begin_at_stage, monitor, X_idx_sorted)\n\u001b[0m\u001b[1;32m   1466\u001b[0m \u001b[0;34m\u001b[0m\u001b[0m\n\u001b[1;32m   1467\u001b[0m         \u001b[0;31m# change shape of arrays after fit (early-stopping or additional ests)\u001b[0m\u001b[0;34m\u001b[0m\u001b[0;34m\u001b[0m\u001b[0;34m\u001b[0m\u001b[0m\n",
      "\u001b[0;32m~/conda/envs/python/lib/python3.6/site-packages/sklearn/ensemble/gradient_boosting.py\u001b[0m in \u001b[0;36m_fit_stages\u001b[0;34m(self, X, y, y_pred, sample_weight, random_state, X_val, y_val, sample_weight_val, begin_at_stage, monitor, X_idx_sorted)\u001b[0m\n\u001b[1;32m   1527\u001b[0m             y_pred = self._fit_stage(i, X, y, y_pred, sample_weight,\n\u001b[1;32m   1528\u001b[0m                                      \u001b[0msample_mask\u001b[0m\u001b[0;34m,\u001b[0m \u001b[0mrandom_state\u001b[0m\u001b[0;34m,\u001b[0m \u001b[0mX_idx_sorted\u001b[0m\u001b[0;34m,\u001b[0m\u001b[0;34m\u001b[0m\u001b[0;34m\u001b[0m\u001b[0m\n\u001b[0;32m-> 1529\u001b[0;31m                                      X_csc, X_csr)\n\u001b[0m\u001b[1;32m   1530\u001b[0m \u001b[0;34m\u001b[0m\u001b[0m\n\u001b[1;32m   1531\u001b[0m             \u001b[0;31m# track deviance (= loss)\u001b[0m\u001b[0;34m\u001b[0m\u001b[0;34m\u001b[0m\u001b[0;34m\u001b[0m\u001b[0m\n",
      "\u001b[0;32m~/conda/envs/python/lib/python3.6/site-packages/sklearn/ensemble/gradient_boosting.py\u001b[0m in \u001b[0;36m_fit_stage\u001b[0;34m(self, i, X, y, y_pred, sample_weight, sample_mask, random_state, X_idx_sorted, X_csc, X_csr)\u001b[0m\n\u001b[1;32m   1192\u001b[0m             \u001b[0mX\u001b[0m \u001b[0;34m=\u001b[0m \u001b[0mX_csr\u001b[0m \u001b[0;32mif\u001b[0m \u001b[0mX_csr\u001b[0m \u001b[0;32mis\u001b[0m \u001b[0;32mnot\u001b[0m \u001b[0;32mNone\u001b[0m \u001b[0;32melse\u001b[0m \u001b[0mX\u001b[0m\u001b[0;34m\u001b[0m\u001b[0;34m\u001b[0m\u001b[0m\n\u001b[1;32m   1193\u001b[0m             tree.fit(X, residual, sample_weight=sample_weight,\n\u001b[0;32m-> 1194\u001b[0;31m                      check_input=False, X_idx_sorted=X_idx_sorted)\n\u001b[0m\u001b[1;32m   1195\u001b[0m \u001b[0;34m\u001b[0m\u001b[0m\n\u001b[1;32m   1196\u001b[0m             \u001b[0;31m# update tree leaves\u001b[0m\u001b[0;34m\u001b[0m\u001b[0;34m\u001b[0m\u001b[0;34m\u001b[0m\u001b[0m\n",
      "\u001b[0;32m~/conda/envs/python/lib/python3.6/site-packages/sklearn/tree/tree.py\u001b[0m in \u001b[0;36mfit\u001b[0;34m(self, X, y, sample_weight, check_input, X_idx_sorted)\u001b[0m\n\u001b[1;32m   1140\u001b[0m             \u001b[0msample_weight\u001b[0m\u001b[0;34m=\u001b[0m\u001b[0msample_weight\u001b[0m\u001b[0;34m,\u001b[0m\u001b[0;34m\u001b[0m\u001b[0;34m\u001b[0m\u001b[0m\n\u001b[1;32m   1141\u001b[0m             \u001b[0mcheck_input\u001b[0m\u001b[0;34m=\u001b[0m\u001b[0mcheck_input\u001b[0m\u001b[0;34m,\u001b[0m\u001b[0;34m\u001b[0m\u001b[0;34m\u001b[0m\u001b[0m\n\u001b[0;32m-> 1142\u001b[0;31m             X_idx_sorted=X_idx_sorted)\n\u001b[0m\u001b[1;32m   1143\u001b[0m         \u001b[0;32mreturn\u001b[0m \u001b[0mself\u001b[0m\u001b[0;34m\u001b[0m\u001b[0;34m\u001b[0m\u001b[0m\n\u001b[1;32m   1144\u001b[0m \u001b[0;34m\u001b[0m\u001b[0m\n",
      "\u001b[0;32m~/conda/envs/python/lib/python3.6/site-packages/sklearn/tree/tree.py\u001b[0m in \u001b[0;36mfit\u001b[0;34m(self, X, y, sample_weight, check_input, X_idx_sorted)\u001b[0m\n\u001b[1;32m    364\u001b[0m                                            min_impurity_split)\n\u001b[1;32m    365\u001b[0m \u001b[0;34m\u001b[0m\u001b[0m\n\u001b[0;32m--> 366\u001b[0;31m         \u001b[0mbuilder\u001b[0m\u001b[0;34m.\u001b[0m\u001b[0mbuild\u001b[0m\u001b[0;34m(\u001b[0m\u001b[0mself\u001b[0m\u001b[0;34m.\u001b[0m\u001b[0mtree_\u001b[0m\u001b[0;34m,\u001b[0m \u001b[0mX\u001b[0m\u001b[0;34m,\u001b[0m \u001b[0my\u001b[0m\u001b[0;34m,\u001b[0m \u001b[0msample_weight\u001b[0m\u001b[0;34m,\u001b[0m \u001b[0mX_idx_sorted\u001b[0m\u001b[0;34m)\u001b[0m\u001b[0;34m\u001b[0m\u001b[0;34m\u001b[0m\u001b[0m\n\u001b[0m\u001b[1;32m    367\u001b[0m \u001b[0;34m\u001b[0m\u001b[0m\n\u001b[1;32m    368\u001b[0m         \u001b[0;32mif\u001b[0m \u001b[0mself\u001b[0m\u001b[0;34m.\u001b[0m\u001b[0mn_outputs_\u001b[0m \u001b[0;34m==\u001b[0m \u001b[0;36m1\u001b[0m\u001b[0;34m:\u001b[0m\u001b[0;34m\u001b[0m\u001b[0;34m\u001b[0m\u001b[0m\n",
      "\u001b[0;31mKeyboardInterrupt\u001b[0m: "
     ]
    }
   ],
   "source": [
    "X_train,X_test,y_train,y_test = train_test_split(X,y,test_size = 0.2)\n",
    "\n",
    "gbc = GradientBoostingClassifier()\n",
    "gbc.fit(X_train,y_train)\n",
    "\n",
    "pred = gbc.predict(X_test)\n",
    "proba_pred = gbc.predict_proba(X_test)[:,1]\n",
    "\n",
    "print(classification_report(y_test,pred))\n",
    "print(roc_auc_score(y_test,proba_pred))"
   ]
  },
  {
   "cell_type": "code",
   "execution_count": null,
   "metadata": {},
   "outputs": [],
   "source": [
    "cross_val_score(gbc,X,y,cv=4,scoring ='f1') #worst"
   ]
  },
  {
   "cell_type": "code",
   "execution_count": 8,
   "metadata": {},
   "outputs": [
    {
     "data": {
      "text/plain": [
       "Monthly_Income    0.332669\n",
       "Var5              0.180331\n",
       "Existing_EMI      0.166368\n",
       "age               0.081106\n",
       "Filled_Form_0     0.036072\n",
       "dtype: float64"
      ]
     },
     "execution_count": 8,
     "metadata": {},
     "output_type": "execute_result"
    }
   ],
   "source": [
    "pd.Series(gbc.feature_importances_,index = X.columns).sort_values(ascending = False)[:5]"
   ]
  },
  {
   "cell_type": "code",
   "execution_count": 9,
   "metadata": {},
   "outputs": [
    {
     "data": {
      "text/plain": [
       "array([0.82326532, 0.82107817, 0.85228913, 0.82565632])"
      ]
     },
     "execution_count": 9,
     "metadata": {},
     "output_type": "execute_result"
    }
   ],
   "source": [
    "cross_val_score(gbc,X,y,cv=4,scoring ='roc_auc') #worst"
   ]
  },
  {
   "cell_type": "code",
   "execution_count": 10,
   "metadata": {},
   "outputs": [
    {
     "data": {
      "text/plain": [
       "Monthly_Income    0.332669\n",
       "Var5              0.180331\n",
       "Existing_EMI      0.166368\n",
       "age               0.081106\n",
       "Filled_Form_0     0.036072\n",
       "dtype: float64"
      ]
     },
     "execution_count": 10,
     "metadata": {},
     "output_type": "execute_result"
    }
   ],
   "source": [
    "pd.Series(gbc.feature_importances_,index = X.columns).sort_values(ascending = False)[:5]"
   ]
  },
  {
   "cell_type": "code",
   "execution_count": 34,
   "metadata": {},
   "outputs": [],
   "source": [
    "# first lets tune the model wrt n_estimators once we find high enough value for n_estimators we can proceed towards finding other estimators\n",
    "param_test1 = {'n_estimators':np.arange(20,81,10)}\n",
    "clf_grid_search1 = GradientBoostingClassifier(learning_rate =0.1,\n",
    "                                              min_samples_split = 500,\n",
    "                                              min_samples_leaf = 50,\n",
    "                                              max_depth = 8,\n",
    "                                              max_features = 'sqrt',\n",
    "                                              subsample = 0.8\n",
    "                                             )\n",
    "grid_search1 = GridSearchCV(clf_grid_search1,param_grid = param_test1,scoring = 'roc_auc',cv=5,verbose = 34,n_jobs = -1)"
   ]
  },
  {
   "cell_type": "code",
   "execution_count": 35,
   "metadata": {},
   "outputs": [
    {
     "name": "stdout",
     "output_type": "stream",
     "text": [
      "Fitting 5 folds for each of 7 candidates, totalling 35 fits\n"
     ]
    },
    {
     "name": "stderr",
     "output_type": "stream",
     "text": [
      "[Parallel(n_jobs=-1)]: Using backend LokyBackend with 4 concurrent workers.\n",
      "[Parallel(n_jobs=-1)]: Done   1 tasks      | elapsed:    5.5s\n",
      "[Parallel(n_jobs=-1)]: Done   2 tasks      | elapsed:    5.7s\n",
      "[Parallel(n_jobs=-1)]: Done   3 tasks      | elapsed:    5.9s\n",
      "[Parallel(n_jobs=-1)]: Done   4 tasks      | elapsed:    6.0s\n",
      "[Parallel(n_jobs=-1)]: Done   5 tasks      | elapsed:    9.6s\n",
      "[Parallel(n_jobs=-1)]: Done   6 tasks      | elapsed:   10.7s\n",
      "[Parallel(n_jobs=-1)]: Done   7 tasks      | elapsed:   11.1s\n",
      "[Parallel(n_jobs=-1)]: Done   8 tasks      | elapsed:   11.1s\n",
      "[Parallel(n_jobs=-1)]: Done   9 tasks      | elapsed:   14.7s\n",
      "[Parallel(n_jobs=-1)]: Done  10 tasks      | elapsed:   15.7s\n",
      "[Parallel(n_jobs=-1)]: Done  11 tasks      | elapsed:   17.2s\n",
      "[Parallel(n_jobs=-1)]: Done  12 tasks      | elapsed:   17.7s\n",
      "[Parallel(n_jobs=-1)]: Done  13 tasks      | elapsed:   21.0s\n",
      "[Parallel(n_jobs=-1)]: Done  14 tasks      | elapsed:   21.6s\n",
      "[Parallel(n_jobs=-1)]: Done  15 tasks      | elapsed:   23.5s\n",
      "[Parallel(n_jobs=-1)]: Done  16 tasks      | elapsed:   25.3s\n",
      "[Parallel(n_jobs=-1)]: Done  17 tasks      | elapsed:   28.4s\n",
      "[Parallel(n_jobs=-1)]: Done  18 tasks      | elapsed:   28.9s\n",
      "[Parallel(n_jobs=-1)]: Done  19 tasks      | elapsed:   30.7s\n",
      "[Parallel(n_jobs=-1)]: Done  20 tasks      | elapsed:   32.9s\n",
      "[Parallel(n_jobs=-1)]: Done  21 tasks      | elapsed:   36.7s\n",
      "[Parallel(n_jobs=-1)]: Done  22 tasks      | elapsed:   37.2s\n",
      "[Parallel(n_jobs=-1)]: Done  23 tasks      | elapsed:   38.9s\n",
      "[Parallel(n_jobs=-1)]: Done  24 tasks      | elapsed:   41.6s\n",
      "[Parallel(n_jobs=-1)]: Done  25 tasks      | elapsed:   45.0s\n",
      "[Parallel(n_jobs=-1)]: Done  26 tasks      | elapsed:   46.8s\n",
      "[Parallel(n_jobs=-1)]: Done  27 tasks      | elapsed:   48.4s\n",
      "[Parallel(n_jobs=-1)]: Done  28 tasks      | elapsed:   50.6s\n",
      "[Parallel(n_jobs=-1)]: Done  30 out of  35 | elapsed:   56.3s remaining:    9.4s\n",
      "[Parallel(n_jobs=-1)]: Done  32 out of  35 | elapsed:  1.0min remaining:    5.7s\n",
      "[Parallel(n_jobs=-1)]: Done  35 out of  35 | elapsed:  1.2min finished\n"
     ]
    },
    {
     "data": {
      "text/plain": [
       "GridSearchCV(cv=5, error_score='raise-deprecating',\n",
       "       estimator=GradientBoostingClassifier(criterion='friedman_mse', init=None,\n",
       "              learning_rate=0.1, loss='deviance', max_depth=8,\n",
       "              max_features='sqrt', max_leaf_nodes=None,\n",
       "              min_impurity_decrease=0.0, min_impurity_split=None,\n",
       "              min_samples_leaf=50, min_sa...      subsample=0.8, tol=0.0001, validation_fraction=0.1,\n",
       "              verbose=0, warm_start=False),\n",
       "       fit_params=None, iid='warn', n_jobs=-1,\n",
       "       param_grid={'n_estimators': array([20, 30, 40, 50, 60, 70, 80])},\n",
       "       pre_dispatch='2*n_jobs', refit=True, return_train_score='warn',\n",
       "       scoring='roc_auc', verbose=34)"
      ]
     },
     "execution_count": 35,
     "metadata": {},
     "output_type": "execute_result"
    }
   ],
   "source": [
    "grid_search1.fit(X,y)"
   ]
  },
  {
   "cell_type": "code",
   "execution_count": 36,
   "metadata": {},
   "outputs": [
    {
     "data": {
      "text/plain": [
       "{'n_estimators': 60}"
      ]
     },
     "execution_count": 36,
     "metadata": {},
     "output_type": "execute_result"
    }
   ],
   "source": [
    "grid_search1.best_params_"
   ]
  },
  {
   "cell_type": "code",
   "execution_count": 37,
   "metadata": {},
   "outputs": [
    {
     "data": {
      "text/plain": [
       "0.8383373857198241"
      ]
     },
     "execution_count": 37,
     "metadata": {},
     "output_type": "execute_result"
    }
   ],
   "source": [
    "grid_search1.best_score_"
   ]
  },
  {
   "cell_type": "code",
   "execution_count": 38,
   "metadata": {},
   "outputs": [
    {
     "name": "stderr",
     "output_type": "stream",
     "text": [
      "/home/jupyterlab/conda/envs/python/lib/python3.6/site-packages/sklearn/utils/deprecation.py:125: FutureWarning: You are accessing a training score ('split0_train_score'), which will not be available by default any more in 0.21. If you need training scores, please set return_train_score=True\n",
      "  warnings.warn(*warn_args, **warn_kwargs)\n",
      "/home/jupyterlab/conda/envs/python/lib/python3.6/site-packages/sklearn/utils/deprecation.py:125: FutureWarning: You are accessing a training score ('split1_train_score'), which will not be available by default any more in 0.21. If you need training scores, please set return_train_score=True\n",
      "  warnings.warn(*warn_args, **warn_kwargs)\n",
      "/home/jupyterlab/conda/envs/python/lib/python3.6/site-packages/sklearn/utils/deprecation.py:125: FutureWarning: You are accessing a training score ('split2_train_score'), which will not be available by default any more in 0.21. If you need training scores, please set return_train_score=True\n",
      "  warnings.warn(*warn_args, **warn_kwargs)\n",
      "/home/jupyterlab/conda/envs/python/lib/python3.6/site-packages/sklearn/utils/deprecation.py:125: FutureWarning: You are accessing a training score ('split3_train_score'), which will not be available by default any more in 0.21. If you need training scores, please set return_train_score=True\n",
      "  warnings.warn(*warn_args, **warn_kwargs)\n",
      "/home/jupyterlab/conda/envs/python/lib/python3.6/site-packages/sklearn/utils/deprecation.py:125: FutureWarning: You are accessing a training score ('split4_train_score'), which will not be available by default any more in 0.21. If you need training scores, please set return_train_score=True\n",
      "  warnings.warn(*warn_args, **warn_kwargs)\n",
      "/home/jupyterlab/conda/envs/python/lib/python3.6/site-packages/sklearn/utils/deprecation.py:125: FutureWarning: You are accessing a training score ('mean_train_score'), which will not be available by default any more in 0.21. If you need training scores, please set return_train_score=True\n",
      "  warnings.warn(*warn_args, **warn_kwargs)\n",
      "/home/jupyterlab/conda/envs/python/lib/python3.6/site-packages/sklearn/utils/deprecation.py:125: FutureWarning: You are accessing a training score ('std_train_score'), which will not be available by default any more in 0.21. If you need training scores, please set return_train_score=True\n",
      "  warnings.warn(*warn_args, **warn_kwargs)\n"
     ]
    },
    {
     "data": {
      "text/html": [
       "<div>\n",
       "<style scoped>\n",
       "    .dataframe tbody tr th:only-of-type {\n",
       "        vertical-align: middle;\n",
       "    }\n",
       "\n",
       "    .dataframe tbody tr th {\n",
       "        vertical-align: top;\n",
       "    }\n",
       "\n",
       "    .dataframe thead th {\n",
       "        text-align: right;\n",
       "    }\n",
       "</style>\n",
       "<table border=\"1\" class=\"dataframe\">\n",
       "  <thead>\n",
       "    <tr style=\"text-align: right;\">\n",
       "      <th></th>\n",
       "      <th>0</th>\n",
       "      <th>1</th>\n",
       "      <th>2</th>\n",
       "      <th>3</th>\n",
       "      <th>4</th>\n",
       "      <th>5</th>\n",
       "      <th>6</th>\n",
       "    </tr>\n",
       "  </thead>\n",
       "  <tbody>\n",
       "    <tr>\n",
       "      <th>mean_fit_time</th>\n",
       "      <td>3.64108</td>\n",
       "      <td>4.76747</td>\n",
       "      <td>5.90024</td>\n",
       "      <td>7.04577</td>\n",
       "      <td>7.88844</td>\n",
       "      <td>9.01478</td>\n",
       "      <td>10.1599</td>\n",
       "    </tr>\n",
       "    <tr>\n",
       "      <th>std_fit_time</th>\n",
       "      <td>0.202035</td>\n",
       "      <td>0.158662</td>\n",
       "      <td>0.198599</td>\n",
       "      <td>0.14963</td>\n",
       "      <td>0.156455</td>\n",
       "      <td>0.264341</td>\n",
       "      <td>0.207947</td>\n",
       "    </tr>\n",
       "    <tr>\n",
       "      <th>mean_score_time</th>\n",
       "      <td>0.0428205</td>\n",
       "      <td>0.0475873</td>\n",
       "      <td>0.0575617</td>\n",
       "      <td>0.0680201</td>\n",
       "      <td>0.0832341</td>\n",
       "      <td>0.0810894</td>\n",
       "      <td>0.0854017</td>\n",
       "    </tr>\n",
       "    <tr>\n",
       "      <th>std_score_time</th>\n",
       "      <td>0.00513611</td>\n",
       "      <td>0.00413443</td>\n",
       "      <td>0.00450982</td>\n",
       "      <td>0.00468051</td>\n",
       "      <td>0.0213093</td>\n",
       "      <td>0.00658597</td>\n",
       "      <td>0.00679404</td>\n",
       "    </tr>\n",
       "    <tr>\n",
       "      <th>param_n_estimators</th>\n",
       "      <td>20</td>\n",
       "      <td>30</td>\n",
       "      <td>40</td>\n",
       "      <td>50</td>\n",
       "      <td>60</td>\n",
       "      <td>70</td>\n",
       "      <td>80</td>\n",
       "    </tr>\n",
       "    <tr>\n",
       "      <th>params</th>\n",
       "      <td>{'n_estimators': 20}</td>\n",
       "      <td>{'n_estimators': 30}</td>\n",
       "      <td>{'n_estimators': 40}</td>\n",
       "      <td>{'n_estimators': 50}</td>\n",
       "      <td>{'n_estimators': 60}</td>\n",
       "      <td>{'n_estimators': 70}</td>\n",
       "      <td>{'n_estimators': 80}</td>\n",
       "    </tr>\n",
       "    <tr>\n",
       "      <th>split0_test_score</th>\n",
       "      <td>0.825687</td>\n",
       "      <td>0.817626</td>\n",
       "      <td>0.815522</td>\n",
       "      <td>0.826911</td>\n",
       "      <td>0.83171</td>\n",
       "      <td>0.824332</td>\n",
       "      <td>0.816112</td>\n",
       "    </tr>\n",
       "    <tr>\n",
       "      <th>split1_test_score</th>\n",
       "      <td>0.827472</td>\n",
       "      <td>0.828591</td>\n",
       "      <td>0.825036</td>\n",
       "      <td>0.826994</td>\n",
       "      <td>0.830362</td>\n",
       "      <td>0.830699</td>\n",
       "      <td>0.832849</td>\n",
       "    </tr>\n",
       "    <tr>\n",
       "      <th>split2_test_score</th>\n",
       "      <td>0.840703</td>\n",
       "      <td>0.842643</td>\n",
       "      <td>0.844986</td>\n",
       "      <td>0.845035</td>\n",
       "      <td>0.848935</td>\n",
       "      <td>0.847544</td>\n",
       "      <td>0.850509</td>\n",
       "    </tr>\n",
       "    <tr>\n",
       "      <th>split3_test_score</th>\n",
       "      <td>0.845909</td>\n",
       "      <td>0.850286</td>\n",
       "      <td>0.851747</td>\n",
       "      <td>0.845874</td>\n",
       "      <td>0.847255</td>\n",
       "      <td>0.8484</td>\n",
       "      <td>0.843686</td>\n",
       "    </tr>\n",
       "    <tr>\n",
       "      <th>split4_test_score</th>\n",
       "      <td>0.838287</td>\n",
       "      <td>0.833772</td>\n",
       "      <td>0.833307</td>\n",
       "      <td>0.831269</td>\n",
       "      <td>0.833425</td>\n",
       "      <td>0.834302</td>\n",
       "      <td>0.831477</td>\n",
       "    </tr>\n",
       "    <tr>\n",
       "      <th>mean_test_score</th>\n",
       "      <td>0.835611</td>\n",
       "      <td>0.834583</td>\n",
       "      <td>0.834119</td>\n",
       "      <td>0.835216</td>\n",
       "      <td>0.838337</td>\n",
       "      <td>0.837055</td>\n",
       "      <td>0.834926</td>\n",
       "    </tr>\n",
       "    <tr>\n",
       "      <th>std_test_score</th>\n",
       "      <td>0.00779594</td>\n",
       "      <td>0.0112754</td>\n",
       "      <td>0.0130985</td>\n",
       "      <td>0.0085109</td>\n",
       "      <td>0.00804336</td>\n",
       "      <td>0.0094721</td>\n",
       "      <td>0.0117454</td>\n",
       "    </tr>\n",
       "    <tr>\n",
       "      <th>rank_test_score</th>\n",
       "      <td>3</td>\n",
       "      <td>6</td>\n",
       "      <td>7</td>\n",
       "      <td>4</td>\n",
       "      <td>1</td>\n",
       "      <td>2</td>\n",
       "      <td>5</td>\n",
       "    </tr>\n",
       "    <tr>\n",
       "      <th>split0_train_score</th>\n",
       "      <td>0.887555</td>\n",
       "      <td>0.893256</td>\n",
       "      <td>0.899472</td>\n",
       "      <td>0.907871</td>\n",
       "      <td>0.908433</td>\n",
       "      <td>0.914021</td>\n",
       "      <td>0.913529</td>\n",
       "    </tr>\n",
       "    <tr>\n",
       "      <th>split1_train_score</th>\n",
       "      <td>0.887498</td>\n",
       "      <td>0.89122</td>\n",
       "      <td>0.900684</td>\n",
       "      <td>0.905895</td>\n",
       "      <td>0.906451</td>\n",
       "      <td>0.912052</td>\n",
       "      <td>0.911104</td>\n",
       "    </tr>\n",
       "    <tr>\n",
       "      <th>split2_train_score</th>\n",
       "      <td>0.879542</td>\n",
       "      <td>0.886182</td>\n",
       "      <td>0.894985</td>\n",
       "      <td>0.901825</td>\n",
       "      <td>0.905677</td>\n",
       "      <td>0.905655</td>\n",
       "      <td>0.910709</td>\n",
       "    </tr>\n",
       "    <tr>\n",
       "      <th>split3_train_score</th>\n",
       "      <td>0.878787</td>\n",
       "      <td>0.891779</td>\n",
       "      <td>0.895719</td>\n",
       "      <td>0.907283</td>\n",
       "      <td>0.908201</td>\n",
       "      <td>0.912837</td>\n",
       "      <td>0.916952</td>\n",
       "    </tr>\n",
       "    <tr>\n",
       "      <th>split4_train_score</th>\n",
       "      <td>0.881723</td>\n",
       "      <td>0.891355</td>\n",
       "      <td>0.897274</td>\n",
       "      <td>0.903354</td>\n",
       "      <td>0.908723</td>\n",
       "      <td>0.910003</td>\n",
       "      <td>0.91581</td>\n",
       "    </tr>\n",
       "    <tr>\n",
       "      <th>mean_train_score</th>\n",
       "      <td>0.883021</td>\n",
       "      <td>0.890758</td>\n",
       "      <td>0.897627</td>\n",
       "      <td>0.905246</td>\n",
       "      <td>0.907497</td>\n",
       "      <td>0.910914</td>\n",
       "      <td>0.913621</td>\n",
       "    </tr>\n",
       "    <tr>\n",
       "      <th>std_train_score</th>\n",
       "      <td>0.0038029</td>\n",
       "      <td>0.00239961</td>\n",
       "      <td>0.00216761</td>\n",
       "      <td>0.00231269</td>\n",
       "      <td>0.00120677</td>\n",
       "      <td>0.0029371</td>\n",
       "      <td>0.00247828</td>\n",
       "    </tr>\n",
       "  </tbody>\n",
       "</table>\n",
       "</div>"
      ],
      "text/plain": [
       "                                       0                     1  \\\n",
       "mean_fit_time                    3.64108               4.76747   \n",
       "std_fit_time                    0.202035              0.158662   \n",
       "mean_score_time                0.0428205             0.0475873   \n",
       "std_score_time                0.00513611            0.00413443   \n",
       "param_n_estimators                    20                    30   \n",
       "params              {'n_estimators': 20}  {'n_estimators': 30}   \n",
       "split0_test_score               0.825687              0.817626   \n",
       "split1_test_score               0.827472              0.828591   \n",
       "split2_test_score               0.840703              0.842643   \n",
       "split3_test_score               0.845909              0.850286   \n",
       "split4_test_score               0.838287              0.833772   \n",
       "mean_test_score                 0.835611              0.834583   \n",
       "std_test_score                0.00779594             0.0112754   \n",
       "rank_test_score                        3                     6   \n",
       "split0_train_score              0.887555              0.893256   \n",
       "split1_train_score              0.887498               0.89122   \n",
       "split2_train_score              0.879542              0.886182   \n",
       "split3_train_score              0.878787              0.891779   \n",
       "split4_train_score              0.881723              0.891355   \n",
       "mean_train_score                0.883021              0.890758   \n",
       "std_train_score                0.0038029            0.00239961   \n",
       "\n",
       "                                       2                     3  \\\n",
       "mean_fit_time                    5.90024               7.04577   \n",
       "std_fit_time                    0.198599               0.14963   \n",
       "mean_score_time                0.0575617             0.0680201   \n",
       "std_score_time                0.00450982            0.00468051   \n",
       "param_n_estimators                    40                    50   \n",
       "params              {'n_estimators': 40}  {'n_estimators': 50}   \n",
       "split0_test_score               0.815522              0.826911   \n",
       "split1_test_score               0.825036              0.826994   \n",
       "split2_test_score               0.844986              0.845035   \n",
       "split3_test_score               0.851747              0.845874   \n",
       "split4_test_score               0.833307              0.831269   \n",
       "mean_test_score                 0.834119              0.835216   \n",
       "std_test_score                 0.0130985             0.0085109   \n",
       "rank_test_score                        7                     4   \n",
       "split0_train_score              0.899472              0.907871   \n",
       "split1_train_score              0.900684              0.905895   \n",
       "split2_train_score              0.894985              0.901825   \n",
       "split3_train_score              0.895719              0.907283   \n",
       "split4_train_score              0.897274              0.903354   \n",
       "mean_train_score                0.897627              0.905246   \n",
       "std_train_score               0.00216761            0.00231269   \n",
       "\n",
       "                                       4                     5  \\\n",
       "mean_fit_time                    7.88844               9.01478   \n",
       "std_fit_time                    0.156455              0.264341   \n",
       "mean_score_time                0.0832341             0.0810894   \n",
       "std_score_time                 0.0213093            0.00658597   \n",
       "param_n_estimators                    60                    70   \n",
       "params              {'n_estimators': 60}  {'n_estimators': 70}   \n",
       "split0_test_score                0.83171              0.824332   \n",
       "split1_test_score               0.830362              0.830699   \n",
       "split2_test_score               0.848935              0.847544   \n",
       "split3_test_score               0.847255                0.8484   \n",
       "split4_test_score               0.833425              0.834302   \n",
       "mean_test_score                 0.838337              0.837055   \n",
       "std_test_score                0.00804336             0.0094721   \n",
       "rank_test_score                        1                     2   \n",
       "split0_train_score              0.908433              0.914021   \n",
       "split1_train_score              0.906451              0.912052   \n",
       "split2_train_score              0.905677              0.905655   \n",
       "split3_train_score              0.908201              0.912837   \n",
       "split4_train_score              0.908723              0.910003   \n",
       "mean_train_score                0.907497              0.910914   \n",
       "std_train_score               0.00120677             0.0029371   \n",
       "\n",
       "                                       6  \n",
       "mean_fit_time                    10.1599  \n",
       "std_fit_time                    0.207947  \n",
       "mean_score_time                0.0854017  \n",
       "std_score_time                0.00679404  \n",
       "param_n_estimators                    80  \n",
       "params              {'n_estimators': 80}  \n",
       "split0_test_score               0.816112  \n",
       "split1_test_score               0.832849  \n",
       "split2_test_score               0.850509  \n",
       "split3_test_score               0.843686  \n",
       "split4_test_score               0.831477  \n",
       "mean_test_score                 0.834926  \n",
       "std_test_score                 0.0117454  \n",
       "rank_test_score                        5  \n",
       "split0_train_score              0.913529  \n",
       "split1_train_score              0.911104  \n",
       "split2_train_score              0.910709  \n",
       "split3_train_score              0.916952  \n",
       "split4_train_score               0.91581  \n",
       "mean_train_score                0.913621  \n",
       "std_train_score               0.00247828  "
      ]
     },
     "execution_count": 38,
     "metadata": {},
     "output_type": "execute_result"
    }
   ],
   "source": [
    "pd.DataFrame(grid_search1.cv_results_).T"
   ]
  },
  {
   "cell_type": "code",
   "execution_count": 60,
   "metadata": {},
   "outputs": [],
   "source": [
    "param_test2 = {'max_depth':np.arange(5,15,2),\n",
    "               'min_samples_split':np.arange(200,1001,200)\n",
    "              }\n",
    "# we got n estimator as 60 lets substitute it and tune other parameters\n",
    "clf_grid_search2 = GradientBoostingClassifier(learning_rate = 0.1,\n",
    "                                              n_estimators = 60,\n",
    "                                              max_features = 'sqrt',\n",
    "                                              subsample = 0.8,\n",
    "                                             )\n",
    "grid_search2 = GridSearchCV(clf_grid_search2,param_grid = param_test2,cv=5,verbose = 40,n_jobs = -1,scoring = 'roc_auc')"
   ]
  },
  {
   "cell_type": "code",
   "execution_count": 61,
   "metadata": {},
   "outputs": [
    {
     "name": "stdout",
     "output_type": "stream",
     "text": [
      "Fitting 5 folds for each of 25 candidates, totalling 125 fits\n"
     ]
    },
    {
     "name": "stderr",
     "output_type": "stream",
     "text": [
      "[Parallel(n_jobs=-1)]: Using backend LokyBackend with 4 concurrent workers.\n",
      "[Parallel(n_jobs=-1)]: Done   1 tasks      | elapsed:    5.2s\n",
      "[Parallel(n_jobs=-1)]: Done   2 tasks      | elapsed:    5.3s\n",
      "[Parallel(n_jobs=-1)]: Done   3 tasks      | elapsed:    5.4s\n",
      "[Parallel(n_jobs=-1)]: Done   4 tasks      | elapsed:    5.5s\n",
      "[Parallel(n_jobs=-1)]: Done   5 tasks      | elapsed:   10.1s\n",
      "[Parallel(n_jobs=-1)]: Done   6 tasks      | elapsed:   10.4s\n",
      "[Parallel(n_jobs=-1)]: Done   7 tasks      | elapsed:   10.5s\n",
      "[Parallel(n_jobs=-1)]: Done   8 tasks      | elapsed:   10.8s\n",
      "[Parallel(n_jobs=-1)]: Done   9 tasks      | elapsed:   15.2s\n",
      "[Parallel(n_jobs=-1)]: Done  10 tasks      | elapsed:   15.4s\n",
      "[Parallel(n_jobs=-1)]: Done  11 tasks      | elapsed:   15.7s\n",
      "[Parallel(n_jobs=-1)]: Done  12 tasks      | elapsed:   15.9s\n",
      "[Parallel(n_jobs=-1)]: Done  13 tasks      | elapsed:   20.2s\n",
      "[Parallel(n_jobs=-1)]: Done  14 tasks      | elapsed:   20.4s\n",
      "[Parallel(n_jobs=-1)]: Done  15 tasks      | elapsed:   20.7s\n",
      "[Parallel(n_jobs=-1)]: Done  16 tasks      | elapsed:   20.9s\n",
      "[Parallel(n_jobs=-1)]: Done  17 tasks      | elapsed:   25.2s\n",
      "[Parallel(n_jobs=-1)]: Done  18 tasks      | elapsed:   25.3s\n",
      "[Parallel(n_jobs=-1)]: Done  19 tasks      | elapsed:   25.3s\n",
      "[Parallel(n_jobs=-1)]: Done  20 tasks      | elapsed:   25.8s\n",
      "[Parallel(n_jobs=-1)]: Done  21 tasks      | elapsed:   29.8s\n",
      "[Parallel(n_jobs=-1)]: Done  22 tasks      | elapsed:   29.9s\n",
      "[Parallel(n_jobs=-1)]: Done  23 tasks      | elapsed:   30.1s\n",
      "[Parallel(n_jobs=-1)]: Done  24 tasks      | elapsed:   30.5s\n",
      "[Parallel(n_jobs=-1)]: Done  25 tasks      | elapsed:   34.6s\n",
      "[Parallel(n_jobs=-1)]: Done  26 tasks      | elapsed:   38.1s\n",
      "[Parallel(n_jobs=-1)]: Done  27 tasks      | elapsed:   38.4s\n",
      "[Parallel(n_jobs=-1)]: Done  28 tasks      | elapsed:   38.4s\n",
      "[Parallel(n_jobs=-1)]: Done  29 tasks      | elapsed:   42.3s\n",
      "[Parallel(n_jobs=-1)]: Done  30 tasks      | elapsed:   45.7s\n",
      "[Parallel(n_jobs=-1)]: Done  31 tasks      | elapsed:   45.7s\n",
      "[Parallel(n_jobs=-1)]: Done  32 tasks      | elapsed:   45.9s\n",
      "[Parallel(n_jobs=-1)]: Done  33 tasks      | elapsed:   49.5s\n",
      "[Parallel(n_jobs=-1)]: Done  34 tasks      | elapsed:   52.6s\n",
      "[Parallel(n_jobs=-1)]: Done  35 tasks      | elapsed:   52.9s\n",
      "[Parallel(n_jobs=-1)]: Done  36 tasks      | elapsed:   53.3s\n",
      "[Parallel(n_jobs=-1)]: Done  37 tasks      | elapsed:   56.6s\n",
      "[Parallel(n_jobs=-1)]: Done  38 tasks      | elapsed:   59.4s\n",
      "[Parallel(n_jobs=-1)]: Done  39 tasks      | elapsed:   59.9s\n",
      "[Parallel(n_jobs=-1)]: Done  40 tasks      | elapsed:  1.0min\n",
      "[Parallel(n_jobs=-1)]: Done  41 tasks      | elapsed:  1.1min\n",
      "[Parallel(n_jobs=-1)]: Done  42 tasks      | elapsed:  1.1min\n",
      "[Parallel(n_jobs=-1)]: Done  43 tasks      | elapsed:  1.1min\n",
      "[Parallel(n_jobs=-1)]: Done  44 tasks      | elapsed:  1.1min\n",
      "[Parallel(n_jobs=-1)]: Done  45 tasks      | elapsed:  1.2min\n",
      "[Parallel(n_jobs=-1)]: Done  46 tasks      | elapsed:  1.2min\n",
      "[Parallel(n_jobs=-1)]: Done  47 tasks      | elapsed:  1.2min\n",
      "[Parallel(n_jobs=-1)]: Done  48 tasks      | elapsed:  1.2min\n",
      "[Parallel(n_jobs=-1)]: Done  49 tasks      | elapsed:  1.3min\n",
      "[Parallel(n_jobs=-1)]: Done  50 tasks      | elapsed:  1.3min\n",
      "[Parallel(n_jobs=-1)]: Done  51 tasks      | elapsed:  1.4min\n",
      "[Parallel(n_jobs=-1)]: Done  52 tasks      | elapsed:  1.4min\n",
      "[Parallel(n_jobs=-1)]: Done  53 tasks      | elapsed:  1.5min\n",
      "[Parallel(n_jobs=-1)]: Done  54 tasks      | elapsed:  1.5min\n",
      "[Parallel(n_jobs=-1)]: Done  55 tasks      | elapsed:  1.6min\n",
      "[Parallel(n_jobs=-1)]: Done  56 tasks      | elapsed:  1.6min\n",
      "[Parallel(n_jobs=-1)]: Done  57 tasks      | elapsed:  1.7min\n",
      "[Parallel(n_jobs=-1)]: Done  58 tasks      | elapsed:  1.7min\n",
      "[Parallel(n_jobs=-1)]: Done  59 tasks      | elapsed:  1.8min\n",
      "[Parallel(n_jobs=-1)]: Done  60 tasks      | elapsed:  1.8min\n",
      "[Parallel(n_jobs=-1)]: Done  61 tasks      | elapsed:  1.8min\n",
      "[Parallel(n_jobs=-1)]: Done  62 tasks      | elapsed:  1.9min\n",
      "[Parallel(n_jobs=-1)]: Done  63 tasks      | elapsed:  1.9min\n",
      "[Parallel(n_jobs=-1)]: Done  64 tasks      | elapsed:  2.0min\n",
      "[Parallel(n_jobs=-1)]: Done  65 tasks      | elapsed:  2.0min\n",
      "[Parallel(n_jobs=-1)]: Done  66 tasks      | elapsed:  2.0min\n",
      "[Parallel(n_jobs=-1)]: Done  67 tasks      | elapsed:  2.1min\n",
      "[Parallel(n_jobs=-1)]: Done  68 tasks      | elapsed:  2.1min\n",
      "[Parallel(n_jobs=-1)]: Done  69 tasks      | elapsed:  2.1min\n",
      "[Parallel(n_jobs=-1)]: Done  70 tasks      | elapsed:  2.2min\n",
      "[Parallel(n_jobs=-1)]: Done  71 tasks      | elapsed:  2.2min\n",
      "[Parallel(n_jobs=-1)]: Done  72 tasks      | elapsed:  2.3min\n",
      "[Parallel(n_jobs=-1)]: Done  73 tasks      | elapsed:  2.3min\n",
      "[Parallel(n_jobs=-1)]: Done  74 tasks      | elapsed:  2.3min\n",
      "[Parallel(n_jobs=-1)]: Done  75 tasks      | elapsed:  2.4min\n",
      "[Parallel(n_jobs=-1)]: Done  76 tasks      | elapsed:  2.5min\n",
      "[Parallel(n_jobs=-1)]: Done  77 tasks      | elapsed:  2.5min\n",
      "[Parallel(n_jobs=-1)]: Done  78 tasks      | elapsed:  2.6min\n",
      "[Parallel(n_jobs=-1)]: Done  79 tasks      | elapsed:  2.6min\n",
      "[Parallel(n_jobs=-1)]: Done  80 tasks      | elapsed:  2.7min\n",
      "[Parallel(n_jobs=-1)]: Done  81 tasks      | elapsed:  2.8min\n",
      "[Parallel(n_jobs=-1)]: Done  82 tasks      | elapsed:  2.8min\n",
      "[Parallel(n_jobs=-1)]: Done  83 tasks      | elapsed:  2.8min\n",
      "[Parallel(n_jobs=-1)]: Done  84 tasks      | elapsed:  3.0min\n",
      "[Parallel(n_jobs=-1)]: Done  85 tasks      | elapsed:  3.0min\n",
      "[Parallel(n_jobs=-1)]: Done  86 tasks      | elapsed:  3.0min\n",
      "[Parallel(n_jobs=-1)]: Done  87 tasks      | elapsed:  3.0min\n",
      "[Parallel(n_jobs=-1)]: Done  88 tasks      | elapsed:  3.1min\n",
      "[Parallel(n_jobs=-1)]: Done  89 tasks      | elapsed:  3.2min\n",
      "[Parallel(n_jobs=-1)]: Done  90 tasks      | elapsed:  3.2min\n",
      "[Parallel(n_jobs=-1)]: Done  91 tasks      | elapsed:  3.2min\n",
      "[Parallel(n_jobs=-1)]: Done  92 tasks      | elapsed:  3.3min\n",
      "[Parallel(n_jobs=-1)]: Done  93 tasks      | elapsed:  3.4min\n",
      "[Parallel(n_jobs=-1)]: Done  94 tasks      | elapsed:  3.4min\n",
      "[Parallel(n_jobs=-1)]: Done  95 tasks      | elapsed:  3.4min\n",
      "[Parallel(n_jobs=-1)]: Done  96 tasks      | elapsed:  3.5min\n",
      "[Parallel(n_jobs=-1)]: Done  97 tasks      | elapsed:  3.5min\n",
      "[Parallel(n_jobs=-1)]: Done  98 tasks      | elapsed:  3.5min\n",
      "[Parallel(n_jobs=-1)]: Done  99 tasks      | elapsed:  3.6min\n",
      "[Parallel(n_jobs=-1)]: Done 100 tasks      | elapsed:  3.7min\n",
      "[Parallel(n_jobs=-1)]: Done 101 tasks      | elapsed:  3.8min\n",
      "[Parallel(n_jobs=-1)]: Done 102 tasks      | elapsed:  3.8min\n",
      "[Parallel(n_jobs=-1)]: Done 103 tasks      | elapsed:  3.9min\n",
      "[Parallel(n_jobs=-1)]: Done 104 tasks      | elapsed:  4.0min\n",
      "[Parallel(n_jobs=-1)]: Done 105 tasks      | elapsed:  4.1min\n",
      "[Parallel(n_jobs=-1)]: Done 106 tasks      | elapsed:  4.2min\n",
      "[Parallel(n_jobs=-1)]: Done 107 tasks      | elapsed:  4.2min\n",
      "[Parallel(n_jobs=-1)]: Done 108 tasks      | elapsed:  4.3min\n",
      "[Parallel(n_jobs=-1)]: Done 109 tasks      | elapsed:  4.4min\n",
      "[Parallel(n_jobs=-1)]: Done 110 tasks      | elapsed:  4.4min\n",
      "[Parallel(n_jobs=-1)]: Done 111 tasks      | elapsed:  4.4min\n",
      "[Parallel(n_jobs=-1)]: Done 112 tasks      | elapsed:  4.5min\n",
      "[Parallel(n_jobs=-1)]: Done 113 tasks      | elapsed:  4.6min\n",
      "[Parallel(n_jobs=-1)]: Done 114 tasks      | elapsed:  4.7min\n",
      "[Parallel(n_jobs=-1)]: Done 115 tasks      | elapsed:  4.7min\n",
      "[Parallel(n_jobs=-1)]: Done 116 tasks      | elapsed:  4.7min\n",
      "[Parallel(n_jobs=-1)]: Done 117 tasks      | elapsed:  4.8min\n",
      "[Parallel(n_jobs=-1)]: Done 118 tasks      | elapsed:  4.9min\n",
      "[Parallel(n_jobs=-1)]: Done 122 out of 125 | elapsed:  5.1min remaining:    7.5s\n",
      "[Parallel(n_jobs=-1)]: Done 125 out of 125 | elapsed:  5.3min finished\n"
     ]
    },
    {
     "data": {
      "text/plain": [
       "GridSearchCV(cv=5, error_score='raise-deprecating',\n",
       "       estimator=GradientBoostingClassifier(criterion='friedman_mse', init=None,\n",
       "              learning_rate=0.1, loss='deviance', max_depth=3,\n",
       "              max_features='sqrt', max_leaf_nodes=None,\n",
       "              min_impurity_decrease=0.0, min_impurity_split=None,\n",
       "              min_samples_leaf=1, min_sam...      subsample=0.8, tol=0.0001, validation_fraction=0.1,\n",
       "              verbose=0, warm_start=False),\n",
       "       fit_params=None, iid='warn', n_jobs=-1,\n",
       "       param_grid={'max_depth': array([ 5,  7,  9, 11, 13]), 'min_samples_split': array([ 200,  400,  600,  800, 1000])},\n",
       "       pre_dispatch='2*n_jobs', refit=True, return_train_score='warn',\n",
       "       scoring='roc_auc', verbose=40)"
      ]
     },
     "execution_count": 61,
     "metadata": {},
     "output_type": "execute_result"
    }
   ],
   "source": [
    "grid_search2.fit(X,y)"
   ]
  },
  {
   "cell_type": "code",
   "execution_count": 67,
   "metadata": {},
   "outputs": [
    {
     "data": {
      "text/plain": [
       "0.8363839709717107"
      ]
     },
     "execution_count": 67,
     "metadata": {},
     "output_type": "execute_result"
    }
   ],
   "source": [
    "grid_search2.best_score_"
   ]
  },
  {
   "cell_type": "code",
   "execution_count": 68,
   "metadata": {},
   "outputs": [
    {
     "data": {
      "text/plain": [
       "{'max_depth': 7, 'min_samples_split': 800}"
      ]
     },
     "execution_count": 68,
     "metadata": {},
     "output_type": "execute_result"
    }
   ],
   "source": [
    "grid_search2.best_params_"
   ]
  },
  {
   "cell_type": "code",
   "execution_count": 87,
   "metadata": {},
   "outputs": [],
   "source": [
    "param_test3 = {\n",
    "               'min_samples_leaf':np.arange(30,71,10)\n",
    "              }\n",
    "# we got n estimator as 60 lets substitute it and tune other parameters\n",
    "clf_grid_search3 = GradientBoostingClassifier(learning_rate = 0.1,\n",
    "                                              n_estimators = 60,\n",
    "                                              max_features = 'sqrt',\n",
    "                                              subsample = 0.8,\n",
    "                                              max_depth = 7,\n",
    "                                              min_samples_split = 800\n",
    "                                             )\n",
    "grid_search3 = GridSearchCV(clf_grid_search3,param_grid = param_test3,cv=5,verbose = 40,n_jobs = -1,scoring = 'roc_auc')"
   ]
  },
  {
   "cell_type": "code",
   "execution_count": 88,
   "metadata": {},
   "outputs": [
    {
     "name": "stdout",
     "output_type": "stream",
     "text": [
      "Fitting 5 folds for each of 5 candidates, totalling 25 fits\n"
     ]
    },
    {
     "name": "stderr",
     "output_type": "stream",
     "text": [
      "[Parallel(n_jobs=-1)]: Using backend LokyBackend with 4 concurrent workers.\n",
      "[Parallel(n_jobs=-1)]: Done   1 tasks      | elapsed:    8.8s\n",
      "[Parallel(n_jobs=-1)]: Done   2 tasks      | elapsed:    8.9s\n",
      "[Parallel(n_jobs=-1)]: Done   3 tasks      | elapsed:    8.9s\n",
      "[Parallel(n_jobs=-1)]: Done   4 tasks      | elapsed:    9.1s\n",
      "[Parallel(n_jobs=-1)]: Done   5 tasks      | elapsed:   15.6s\n",
      "[Parallel(n_jobs=-1)]: Done   6 tasks      | elapsed:   15.7s\n",
      "[Parallel(n_jobs=-1)]: Done   7 tasks      | elapsed:   16.0s\n",
      "[Parallel(n_jobs=-1)]: Done   8 tasks      | elapsed:   16.2s\n",
      "[Parallel(n_jobs=-1)]: Done   9 tasks      | elapsed:   22.7s\n",
      "[Parallel(n_jobs=-1)]: Done  10 tasks      | elapsed:   22.8s\n",
      "[Parallel(n_jobs=-1)]: Done  11 tasks      | elapsed:   23.0s\n",
      "[Parallel(n_jobs=-1)]: Done  12 tasks      | elapsed:   23.0s\n",
      "[Parallel(n_jobs=-1)]: Done  13 tasks      | elapsed:   29.7s\n",
      "[Parallel(n_jobs=-1)]: Done  14 tasks      | elapsed:   29.9s\n",
      "[Parallel(n_jobs=-1)]: Done  15 tasks      | elapsed:   29.9s\n",
      "[Parallel(n_jobs=-1)]: Done  16 tasks      | elapsed:   30.3s\n",
      "[Parallel(n_jobs=-1)]: Done  17 tasks      | elapsed:   36.7s\n",
      "[Parallel(n_jobs=-1)]: Done  18 tasks      | elapsed:   36.7s\n",
      "[Parallel(n_jobs=-1)]: Done  19 out of  25 | elapsed:   37.3s remaining:   11.8s\n",
      "[Parallel(n_jobs=-1)]: Done  20 out of  25 | elapsed:   37.7s remaining:    9.4s\n",
      "[Parallel(n_jobs=-1)]: Done  21 out of  25 | elapsed:   43.3s remaining:    8.2s\n",
      "[Parallel(n_jobs=-1)]: Done  22 out of  25 | elapsed:   43.9s remaining:    6.0s\n",
      "[Parallel(n_jobs=-1)]: Done  23 out of  25 | elapsed:   43.9s remaining:    3.8s\n",
      "[Parallel(n_jobs=-1)]: Done  25 out of  25 | elapsed:   49.8s remaining:    0.0s\n",
      "[Parallel(n_jobs=-1)]: Done  25 out of  25 | elapsed:   49.8s finished\n"
     ]
    },
    {
     "data": {
      "text/plain": [
       "GridSearchCV(cv=5, error_score='raise-deprecating',\n",
       "       estimator=GradientBoostingClassifier(criterion='friedman_mse', init=None,\n",
       "              learning_rate=0.1, loss='deviance', max_depth=7,\n",
       "              max_features='sqrt', max_leaf_nodes=None,\n",
       "              min_impurity_decrease=0.0, min_impurity_split=None,\n",
       "              min_samples_leaf=1, min_sam...      subsample=0.8, tol=0.0001, validation_fraction=0.1,\n",
       "              verbose=0, warm_start=False),\n",
       "       fit_params=None, iid='warn', n_jobs=-1,\n",
       "       param_grid={'min_samples_leaf': array([30, 40, 50, 60, 70])},\n",
       "       pre_dispatch='2*n_jobs', refit=True, return_train_score='warn',\n",
       "       scoring='roc_auc', verbose=40)"
      ]
     },
     "execution_count": 88,
     "metadata": {},
     "output_type": "execute_result"
    }
   ],
   "source": [
    "grid_search3.fit(X,y)"
   ]
  },
  {
   "cell_type": "code",
   "execution_count": 89,
   "metadata": {},
   "outputs": [
    {
     "data": {
      "text/plain": [
       "0.83625454631656"
      ]
     },
     "execution_count": 89,
     "metadata": {},
     "output_type": "execute_result"
    }
   ],
   "source": [
    "grid_search3.best_score_"
   ]
  },
  {
   "cell_type": "code",
   "execution_count": 90,
   "metadata": {},
   "outputs": [
    {
     "data": {
      "text/plain": [
       "{'min_samples_leaf': 40}"
      ]
     },
     "execution_count": 90,
     "metadata": {},
     "output_type": "execute_result"
    }
   ],
   "source": [
    "grid_search3.best_params_"
   ]
  },
  {
   "cell_type": "code",
   "execution_count": 93,
   "metadata": {},
   "outputs": [],
   "source": [
    "param_test4 = {\n",
    "               'max_features':np.arange(7,20,2)\n",
    "              }\n",
    "# we got n estimator as 60 lets substitute it and tune other parameters\n",
    "clf_grid_search4 = GradientBoostingClassifier(learning_rate = 0.1,\n",
    "                                              n_estimators = 60,\n",
    "                                              max_features = 'sqrt',\n",
    "                                              subsample = 0.8,\n",
    "                                              max_depth = 7,\n",
    "                                              min_samples_split = 800,\n",
    "                                              min_samples_leaf = 40\n",
    "                                  \n",
    "                                             \n",
    "                                             )\n",
    "grid_search4 = GridSearchCV(clf_grid_search4,param_grid = param_test4,cv=5,verbose = 40,n_jobs = -1,scoring = 'roc_auc')"
   ]
  },
  {
   "cell_type": "code",
   "execution_count": 94,
   "metadata": {},
   "outputs": [
    {
     "name": "stdout",
     "output_type": "stream",
     "text": [
      "Fitting 5 folds for each of 7 candidates, totalling 35 fits\n"
     ]
    },
    {
     "name": "stderr",
     "output_type": "stream",
     "text": [
      "[Parallel(n_jobs=-1)]: Using backend LokyBackend with 4 concurrent workers.\n",
      "[Parallel(n_jobs=-1)]: Done   1 tasks      | elapsed:    6.6s\n",
      "[Parallel(n_jobs=-1)]: Done   2 tasks      | elapsed:    6.8s\n",
      "[Parallel(n_jobs=-1)]: Done   3 tasks      | elapsed:    7.0s\n",
      "[Parallel(n_jobs=-1)]: Done   4 tasks      | elapsed:    7.3s\n",
      "[Parallel(n_jobs=-1)]: Done   5 tasks      | elapsed:   13.8s\n",
      "[Parallel(n_jobs=-1)]: Done   6 tasks      | elapsed:   14.7s\n",
      "[Parallel(n_jobs=-1)]: Done   7 tasks      | elapsed:   15.3s\n",
      "[Parallel(n_jobs=-1)]: Done   8 tasks      | elapsed:   16.0s\n",
      "[Parallel(n_jobs=-1)]: Done   9 tasks      | elapsed:   22.1s\n",
      "[Parallel(n_jobs=-1)]: Done  10 tasks      | elapsed:   23.3s\n",
      "[Parallel(n_jobs=-1)]: Done  11 tasks      | elapsed:   25.2s\n",
      "[Parallel(n_jobs=-1)]: Done  12 tasks      | elapsed:   26.1s\n",
      "[Parallel(n_jobs=-1)]: Done  13 tasks      | elapsed:   33.0s\n",
      "[Parallel(n_jobs=-1)]: Done  14 tasks      | elapsed:   33.9s\n",
      "[Parallel(n_jobs=-1)]: Done  15 tasks      | elapsed:   35.7s\n",
      "[Parallel(n_jobs=-1)]: Done  16 tasks      | elapsed:   37.7s\n",
      "[Parallel(n_jobs=-1)]: Done  17 tasks      | elapsed:   44.1s\n",
      "[Parallel(n_jobs=-1)]: Done  18 tasks      | elapsed:   44.2s\n",
      "[Parallel(n_jobs=-1)]: Done  19 tasks      | elapsed:   47.1s\n",
      "[Parallel(n_jobs=-1)]: Done  20 tasks      | elapsed:   48.0s\n",
      "[Parallel(n_jobs=-1)]: Done  21 tasks      | elapsed:   56.0s\n",
      "[Parallel(n_jobs=-1)]: Done  22 tasks      | elapsed:   56.0s\n",
      "[Parallel(n_jobs=-1)]: Done  23 tasks      | elapsed:   59.3s\n",
      "[Parallel(n_jobs=-1)]: Done  24 tasks      | elapsed:   59.7s\n",
      "[Parallel(n_jobs=-1)]: Done  25 tasks      | elapsed:  1.1min\n",
      "[Parallel(n_jobs=-1)]: Done  26 tasks      | elapsed:  1.1min\n",
      "[Parallel(n_jobs=-1)]: Done  27 tasks      | elapsed:  1.2min\n",
      "[Parallel(n_jobs=-1)]: Done  28 tasks      | elapsed:  1.2min\n",
      "[Parallel(n_jobs=-1)]: Done  29 out of  35 | elapsed:  1.3min remaining:   16.7s\n",
      "[Parallel(n_jobs=-1)]: Done  30 out of  35 | elapsed:  1.4min remaining:   13.5s\n",
      "[Parallel(n_jobs=-1)]: Done  31 out of  35 | elapsed:  1.4min remaining:   11.0s\n",
      "[Parallel(n_jobs=-1)]: Done  32 out of  35 | elapsed:  1.4min remaining:    8.1s\n",
      "[Parallel(n_jobs=-1)]: Done  33 out of  35 | elapsed:  1.6min remaining:    5.7s\n",
      "[Parallel(n_jobs=-1)]: Done  35 out of  35 | elapsed:  1.6min remaining:    0.0s\n",
      "[Parallel(n_jobs=-1)]: Done  35 out of  35 | elapsed:  1.6min finished\n"
     ]
    },
    {
     "data": {
      "text/plain": [
       "GridSearchCV(cv=5, error_score='raise-deprecating',\n",
       "       estimator=GradientBoostingClassifier(criterion='friedman_mse', init=None,\n",
       "              learning_rate=0.1, loss='deviance', max_depth=7,\n",
       "              max_features='sqrt', max_leaf_nodes=None,\n",
       "              min_impurity_decrease=0.0, min_impurity_split=None,\n",
       "              min_samples_leaf=40, min_sa...      subsample=0.8, tol=0.0001, validation_fraction=0.1,\n",
       "              verbose=0, warm_start=False),\n",
       "       fit_params=None, iid='warn', n_jobs=-1,\n",
       "       param_grid={'max_features': array([ 7,  9, 11, 13, 15, 17, 19])},\n",
       "       pre_dispatch='2*n_jobs', refit=True, return_train_score='warn',\n",
       "       scoring='roc_auc', verbose=40)"
      ]
     },
     "execution_count": 94,
     "metadata": {},
     "output_type": "execute_result"
    }
   ],
   "source": [
    "grid_search4.fit(X,y)"
   ]
  },
  {
   "cell_type": "code",
   "execution_count": 96,
   "metadata": {},
   "outputs": [
    {
     "data": {
      "text/plain": [
       "0.8377024361750197"
      ]
     },
     "execution_count": 96,
     "metadata": {},
     "output_type": "execute_result"
    }
   ],
   "source": [
    "grid_search4.best_score_"
   ]
  },
  {
   "cell_type": "code",
   "execution_count": 97,
   "metadata": {},
   "outputs": [
    {
     "data": {
      "text/plain": [
       "{'max_features': 9}"
      ]
     },
     "execution_count": 97,
     "metadata": {},
     "output_type": "execute_result"
    }
   ],
   "source": [
    "grid_search4.best_params_"
   ]
  },
  {
   "cell_type": "code",
   "execution_count": 101,
   "metadata": {},
   "outputs": [],
   "source": [
    "param_test5 = {\n",
    "               'subsample':[0.6,0.7,0.75,0.8,0.85,0.9]\n",
    "              }\n",
    "# we got n estimator as 60 lets substitute it and tune other parameters\n",
    "clf_grid_search5 = GradientBoostingClassifier(learning_rate = 0.1,\n",
    "                                              n_estimators = 60,\n",
    "                                              subsample = 0.8,\n",
    "                                              max_depth = 7,\n",
    "                                              min_samples_split = 800,\n",
    "                                              min_samples_leaf = 40,\n",
    "                                              max_features = 9\n",
    "                                             )\n",
    "grid_search4 = GridSearchCV(clf_grid_search5,param_grid = param_test5,cv=5,verbose = 40,n_jobs = -1,scoring = 'roc_auc')"
   ]
  },
  {
   "cell_type": "code",
   "execution_count": 102,
   "metadata": {},
   "outputs": [
    {
     "name": "stdout",
     "output_type": "stream",
     "text": [
      "Fitting 5 folds for each of 6 candidates, totalling 30 fits\n"
     ]
    },
    {
     "name": "stderr",
     "output_type": "stream",
     "text": [
      "[Parallel(n_jobs=-1)]: Using backend LokyBackend with 4 concurrent workers.\n",
      "[Parallel(n_jobs=-1)]: Done   1 tasks      | elapsed:    9.3s\n",
      "[Parallel(n_jobs=-1)]: Done   2 tasks      | elapsed:    9.6s\n",
      "[Parallel(n_jobs=-1)]: Done   3 tasks      | elapsed:    9.7s\n",
      "[Parallel(n_jobs=-1)]: Done   4 tasks      | elapsed:    9.7s\n",
      "[Parallel(n_jobs=-1)]: Done   5 tasks      | elapsed:   16.9s\n",
      "[Parallel(n_jobs=-1)]: Done   6 tasks      | elapsed:   17.4s\n",
      "[Parallel(n_jobs=-1)]: Done   7 tasks      | elapsed:   17.6s\n",
      "[Parallel(n_jobs=-1)]: Done   8 tasks      | elapsed:   18.8s\n",
      "[Parallel(n_jobs=-1)]: Done   9 tasks      | elapsed:   25.3s\n",
      "[Parallel(n_jobs=-1)]: Done  10 tasks      | elapsed:   25.7s\n",
      "[Parallel(n_jobs=-1)]: Done  11 tasks      | elapsed:   25.7s\n",
      "[Parallel(n_jobs=-1)]: Done  12 tasks      | elapsed:   27.5s\n",
      "[Parallel(n_jobs=-1)]: Done  13 tasks      | elapsed:   33.6s\n",
      "[Parallel(n_jobs=-1)]: Done  14 tasks      | elapsed:   34.1s\n",
      "[Parallel(n_jobs=-1)]: Done  15 tasks      | elapsed:   34.2s\n",
      "[Parallel(n_jobs=-1)]: Done  16 tasks      | elapsed:   36.1s\n",
      "[Parallel(n_jobs=-1)]: Done  17 tasks      | elapsed:   41.5s\n",
      "[Parallel(n_jobs=-1)]: Done  18 tasks      | elapsed:   42.1s\n",
      "[Parallel(n_jobs=-1)]: Done  19 tasks      | elapsed:   42.3s\n",
      "[Parallel(n_jobs=-1)]: Done  20 tasks      | elapsed:   45.2s\n",
      "[Parallel(n_jobs=-1)]: Done  21 tasks      | elapsed:   49.4s\n",
      "[Parallel(n_jobs=-1)]: Done  22 tasks      | elapsed:   50.3s\n",
      "[Parallel(n_jobs=-1)]: Done  23 tasks      | elapsed:   50.4s\n",
      "[Parallel(n_jobs=-1)]: Done  24 out of  30 | elapsed:   53.7s remaining:   13.4s\n",
      "[Parallel(n_jobs=-1)]: Done  25 out of  30 | elapsed:   57.8s remaining:   11.6s\n",
      "[Parallel(n_jobs=-1)]: Done  26 out of  30 | elapsed:   58.5s remaining:    9.0s\n",
      "[Parallel(n_jobs=-1)]: Done  27 out of  30 | elapsed:   58.5s remaining:    6.5s\n",
      "[Parallel(n_jobs=-1)]: Done  28 out of  30 | elapsed:  1.0min remaining:    4.4s\n",
      "[Parallel(n_jobs=-1)]: Done  30 out of  30 | elapsed:  1.1min remaining:    0.0s\n",
      "[Parallel(n_jobs=-1)]: Done  30 out of  30 | elapsed:  1.1min finished\n"
     ]
    },
    {
     "data": {
      "text/plain": [
       "GridSearchCV(cv=5, error_score='raise-deprecating',\n",
       "       estimator=GradientBoostingClassifier(criterion='friedman_mse', init=None,\n",
       "              learning_rate=0.1, loss='deviance', max_depth=7,\n",
       "              max_features=9, max_leaf_nodes=None,\n",
       "              min_impurity_decrease=0.0, min_impurity_split=None,\n",
       "              min_samples_leaf=40, min_samples...      subsample=0.8, tol=0.0001, validation_fraction=0.1,\n",
       "              verbose=0, warm_start=False),\n",
       "       fit_params=None, iid='warn', n_jobs=-1,\n",
       "       param_grid={'subsample': [0.6, 0.7, 0.75, 0.8, 0.85, 0.9]},\n",
       "       pre_dispatch='2*n_jobs', refit=True, return_train_score='warn',\n",
       "       scoring='roc_auc', verbose=40)"
      ]
     },
     "execution_count": 102,
     "metadata": {},
     "output_type": "execute_result"
    }
   ],
   "source": [
    "grid_search4.fit(X,y)"
   ]
  },
  {
   "cell_type": "code",
   "execution_count": 103,
   "metadata": {},
   "outputs": [
    {
     "data": {
      "text/plain": [
       "{'subsample': 0.7}"
      ]
     },
     "execution_count": 103,
     "metadata": {},
     "output_type": "execute_result"
    }
   ],
   "source": [
    "grid_search4.best_params_"
   ]
  },
  {
   "cell_type": "code",
   "execution_count": 104,
   "metadata": {},
   "outputs": [
    {
     "data": {
      "text/plain": [
       "0.8375717339026726"
      ]
     },
     "execution_count": 104,
     "metadata": {},
     "output_type": "execute_result"
    }
   ],
   "source": [
    "grid_search4.best_score_"
   ]
  },
  {
   "cell_type": "code",
   "execution_count": 134,
   "metadata": {},
   "outputs": [
    {
     "name": "stderr",
     "output_type": "stream",
     "text": [
      "/home/jupyterlab/conda/envs/python/lib/python3.6/site-packages/sklearn/metrics/classification.py:1143: UndefinedMetricWarning: Precision and F-score are ill-defined and being set to 0.0 in labels with no predicted samples.\n",
      "  'precision', 'predicted', average, warn_for)\n",
      "[Parallel(n_jobs=-1)]: Using backend LokyBackend with 4 concurrent workers.\n"
     ]
    },
    {
     "name": "stdout",
     "output_type": "stream",
     "text": [
      "              precision    recall  f1-score   support\n",
      "\n",
      "         0.0       0.98      1.00      0.99     17105\n",
      "         1.0       0.00      0.00      0.00       299\n",
      "\n",
      "   micro avg       0.98      0.98      0.98     17404\n",
      "   macro avg       0.49      0.50      0.50     17404\n",
      "weighted avg       0.97      0.98      0.97     17404\n",
      "\n",
      "0.8481100892676455\n"
     ]
    },
    {
     "name": "stderr",
     "output_type": "stream",
     "text": [
      "[Parallel(n_jobs=-1)]: Done   1 tasks      | elapsed:   15.0s\n",
      "[Parallel(n_jobs=-1)]: Done   2 tasks      | elapsed:   15.1s\n",
      "[Parallel(n_jobs=-1)]: Done   3 tasks      | elapsed:   15.7s\n",
      "[Parallel(n_jobs=-1)]: Done   4 out of  10 | elapsed:   16.3s remaining:   24.4s\n",
      "[Parallel(n_jobs=-1)]: Done   5 out of  10 | elapsed:   30.3s remaining:   30.3s\n",
      "[Parallel(n_jobs=-1)]: Done   6 out of  10 | elapsed:   31.2s remaining:   20.8s\n",
      "[Parallel(n_jobs=-1)]: Done   7 out of  10 | elapsed:   31.3s remaining:   13.4s\n",
      "[Parallel(n_jobs=-1)]: Done   8 out of  10 | elapsed:   31.9s remaining:    8.0s\n",
      "[Parallel(n_jobs=-1)]: Done  10 out of  10 | elapsed:   45.5s remaining:    0.0s\n",
      "[Parallel(n_jobs=-1)]: Done  10 out of  10 | elapsed:   45.5s finished\n",
      "/home/jupyterlab/conda/envs/python/lib/python3.6/site-packages/sklearn/utils/deprecation.py:125: FutureWarning: You are accessing a training score ('train_score'), which will not be available by default any more in 0.21. If you need training scores, please set return_train_score=True\n",
      "  warnings.warn(*warn_args, **warn_kwargs)\n"
     ]
    },
    {
     "data": {
      "text/html": [
       "<div>\n",
       "<style scoped>\n",
       "    .dataframe tbody tr th:only-of-type {\n",
       "        vertical-align: middle;\n",
       "    }\n",
       "\n",
       "    .dataframe tbody tr th {\n",
       "        vertical-align: top;\n",
       "    }\n",
       "\n",
       "    .dataframe thead th {\n",
       "        text-align: right;\n",
       "    }\n",
       "</style>\n",
       "<table border=\"1\" class=\"dataframe\">\n",
       "  <thead>\n",
       "    <tr style=\"text-align: right;\">\n",
       "      <th></th>\n",
       "      <th>fit_time</th>\n",
       "      <th>score_time</th>\n",
       "      <th>test_score</th>\n",
       "      <th>train_score</th>\n",
       "    </tr>\n",
       "  </thead>\n",
       "  <tbody>\n",
       "    <tr>\n",
       "      <th>0</th>\n",
       "      <td>15.035654</td>\n",
       "      <td>0.050419</td>\n",
       "      <td>0.831507</td>\n",
       "      <td>0.888730</td>\n",
       "    </tr>\n",
       "    <tr>\n",
       "      <th>1</th>\n",
       "      <td>14.382510</td>\n",
       "      <td>0.050216</td>\n",
       "      <td>0.827173</td>\n",
       "      <td>0.889689</td>\n",
       "    </tr>\n",
       "    <tr>\n",
       "      <th>2</th>\n",
       "      <td>14.461257</td>\n",
       "      <td>0.050871</td>\n",
       "      <td>0.850127</td>\n",
       "      <td>0.889338</td>\n",
       "    </tr>\n",
       "    <tr>\n",
       "      <th>3</th>\n",
       "      <td>15.639527</td>\n",
       "      <td>0.051536</td>\n",
       "      <td>0.817147</td>\n",
       "      <td>0.892709</td>\n",
       "    </tr>\n",
       "    <tr>\n",
       "      <th>4</th>\n",
       "      <td>14.777629</td>\n",
       "      <td>0.050445</td>\n",
       "      <td>0.858326</td>\n",
       "      <td>0.887919</td>\n",
       "    </tr>\n",
       "    <tr>\n",
       "      <th>5</th>\n",
       "      <td>15.630012</td>\n",
       "      <td>0.051447</td>\n",
       "      <td>0.851609</td>\n",
       "      <td>0.891717</td>\n",
       "    </tr>\n",
       "    <tr>\n",
       "      <th>6</th>\n",
       "      <td>14.911692</td>\n",
       "      <td>0.046337</td>\n",
       "      <td>0.866044</td>\n",
       "      <td>0.891283</td>\n",
       "    </tr>\n",
       "    <tr>\n",
       "      <th>7</th>\n",
       "      <td>15.043274</td>\n",
       "      <td>0.058667</td>\n",
       "      <td>0.844128</td>\n",
       "      <td>0.892765</td>\n",
       "    </tr>\n",
       "    <tr>\n",
       "      <th>8</th>\n",
       "      <td>14.315552</td>\n",
       "      <td>0.046100</td>\n",
       "      <td>0.841679</td>\n",
       "      <td>0.889620</td>\n",
       "    </tr>\n",
       "    <tr>\n",
       "      <th>9</th>\n",
       "      <td>13.769304</td>\n",
       "      <td>0.048413</td>\n",
       "      <td>0.832778</td>\n",
       "      <td>0.891364</td>\n",
       "    </tr>\n",
       "  </tbody>\n",
       "</table>\n",
       "</div>"
      ],
      "text/plain": [
       "    fit_time  score_time  test_score  train_score\n",
       "0  15.035654    0.050419    0.831507     0.888730\n",
       "1  14.382510    0.050216    0.827173     0.889689\n",
       "2  14.461257    0.050871    0.850127     0.889338\n",
       "3  15.639527    0.051536    0.817147     0.892709\n",
       "4  14.777629    0.050445    0.858326     0.887919\n",
       "5  15.630012    0.051447    0.851609     0.891717\n",
       "6  14.911692    0.046337    0.866044     0.891283\n",
       "7  15.043274    0.058667    0.844128     0.892765\n",
       "8  14.315552    0.046100    0.841679     0.889620\n",
       "9  13.769304    0.048413    0.832778     0.891364"
      ]
     },
     "execution_count": 134,
     "metadata": {},
     "output_type": "execute_result"
    }
   ],
   "source": [
    "\n",
    "# we got n estimator as 60 lets substitute it and tune other parameters\n",
    "clf_tuned = GradientBoostingClassifier(learning_rate = 0.05,\n",
    "                                              n_estimators = 100,\n",
    "                                              subsample = 0.8,\n",
    "                                              max_depth = 7,\n",
    "                                              min_samples_split = 800,\n",
    "                                              min_samples_leaf = 40,\n",
    "                                              max_features = 9\n",
    "                                             )\n",
    "clf_tuned.fit(X_train,y_train)\n",
    "\n",
    "pred = clf_tuned.predict(X_test)\n",
    "prob = clf_tuned.predict_proba(X_test)[:,1]\n",
    "y_test.shape\n",
    "\n",
    "print(classification_report(y_test,pred))\n",
    "print(roc_auc_score(y_test,prob))\n",
    "\n",
    "from sklearn.model_selection import cross_validate,cross_val_score\n",
    "\n",
    "\n",
    "cross_val_params_1 = cross_validate(clf_tuned,X,y,cv = 10,verbose = 40,n_jobs = -1,scoring = 'roc_auc')\n",
    "\n",
    "pd.DataFrame(cross_val_params_1)\n",
    "\n"
   ]
  },
  {
   "cell_type": "code",
   "execution_count": 142,
   "metadata": {},
   "outputs": [
    {
     "data": {
      "text/plain": [
       "Monthly_Income         0.253750\n",
       "Existing_EMI           0.156107\n",
       "Var5                   0.151878\n",
       "age                    0.091141\n",
       "Loan_Amount_Applied    0.052345\n",
       "Var4                   0.028262\n",
       "dtype: float64"
      ]
     },
     "execution_count": 142,
     "metadata": {},
     "output_type": "execute_result"
    }
   ],
   "source": [
    "pd.Series(clf_tuned.feature_importances_,index = X_train.columns).sort_values(ascending = False)[:6]"
   ]
  },
  {
   "cell_type": "code",
   "execution_count": 144,
   "metadata": {},
   "outputs": [
    {
     "name": "stdout",
     "output_type": "stream",
     "text": [
      "              precision    recall  f1-score   support\n",
      "\n",
      "         0.0       0.98      1.00      0.99     17105\n",
      "         1.0       0.00      0.00      0.00       299\n",
      "\n",
      "   micro avg       0.98      0.98      0.98     17404\n",
      "   macro avg       0.49      0.50      0.50     17404\n",
      "weighted avg       0.97      0.98      0.97     17404\n",
      "\n",
      "0.8520915963667257\n"
     ]
    },
    {
     "name": "stderr",
     "output_type": "stream",
     "text": [
      "/home/jupyterlab/conda/envs/python/lib/python3.6/site-packages/sklearn/metrics/classification.py:1143: UndefinedMetricWarning: Precision and F-score are ill-defined and being set to 0.0 in labels with no predicted samples.\n",
      "  'precision', 'predicted', average, warn_for)\n"
     ]
    }
   ],
   "source": [
    "\n",
    "# we got n estimator as 60 lets substitute it and tune other parameters\n",
    "clf_tuned = GradientBoostingClassifier(learning_rate = 0.005,\n",
    "                                              n_estimators = 1500,\n",
    "                                              subsample = 0.8,\n",
    "                                              max_depth = 7,\n",
    "                                              min_samples_split = 1200,\n",
    "                                              min_samples_leaf = 40,\n",
    "                                              max_features = 9\n",
    "                                             )\n",
    "clf_tuned.fit(X_train,y_train)\n",
    "\n",
    "pred = clf_tuned.predict(X_test)\n",
    "prob = clf_tuned.predict_proba(X_test)[:,1]\n",
    "\n",
    "\n",
    "print(classification_report(y_test,pred))\n",
    "print(roc_auc_score(y_test,prob))\n",
    "\n"
   ]
  },
  {
   "cell_type": "code",
   "execution_count": null,
   "metadata": {},
   "outputs": [
    {
     "name": "stderr",
     "output_type": "stream",
     "text": [
      "[Parallel(n_jobs=-1)]: Using backend LokyBackend with 4 concurrent workers.\n",
      "[Parallel(n_jobs=-1)]: Done   1 tasks      | elapsed:  3.3min\n",
      "[Parallel(n_jobs=-1)]: Done   2 tasks      | elapsed:  3.4min\n",
      "[Parallel(n_jobs=-1)]: Done   3 tasks      | elapsed:  3.4min\n",
      "[Parallel(n_jobs=-1)]: Done   4 out of  10 | elapsed:  3.4min remaining:  5.1min\n",
      "[Parallel(n_jobs=-1)]: Done   5 out of  10 | elapsed:  6.7min remaining:  6.7min\n",
      "[Parallel(n_jobs=-1)]: Done   6 out of  10 | elapsed:  6.7min remaining:  4.5min\n",
      "[Parallel(n_jobs=-1)]: Done   7 out of  10 | elapsed:  6.7min remaining:  2.9min\n",
      "[Parallel(n_jobs=-1)]: Done   8 out of  10 | elapsed:  6.8min remaining:  1.7min\n"
     ]
    }
   ],
   "source": [
    "from sklearn.model_selection import cross_validate,cross_val_score\n",
    "\n",
    "\n",
    "cross_val_params_1 = cross_validate(clf_tuned,X,y,cv = 10,verbose = 40,n_jobs = -1,scoring = 'roc_auc')\n",
    "\n",
    "pd.DataFrame(cross_val_params_1)\n",
    "\n"
   ]
  },
  {
   "cell_type": "code",
   "execution_count": null,
   "metadata": {},
   "outputs": [],
   "source": []
  }
 ],
 "metadata": {
  "kernelspec": {
   "display_name": "Python",
   "language": "python",
   "name": "conda-env-python-py"
  },
  "language_info": {
   "codemirror_mode": {
    "name": "ipython",
    "version": 3
   },
   "file_extension": ".py",
   "mimetype": "text/x-python",
   "name": "python",
   "nbconvert_exporter": "python",
   "pygments_lexer": "ipython3",
   "version": "3.6.7"
  }
 },
 "nbformat": 4,
 "nbformat_minor": 4
}
