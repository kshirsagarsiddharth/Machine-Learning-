{
 "cells": [
  {
   "cell_type": "code",
   "execution_count": null,
   "metadata": {},
   "outputs": [],
   "source": [
    "https://raw.githubusercontent.com/kshirsagarsiddharth/MachineLearningTheory/master/cat_1/Python-Implementation-of-Find-S-master/Python-Implementation-of-Find-S-master/ws.csv"
   ]
  },
  {
   "cell_type": "code",
   "execution_count": 145,
   "metadata": {},
   "outputs": [],
   "source": [
    "import random\n",
    "import csv\n",
    "import pandas as pd\n",
    "import numpy as np"
   ]
  },
  {
   "cell_type": "code",
   "execution_count": 165,
   "metadata": {},
   "outputs": [],
   "source": [
    "df = pd.read_csv('https://raw.githubusercontent.com/kshirsagarsiddharth/MachineLearningTheory/master/cat_1/Python-Implementation-of-Find-S-master/Python-Implementation-of-Find-S-master/ws.csv')"
   ]
  },
  {
   "cell_type": "code",
   "execution_count": 166,
   "metadata": {},
   "outputs": [
    {
     "data": {
      "text/html": [
       "<div>\n",
       "<style scoped>\n",
       "    .dataframe tbody tr th:only-of-type {\n",
       "        vertical-align: middle;\n",
       "    }\n",
       "\n",
       "    .dataframe tbody tr th {\n",
       "        vertical-align: top;\n",
       "    }\n",
       "\n",
       "    .dataframe thead th {\n",
       "        text-align: right;\n",
       "    }\n",
       "</style>\n",
       "<table border=\"1\" class=\"dataframe\">\n",
       "  <thead>\n",
       "    <tr style=\"text-align: right;\">\n",
       "      <th></th>\n",
       "      <th>Sunny</th>\n",
       "      <th>Warm</th>\n",
       "      <th>Normal</th>\n",
       "      <th>Strong</th>\n",
       "      <th>Warm.1</th>\n",
       "      <th>Same</th>\n",
       "      <th>Yes</th>\n",
       "    </tr>\n",
       "  </thead>\n",
       "  <tbody>\n",
       "    <tr>\n",
       "      <th>0</th>\n",
       "      <td>Sunny</td>\n",
       "      <td>Warm</td>\n",
       "      <td>High</td>\n",
       "      <td>Strong</td>\n",
       "      <td>Warm</td>\n",
       "      <td>Same</td>\n",
       "      <td>Yes</td>\n",
       "    </tr>\n",
       "    <tr>\n",
       "      <th>1</th>\n",
       "      <td>Rainy</td>\n",
       "      <td>Cold</td>\n",
       "      <td>High</td>\n",
       "      <td>Strong</td>\n",
       "      <td>Warm</td>\n",
       "      <td>Change</td>\n",
       "      <td>No</td>\n",
       "    </tr>\n",
       "    <tr>\n",
       "      <th>2</th>\n",
       "      <td>Sunny</td>\n",
       "      <td>Warm</td>\n",
       "      <td>High</td>\n",
       "      <td>Strong</td>\n",
       "      <td>Cool</td>\n",
       "      <td>Change</td>\n",
       "      <td>Yes</td>\n",
       "    </tr>\n",
       "  </tbody>\n",
       "</table>\n",
       "</div>"
      ],
      "text/plain": [
       "   Sunny  Warm Normal  Strong Warm.1    Same  Yes\n",
       "0  Sunny  Warm   High  Strong   Warm    Same  Yes\n",
       "1  Rainy  Cold   High  Strong   Warm  Change   No\n",
       "2  Sunny  Warm   High  Strong   Cool  Change  Yes"
      ]
     },
     "execution_count": 166,
     "metadata": {},
     "output_type": "execute_result"
    }
   ],
   "source": [
    "df"
   ]
  },
  {
   "cell_type": "code",
   "execution_count": 167,
   "metadata": {},
   "outputs": [],
   "source": [
    "num_attributes  = 6"
   ]
  },
  {
   "cell_type": "code",
   "execution_count": 168,
   "metadata": {},
   "outputs": [],
   "source": [
    "hypothesis = ['0'] * num_attributes"
   ]
  },
  {
   "cell_type": "code",
   "execution_count": 169,
   "metadata": {},
   "outputs": [],
   "source": [
    "for j in range(0,num_attributes):\n",
    "    hypothesis[j] = df.iloc[0,j]"
   ]
  },
  {
   "cell_type": "code",
   "execution_count": 170,
   "metadata": {},
   "outputs": [
    {
     "data": {
      "text/plain": [
       "Index(['Sunny', 'Warm', 'Normal', 'Strong', 'Warm.1', 'Same', 'Yes'], dtype='object')"
      ]
     },
     "execution_count": 170,
     "metadata": {},
     "output_type": "execute_result"
    }
   ],
   "source": [
    "df.columns"
   ]
  },
  {
   "cell_type": "code",
   "execution_count": 171,
   "metadata": {},
   "outputs": [
    {
     "name": "stdout",
     "output_type": "stream",
     "text": [
      "For Training Example No :2 the hypothesis is  ['?', '?', 'High', 'Strong', '?', '?']\n"
     ]
    }
   ],
   "source": [
    "for i in range(0,len(df)):\n",
    "    if df.iloc[0,num_attributes] == 'Yes':\n",
    "        for j in range(0,num_attributes):\n",
    "            if df.iloc[i,j] != hypothesis[j]:\n",
    "                hypothesis[j] = '?'\n",
    "            else:\n",
    "                hypothesis[j] = df.iloc[i,j]\n",
    "print(\"For Training Example No :{0} the hypothesis is \".format(i),hypothesis)"
   ]
  },
  {
   "cell_type": "code",
   "execution_count": 172,
   "metadata": {},
   "outputs": [
    {
     "data": {
      "text/plain": [
       "'Yes'"
      ]
     },
     "execution_count": 172,
     "metadata": {},
     "output_type": "execute_result"
    }
   ],
   "source": [
    "df.iloc[0,num_attributes]"
   ]
  },
  {
   "cell_type": "code",
   "execution_count": null,
   "metadata": {},
   "outputs": [],
   "source": []
  },
  {
   "cell_type": "code",
   "execution_count": null,
   "metadata": {},
   "outputs": [],
   "source": []
  }
 ],
 "metadata": {
  "kernelspec": {
   "display_name": "Python",
   "language": "python",
   "name": "conda-env-python-py"
  },
  "language_info": {
   "codemirror_mode": {
    "name": "ipython",
    "version": 3
   },
   "file_extension": ".py",
   "mimetype": "text/x-python",
   "name": "python",
   "nbconvert_exporter": "python",
   "pygments_lexer": "ipython3",
   "version": "3.6.7"
  }
 },
 "nbformat": 4,
 "nbformat_minor": 4
}
