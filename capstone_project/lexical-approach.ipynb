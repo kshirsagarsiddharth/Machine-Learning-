{
 "cells": [
  {
   "cell_type": "code",
   "execution_count": 1,
   "metadata": {
    "_cell_guid": "b1076dfc-b9ad-4769-8c92-a6c4dae69d19",
    "_uuid": "8f2839f25d086af736a60e9eeb907d3b93b6e0e5"
   },
   "outputs": [],
   "source": [
    "import pandas as pd\n",
    "import numpy as np\n",
    "import seaborn as sns\n",
    "import matplotlib.pyplot as plt\n",
    "from scipy.stats import hmean\n",
    "from scipy.stats import norm "
   ]
  },
  {
   "cell_type": "code",
   "execution_count": 2,
   "metadata": {},
   "outputs": [],
   "source": [
    "from sklearn.feature_extraction.text import CountVectorizer\n",
    "import pandas as pd\n",
    "import numpy as np\n",
    "import matplotlib.pyplot as plt\n",
    "import seaborn as sns\n",
    "from sklearn.feature_extraction.text import CountVectorizer\n",
    "from sklearn.feature_extraction.text import TfidfVectorizer\n",
    "from scikitplot.metrics import plot_confusion_matrix\n",
    "from sklearn.linear_model import LogisticRegression\n",
    "from sklearn.pipeline import Pipeline\n",
    "from time import time\n",
    "from sklearn.metrics import accuracy_score,confusion_matrix,classification_report"
   ]
  },
  {
   "cell_type": "code",
   "execution_count": 3,
   "metadata": {
    "_cell_guid": "",
    "_uuid": ""
   },
   "outputs": [],
   "source": [
    "import pandas as pd\n",
    "df = pd.read_csv(\"../input/clean-16-million-tweets/clean_tweets_again.csv\")"
   ]
  },
  {
   "cell_type": "code",
   "execution_count": 4,
   "metadata": {},
   "outputs": [],
   "source": [
    "df.dropna(inplace = True)\n",
    "df.drop(columns = 'Unnamed: 0',inplace = True)"
   ]
  },
  {
   "cell_type": "code",
   "execution_count": 5,
   "metadata": {},
   "outputs": [],
   "source": [
    "X = df['text']\n",
    "y = df['sentiment']"
   ]
  },
  {
   "cell_type": "code",
   "execution_count": 6,
   "metadata": {},
   "outputs": [],
   "source": [
    "# the data is split in 98|1|1\n",
    "from sklearn.model_selection import train_test_split\n",
    "X_train,X_validation_test,y_train,y_validation_test = train_test_split(X,y,test_size = 0.02,random_state = 45)"
   ]
  },
  {
   "cell_type": "code",
   "execution_count": 7,
   "metadata": {},
   "outputs": [],
   "source": [
    "X_validation,X_test,y_validation,y_test = train_test_split(X_validation_test,y_validation_test,test_size = 0.5,random_state = 45)"
   ]
  },
  {
   "cell_type": "code",
   "execution_count": 8,
   "metadata": {},
   "outputs": [
    {
     "data": {
      "text/plain": [
       "CountVectorizer(analyzer='word', binary=False, decode_error='strict',\n",
       "                dtype=<class 'numpy.int64'>, encoding='utf-8', input='content',\n",
       "                lowercase=True, max_df=1.0, max_features=10000, min_df=1,\n",
       "                ngram_range=(1, 1), preprocessor=None, stop_words=None,\n",
       "                strip_accents=None, token_pattern='(?u)\\\\b\\\\w\\\\w+\\\\b',\n",
       "                tokenizer=None, vocabulary=None)"
      ]
     },
     "execution_count": 8,
     "metadata": {},
     "output_type": "execute_result"
    }
   ],
   "source": [
    "#in previous parts we calculated the harmonic mean of positive CDF and negative CDF which happen to show good representation of each class\n",
    "#more over this both features sucessfully filters which terms are important to each class and which terms are not\n",
    "count_vec = CountVectorizer(max_features = 10000)\n",
    "count_vec.fit(X_train)#in this case we are creating a bag of words of 10,000 features from the dataset"
   ]
  },
  {
   "cell_type": "code",
   "execution_count": 9,
   "metadata": {},
   "outputs": [],
   "source": [
    "neg_train = X_train[y_train == 0] #this are the values from training set where where sentiment is negative\n",
    "pos_train = X_train[y_train == 1] # this are the values from training set where sentiment is positive\n",
    "negative_document_matrix = count_vec.transform(neg_train) # once we get the positive and negative tweets we transform the positive tweets into a sparse matrix\n",
    "positive_document_matrix = count_vec.transform(pos_train) "
   ]
  },
  {
   "cell_type": "code",
   "execution_count": 10,
   "metadata": {},
   "outputs": [],
   "source": [
    "neg_tf = np.sum(negative_document_matrix,axis = 0) #in this case we are finding the sum of frequencies of negative features\n",
    "pos_tf = np.sum(positive_document_matrix,axis = 0) #in this case we are finding the sum of frequencies of positive features"
   ]
  },
  {
   "cell_type": "code",
   "execution_count": 11,
   "metadata": {},
   "outputs": [],
   "source": [
    "from scipy.stats import hmean\n",
    "from scipy.stats import norm\n",
    "def norm_cdf(x):\n",
    "    return norm.cdf(x,x.mean(),x.std())\n",
    "neg = np.squeeze(np.array(neg_tf))\n",
    "pos = np.squeeze(np.array(pos_tf))\n",
    "term_freq_df = pd.DataFrame([neg,pos],columns = count_vec.get_feature_names()).T"
   ]
  },
  {
   "cell_type": "code",
   "execution_count": 12,
   "metadata": {},
   "outputs": [],
   "source": [
    "term_freq_df.columns = ['positive','negative']\n",
    "term_freq_df['total'] = term_freq_df['positive'] + term_freq_df['negative']\n",
    "term_freq_df['pos_rate'] = term_freq_df['positive'] / term_freq_df['total']\n",
    "term_freq_df['pos_freq_pct'] = term_freq_df['positive'] / term_freq_df['positive'].sum()\n",
    "term_freq_df['pos_rate_cdf'] = norm_cdf(term_freq_df['pos_rate'])\n",
    "term_freq_df['pos_freq_pct_cdf'] = norm_cdf(term_freq_df['pos_freq_pct'])\n",
    "term_freq_df['pos_hmean_cdf'] = hmean([term_freq_df['pos_rate_cdf'],term_freq_df['pos_freq_pct_cdf']])"
   ]
  },
  {
   "cell_type": "code",
   "execution_count": 13,
   "metadata": {},
   "outputs": [],
   "source": [
    "pos_hmean = term_freq_df['pos_hmean_cdf']"
   ]
  },
  {
   "cell_type": "code",
   "execution_count": 14,
   "metadata": {},
   "outputs": [],
   "source": [
    "y_predict_probablity = []\n",
    "for text in X_test:\n",
    "    h_mean_score = [pos_hmean[word] for word in text.split() if word in pos_hmean.index]\n",
    "    if len(h_mean_score) > 0:\n",
    "        pred_proba = np.mean(h_mean_score)\n",
    "    else:\n",
    "        pred_proba = np.random.random()\n",
    "    y_predict_probablity.append(pred_proba)\n",
    "pred = [1 if val > 0.50 else 0 for val in y_predict_probablity]"
   ]
  },
  {
   "cell_type": "code",
   "execution_count": 15,
   "metadata": {},
   "outputs": [
    {
     "data": {
      "text/plain": [
       "0.3696510243719065"
      ]
     },
     "execution_count": 15,
     "metadata": {},
     "output_type": "execute_result"
    }
   ],
   "source": [
    "accuracy_score(y_test,pred)"
   ]
  },
  {
   "cell_type": "code",
   "execution_count": null,
   "metadata": {},
   "outputs": [],
   "source": []
  }
 ],
 "metadata": {
  "kernelspec": {
   "display_name": "Python 3",
   "language": "python",
   "name": "python3"
  },
  "language_info": {
   "codemirror_mode": {
    "name": "ipython",
    "version": 3
   },
   "file_extension": ".py",
   "mimetype": "text/x-python",
   "name": "python",
   "nbconvert_exporter": "python",
   "pygments_lexer": "ipython3",
   "version": "3.6.6"
  }
 },
 "nbformat": 4,
 "nbformat_minor": 4
}
