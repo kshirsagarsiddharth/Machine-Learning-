{
 "cells": [
  {
   "cell_type": "code",
   "execution_count": 1,
   "metadata": {
    "_cell_guid": "b1076dfc-b9ad-4769-8c92-a6c4dae69d19",
    "_uuid": "8f2839f25d086af736a60e9eeb907d3b93b6e0e5"
   },
   "outputs": [],
   "source": [
    "import pandas as pd\n",
    "import numpy as np\n",
    "import matplotlib.pyplot as plt\n",
    "import seaborn as sns\n",
    "from sklearn.feature_extraction.text import CountVectorizer\n",
    "from sklearn.feature_extraction.text import TfidfVectorizer\n",
    "from scikitplot.metrics import plot_confusion_matrix\n",
    "from sklearn.linear_model import LogisticRegression\n",
    "from sklearn.pipeline import Pipeline\n",
    "from time import time\n",
    "from sklearn.metrics import accuracy_score,confusion_matrix,classification_report"
   ]
  },
  {
   "cell_type": "code",
   "execution_count": 2,
   "metadata": {
    "_cell_guid": "",
    "_uuid": ""
   },
   "outputs": [],
   "source": [
    "import pandas as pd\n",
    "df = pd.read_csv(\"../input/clean-16-million-tweets/clean_tweets_again.csv\")"
   ]
  },
  {
   "cell_type": "code",
   "execution_count": 3,
   "metadata": {},
   "outputs": [],
   "source": [
    "df.dropna(inplace = True)\n",
    "df.drop(columns = 'Unnamed: 0',inplace = True)"
   ]
  },
  {
   "cell_type": "code",
   "execution_count": 4,
   "metadata": {},
   "outputs": [],
   "source": [
    "X = df['text']\n",
    "y = df['sentiment']"
   ]
  },
  {
   "cell_type": "code",
   "execution_count": 5,
   "metadata": {},
   "outputs": [],
   "source": [
    "# the data is split in 98|1|1\n",
    "from sklearn.model_selection import train_test_split\n",
    "X_train,X_validation_test,y_train,y_validation_test = train_test_split(X,y,test_size = 0.02,random_state = 45)"
   ]
  },
  {
   "cell_type": "code",
   "execution_count": 6,
   "metadata": {},
   "outputs": [],
   "source": [
    "X_validation,X_test,y_validation,y_test = train_test_split(X_validation_test,y_validation_test,test_size = 0.5,random_state = 45)"
   ]
  },
  {
   "cell_type": "code",
   "execution_count": 7,
   "metadata": {},
   "outputs": [
    {
     "name": "stdout",
     "output_type": "stream",
     "text": [
      "bigrams with stopwords\n",
      "LogisticRegression(C=1.0, class_weight=None, dual=False, fit_intercept=True,\n",
      "                   intercept_scaling=1, l1_ratio=None, max_iter=100,\n",
      "                   multi_class='auto', n_jobs=-1, penalty='l2',\n",
      "                   random_state=None, solver='lbfgs', tol=0.0001, verbose=8,\n",
      "                   warm_start=False)\n",
      "\n",
      "\n",
      "validation result for 10000 features\n",
      "[Pipeline] ........ (step 1 of 2) Processing vectorizer, total= 2.0min\n"
     ]
    },
    {
     "name": "stderr",
     "output_type": "stream",
     "text": [
      "[Parallel(n_jobs=-1)]: Using backend LokyBackend with 4 concurrent workers.\n",
      "[Parallel(n_jobs=-1)]: Done   1 out of   1 | elapsed:   42.2s finished\n"
     ]
    },
    {
     "name": "stdout",
     "output_type": "stream",
     "text": [
      "[Pipeline] ........ (step 2 of 2) Processing classifier, total=  43.1s\n",
      "the training and testing time is 162.36201310157776 seconds\n",
      "accuracy 0.8114153248543324 greater than null accuracy 0.5044170164776643\n",
      "validation result for 20000 features\n",
      "[Pipeline] ........ (step 1 of 2) Processing vectorizer, total= 2.0min\n"
     ]
    },
    {
     "name": "stderr",
     "output_type": "stream",
     "text": [
      "[Parallel(n_jobs=-1)]: Using backend LokyBackend with 4 concurrent workers.\n",
      "[Parallel(n_jobs=-1)]: Done   1 out of   1 | elapsed:   47.0s finished\n"
     ]
    },
    {
     "name": "stdout",
     "output_type": "stream",
     "text": [
      "[Pipeline] ........ (step 2 of 2) Processing classifier, total=  48.0s\n",
      "the training and testing time is 170.10198545455933 seconds\n",
      "accuracy 0.8158636676899944 greater than null accuracy 0.5044170164776643\n",
      "validation result for 30000 features\n",
      "[Pipeline] ........ (step 1 of 2) Processing vectorizer, total= 2.0min\n"
     ]
    },
    {
     "name": "stderr",
     "output_type": "stream",
     "text": [
      "[Parallel(n_jobs=-1)]: Using backend LokyBackend with 4 concurrent workers.\n",
      "[Parallel(n_jobs=-1)]: Done   1 out of   1 | elapsed:   48.1s finished\n"
     ]
    },
    {
     "name": "stdout",
     "output_type": "stream",
     "text": [
      "[Pipeline] ........ (step 2 of 2) Processing classifier, total=  49.1s\n",
      "the training and testing time is 171.98953199386597 seconds\n",
      "accuracy 0.8179312073178372 greater than null accuracy 0.5044170164776643\n",
      "validation result for 40000 features\n",
      "[Pipeline] ........ (step 1 of 2) Processing vectorizer, total= 2.0min\n"
     ]
    },
    {
     "name": "stderr",
     "output_type": "stream",
     "text": [
      "[Parallel(n_jobs=-1)]: Using backend LokyBackend with 4 concurrent workers.\n",
      "[Parallel(n_jobs=-1)]: Done   1 out of   1 | elapsed:   55.1s finished\n"
     ]
    },
    {
     "name": "stdout",
     "output_type": "stream",
     "text": [
      "[Pipeline] ........ (step 2 of 2) Processing classifier, total=  56.1s\n",
      "the training and testing time is 179.52417039871216 seconds\n",
      "accuracy 0.8208758849696134 greater than null accuracy 0.5044170164776643\n",
      "validation result for 50000 features\n",
      "[Pipeline] ........ (step 1 of 2) Processing vectorizer, total= 2.0min\n"
     ]
    },
    {
     "name": "stderr",
     "output_type": "stream",
     "text": [
      "[Parallel(n_jobs=-1)]: Using backend LokyBackend with 4 concurrent workers.\n",
      "[Parallel(n_jobs=-1)]: Done   1 out of   1 | elapsed:   55.0s finished\n"
     ]
    },
    {
     "name": "stdout",
     "output_type": "stream",
     "text": [
      "[Pipeline] ........ (step 2 of 2) Processing classifier, total=  56.1s\n",
      "the training and testing time is 178.14288353919983 seconds\n",
      "accuracy 0.8211891485495896 greater than null accuracy 0.5044170164776643\n",
      "validation result for 60000 features\n",
      "[Pipeline] ........ (step 1 of 2) Processing vectorizer, total= 2.0min\n"
     ]
    },
    {
     "name": "stderr",
     "output_type": "stream",
     "text": [
      "[Parallel(n_jobs=-1)]: Using backend LokyBackend with 4 concurrent workers.\n",
      "[Parallel(n_jobs=-1)]: Done   1 out of   1 | elapsed:  1.0min finished\n"
     ]
    },
    {
     "name": "stdout",
     "output_type": "stream",
     "text": [
      "[Pipeline] ........ (step 2 of 2) Processing classifier, total= 1.1min\n",
      "the training and testing time is 186.72109389305115 seconds\n",
      "accuracy 0.8209385376856086 greater than null accuracy 0.5044170164776643\n",
      "validation result for 70000 features\n",
      "[Pipeline] ........ (step 1 of 2) Processing vectorizer, total= 2.0min\n"
     ]
    },
    {
     "name": "stderr",
     "output_type": "stream",
     "text": [
      "[Parallel(n_jobs=-1)]: Using backend LokyBackend with 4 concurrent workers.\n",
      "[Parallel(n_jobs=-1)]: Done   1 out of   1 | elapsed:  1.1min finished\n"
     ]
    },
    {
     "name": "stdout",
     "output_type": "stream",
     "text": [
      "[Pipeline] ........ (step 2 of 2) Processing classifier, total= 1.1min\n",
      "the training and testing time is 187.36726188659668 seconds\n",
      "accuracy 0.8210638431175992 greater than null accuracy 0.5044170164776643\n",
      "validation result for 80000 features\n",
      "[Pipeline] ........ (step 1 of 2) Processing vectorizer, total= 2.0min\n"
     ]
    },
    {
     "name": "stderr",
     "output_type": "stream",
     "text": [
      "[Parallel(n_jobs=-1)]: Using backend LokyBackend with 4 concurrent workers.\n",
      "[Parallel(n_jobs=-1)]: Done   1 out of   1 | elapsed:  1.2min finished\n"
     ]
    },
    {
     "name": "stdout",
     "output_type": "stream",
     "text": [
      "[Pipeline] ........ (step 2 of 2) Processing classifier, total= 1.2min\n",
      "the training and testing time is 193.9754033088684 seconds\n",
      "accuracy 0.8213771066975754 greater than null accuracy 0.5044170164776643\n",
      "validation result for 90000 features\n",
      "[Pipeline] ........ (step 1 of 2) Processing vectorizer, total= 2.0min\n"
     ]
    },
    {
     "name": "stderr",
     "output_type": "stream",
     "text": [
      "[Parallel(n_jobs=-1)]: Using backend LokyBackend with 4 concurrent workers.\n",
      "[Parallel(n_jobs=-1)]: Done   1 out of   1 | elapsed:  1.2min finished\n"
     ]
    },
    {
     "name": "stdout",
     "output_type": "stream",
     "text": [
      "[Pipeline] ........ (step 2 of 2) Processing classifier, total= 1.2min\n",
      "the training and testing time is 196.37224531173706 seconds\n",
      "accuracy 0.8213771066975754 greater than null accuracy 0.5044170164776643\n",
      "validation result for 100000 features\n",
      "[Pipeline] ........ (step 1 of 2) Processing vectorizer, total= 2.0min\n"
     ]
    },
    {
     "name": "stderr",
     "output_type": "stream",
     "text": [
      "[Parallel(n_jobs=-1)]: Using backend LokyBackend with 4 concurrent workers.\n",
      "[Parallel(n_jobs=-1)]: Done   1 out of   1 | elapsed:  1.3min finished\n"
     ]
    },
    {
     "name": "stdout",
     "output_type": "stream",
     "text": [
      "[Pipeline] ........ (step 2 of 2) Processing classifier, total= 1.3min\n",
      "the training and testing time is 200.38656544685364 seconds\n",
      "accuracy 0.8221289392895182 greater than null accuracy 0.5044170164776643\n"
     ]
    }
   ],
   "source": [
    "print('bigrams with stopwords')\n",
    "if len(X_test[y_test == 0])/len(X_test) > 0.5:\n",
    "    null_accuracy = len(X_test[y_test == 0]) / len(X_test)\n",
    "else:\n",
    "    null_accuracy = 1 - len(X_test[y_test == 0]) / len(X_test)\n",
    "number_of_features = np.arange(10000,100001,10000)\n",
    "clf = LogisticRegression(n_jobs = -1,verbose = 8)\n",
    "count_vec = CountVectorizer()\n",
    "result_bigrams_with_stopwords = []\n",
    "print(clf)\n",
    "print('\\n')\n",
    "for number in number_of_features:\n",
    "    count_vec.set_params(stop_words = None,max_features = number,ngram_range = (1,2))\n",
    "    pipeline = Pipeline([('vectorizer',count_vec),('classifier',clf)],verbose = 1)\n",
    "    print('validation result for {} features'.format(number))\n",
    "    t0 = time()\n",
    "    pipeline.fit(X_train,y_train)\n",
    "    pred = pipeline.predict(X_test)\n",
    "    train_test_time = time() - t0\n",
    "    accuracy = accuracy_score(pred,y_test)\n",
    "    print('the training and testing time is',train_test_time,'seconds')\n",
    "    if accuracy > null_accuracy:\n",
    "        print('accuracy',accuracy,'greater than null accuracy',null_accuracy)\n",
    "    else:\n",
    "        print('accuracy',accuracy,'less than null accuracy',null_accuracy)\n",
    "    result_bigrams_with_stopwords.append((number,accuracy,train_test_time))"
   ]
  },
  {
   "cell_type": "code",
   "execution_count": 8,
   "metadata": {},
   "outputs": [
    {
     "name": "stdout",
     "output_type": "stream",
     "text": [
      "bigrams without stopwords\n",
      "LogisticRegression(C=1.0, class_weight=None, dual=False, fit_intercept=True,\n",
      "                   intercept_scaling=1, l1_ratio=None, max_iter=100,\n",
      "                   multi_class='auto', n_jobs=-1, penalty='l2',\n",
      "                   random_state=None, solver='lbfgs', tol=0.0001, verbose=8,\n",
      "                   warm_start=False)\n",
      "\n",
      "\n",
      "validation result for 10000 features\n",
      "[Pipeline] ........ (step 1 of 2) Processing vectorizer, total= 1.7min\n"
     ]
    },
    {
     "name": "stderr",
     "output_type": "stream",
     "text": [
      "[Parallel(n_jobs=-1)]: Using backend LokyBackend with 4 concurrent workers.\n",
      "[Parallel(n_jobs=-1)]: Done   1 out of   1 | elapsed:   33.6s finished\n"
     ]
    },
    {
     "name": "stdout",
     "output_type": "stream",
     "text": [
      "[Pipeline] ........ (step 2 of 2) Processing classifier, total=  34.0s\n",
      "the training and testing time is 135.31312108039856 seconds\n",
      "accuracy 0.7769563310569513 greater than null accuracy 0.5044170164776643\n",
      "validation result for 20000 features\n",
      "[Pipeline] ........ (step 1 of 2) Processing vectorizer, total= 1.7min\n"
     ]
    },
    {
     "name": "stderr",
     "output_type": "stream",
     "text": [
      "[Parallel(n_jobs=-1)]: Using backend LokyBackend with 4 concurrent workers.\n",
      "[Parallel(n_jobs=-1)]: Done   1 out of   1 | elapsed:   38.3s finished\n"
     ]
    },
    {
     "name": "stdout",
     "output_type": "stream",
     "text": [
      "[Pipeline] ........ (step 2 of 2) Processing classifier, total=  38.7s\n",
      "the training and testing time is 141.6855025291443 seconds\n",
      "accuracy 0.7806528413006704 greater than null accuracy 0.5044170164776643\n",
      "validation result for 30000 features\n",
      "[Pipeline] ........ (step 1 of 2) Processing vectorizer, total= 1.7min\n"
     ]
    },
    {
     "name": "stderr",
     "output_type": "stream",
     "text": [
      "[Parallel(n_jobs=-1)]: Using backend LokyBackend with 4 concurrent workers.\n",
      "[Parallel(n_jobs=-1)]: Done   1 out of   1 | elapsed:   43.0s finished\n"
     ]
    },
    {
     "name": "stdout",
     "output_type": "stream",
     "text": [
      "[Pipeline] ........ (step 2 of 2) Processing classifier, total=  43.4s\n",
      "the training and testing time is 147.51820135116577 seconds\n",
      "accuracy 0.7807154940166656 greater than null accuracy 0.5044170164776643\n",
      "validation result for 40000 features\n",
      "[Pipeline] ........ (step 1 of 2) Processing vectorizer, total= 1.7min\n"
     ]
    },
    {
     "name": "stderr",
     "output_type": "stream",
     "text": [
      "[Parallel(n_jobs=-1)]: Using backend LokyBackend with 4 concurrent workers.\n",
      "[Parallel(n_jobs=-1)]: Done   1 out of   1 | elapsed:   43.3s finished\n"
     ]
    },
    {
     "name": "stdout",
     "output_type": "stream",
     "text": [
      "[Pipeline] ........ (step 2 of 2) Processing classifier, total=  43.8s\n",
      "the training and testing time is 148.10070967674255 seconds\n",
      "accuracy 0.7825950754965227 greater than null accuracy 0.5044170164776643\n",
      "validation result for 50000 features\n",
      "[Pipeline] ........ (step 1 of 2) Processing vectorizer, total= 1.7min\n"
     ]
    },
    {
     "name": "stderr",
     "output_type": "stream",
     "text": [
      "[Parallel(n_jobs=-1)]: Using backend LokyBackend with 4 concurrent workers.\n",
      "[Parallel(n_jobs=-1)]: Done   1 out of   1 | elapsed:   46.0s finished\n"
     ]
    },
    {
     "name": "stdout",
     "output_type": "stream",
     "text": [
      "[Pipeline] ........ (step 2 of 2) Processing classifier, total=  46.5s\n",
      "the training and testing time is 150.48181581497192 seconds\n",
      "accuracy 0.7830962972244847 greater than null accuracy 0.5044170164776643\n",
      "validation result for 60000 features\n",
      "[Pipeline] ........ (step 1 of 2) Processing vectorizer, total= 1.7min\n"
     ]
    },
    {
     "name": "stderr",
     "output_type": "stream",
     "text": [
      "[Parallel(n_jobs=-1)]: Using backend LokyBackend with 4 concurrent workers.\n",
      "[Parallel(n_jobs=-1)]: Done   1 out of   1 | elapsed:   49.5s finished\n"
     ]
    },
    {
     "name": "stdout",
     "output_type": "stream",
     "text": [
      "[Pipeline] ........ (step 2 of 2) Processing classifier, total=  49.9s\n",
      "the training and testing time is 154.79788661003113 seconds\n",
      "accuracy 0.783973435248418 greater than null accuracy 0.5044170164776643\n",
      "validation result for 70000 features\n",
      "[Pipeline] ........ (step 1 of 2) Processing vectorizer, total= 1.7min\n"
     ]
    },
    {
     "name": "stderr",
     "output_type": "stream",
     "text": [
      "[Parallel(n_jobs=-1)]: Using backend LokyBackend with 4 concurrent workers.\n",
      "[Parallel(n_jobs=-1)]: Done   1 out of   1 | elapsed:   54.3s finished\n"
     ]
    },
    {
     "name": "stdout",
     "output_type": "stream",
     "text": [
      "[Pipeline] ........ (step 2 of 2) Processing classifier, total=  54.8s\n",
      "the training and testing time is 158.98200392723083 seconds\n",
      "accuracy 0.7841613933964038 greater than null accuracy 0.5044170164776643\n",
      "validation result for 80000 features\n",
      "[Pipeline] ........ (step 1 of 2) Processing vectorizer, total= 1.7min\n"
     ]
    },
    {
     "name": "stderr",
     "output_type": "stream",
     "text": [
      "[Parallel(n_jobs=-1)]: Using backend LokyBackend with 4 concurrent workers.\n",
      "[Parallel(n_jobs=-1)]: Done   1 out of   1 | elapsed:   56.5s finished\n"
     ]
    },
    {
     "name": "stdout",
     "output_type": "stream",
     "text": [
      "[Pipeline] ........ (step 2 of 2) Processing classifier, total=  57.0s\n",
      "the training and testing time is 161.32804989814758 seconds\n",
      "accuracy 0.7823444646325418 greater than null accuracy 0.5044170164776643\n",
      "validation result for 90000 features\n",
      "[Pipeline] ........ (step 1 of 2) Processing vectorizer, total= 1.7min\n"
     ]
    },
    {
     "name": "stderr",
     "output_type": "stream",
     "text": [
      "[Parallel(n_jobs=-1)]: Using backend LokyBackend with 4 concurrent workers.\n",
      "[Parallel(n_jobs=-1)]: Done   1 out of   1 | elapsed:   58.2s finished\n"
     ]
    },
    {
     "name": "stdout",
     "output_type": "stream",
     "text": [
      "[Pipeline] ........ (step 2 of 2) Processing classifier, total=  58.7s\n",
      "the training and testing time is 161.67775774002075 seconds\n",
      "accuracy 0.7827830336445085 greater than null accuracy 0.5044170164776643\n",
      "validation result for 100000 features\n",
      "[Pipeline] ........ (step 1 of 2) Processing vectorizer, total= 1.7min\n"
     ]
    },
    {
     "name": "stderr",
     "output_type": "stream",
     "text": [
      "[Parallel(n_jobs=-1)]: Using backend LokyBackend with 4 concurrent workers.\n",
      "[Parallel(n_jobs=-1)]: Done   1 out of   1 | elapsed:  1.1min finished\n"
     ]
    },
    {
     "name": "stdout",
     "output_type": "stream",
     "text": [
      "[Pipeline] ........ (step 2 of 2) Processing classifier, total= 1.1min\n",
      "the training and testing time is 167.81373739242554 seconds\n",
      "accuracy 0.7841613933964038 greater than null accuracy 0.5044170164776643\n"
     ]
    }
   ],
   "source": [
    "print('bigrams without stopwords')\n",
    "if len(X_test[y_test == 0]) / len(X_test) > 0.5:\n",
    "    null_accuracy = len(X_test[y_test == 0]) / len(X_test)\n",
    "else:\n",
    "    null_accuracy = 1 - len(X_test[y_test == 0]) / len(X_test)\n",
    "number_of_features = np.arange(10000,100001,10000)\n",
    "clf = LogisticRegression(n_jobs = -1,verbose = 8)\n",
    "count_vec = CountVectorizer()\n",
    "result_bigrams_without_stopwords = []\n",
    "print(clf)\n",
    "print('\\n')\n",
    "for number in number_of_features:\n",
    "    count_vec.set_params(stop_words = 'english',max_features = number,ngram_range = (1,2))\n",
    "    pipeline = Pipeline([('vectorizer',count_vec),('classifier',clf)],verbose = 1)\n",
    "    print('validation result for {} features'.format(number))\n",
    "    t0 = time()\n",
    "    pipeline.fit(X_train,y_train)\n",
    "    pred = pipeline.predict(X_test)\n",
    "    train_test_time = time() - t0\n",
    "    accuracy = accuracy_score(pred,y_test)\n",
    "    print('the training and testing time is',train_test_time,'seconds')\n",
    "    if accuracy > null_accuracy:\n",
    "        print('accuracy',accuracy,'greater than null accuracy',null_accuracy)\n",
    "    else:\n",
    "        print('accuracy',accuracy,'less than null accuracy',null_accuracy)\n",
    "    result_bigrams_without_stopwords.append((number,accuracy,train_test_time))"
   ]
  },
  {
   "cell_type": "code",
   "execution_count": 9,
   "metadata": {},
   "outputs": [],
   "source": [
    "result_bigrams_with_stopwords_df = pd.DataFrame(result_bigrams_with_stopwords,columns = ['features','score','time in sec'])"
   ]
  },
  {
   "cell_type": "code",
   "execution_count": 10,
   "metadata": {},
   "outputs": [],
   "source": [
    "result_bigrams_with_stopwords_df.to_csv('result_bigrams_with_stopwords_df.csv',encoding='utf-8')"
   ]
  },
  {
   "cell_type": "code",
   "execution_count": null,
   "metadata": {},
   "outputs": [],
   "source": []
  }
 ],
 "metadata": {
  "kernelspec": {
   "display_name": "Python 3",
   "language": "python",
   "name": "python3"
  },
  "language_info": {
   "codemirror_mode": {
    "name": "ipython",
    "version": 3
   },
   "file_extension": ".py",
   "mimetype": "text/x-python",
   "name": "python",
   "nbconvert_exporter": "python",
   "pygments_lexer": "ipython3",
   "version": "3.6.6"
  }
 },
 "nbformat": 4,
 "nbformat_minor": 1
}
