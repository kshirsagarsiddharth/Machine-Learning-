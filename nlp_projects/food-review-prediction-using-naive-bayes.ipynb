{
 "cells": [
  {
   "cell_type": "code",
   "execution_count": 1,
   "metadata": {
    "_cell_guid": "b1076dfc-b9ad-4769-8c92-a6c4dae69d19",
    "_uuid": "8f2839f25d086af736a60e9eeb907d3b93b6e0e5"
   },
   "outputs": [
    {
     "name": "stdout",
     "output_type": "stream",
     "text": [
      "/kaggle/input/amazon-fine-food-reviews/database.sqlite\n",
      "/kaggle/input/amazon-fine-food-reviews/hashes.txt\n",
      "/kaggle/input/amazon-fine-food-reviews/Reviews.csv\n"
     ]
    }
   ],
   "source": [
    "# This Python 3 environment comes with many helpful analytics libraries installed\n",
    "# It is defined by the kaggle/python docker image: https://github.com/kaggle/docker-python\n",
    "# For example, here's several helpful packages to load in \n",
    "\n",
    "import numpy as np # linear algebra\n",
    "import pandas as pd # data processing, CSV file I/O (e.g. pd.read_csv)\n",
    "\n",
    "# Input data files are available in the \"../input/\" directory.\n",
    "# For example, running this (by clicking run or pressing Shift+Enter) will list all files under the input directory\n",
    "import warnings\n",
    "warnings.filterwarnings('ignore')\n",
    "import seaborn as sns\n",
    "import matplotlib.pyplot as plt\n",
    "\n",
    "import os\n",
    "for dirname, _, filenames in os.walk('/kaggle/input'):\n",
    "    for filename in filenames:\n",
    "        print(os.path.join(dirname, filename))\n",
    "\n",
    "# Any results you write to the current directory are saved as output."
   ]
  },
  {
   "cell_type": "code",
   "execution_count": 2,
   "metadata": {
    "_cell_guid": "",
    "_uuid": ""
   },
   "outputs": [],
   "source": [
    "import pandas as pd\n",
    "reviews = pd.read_csv(\"../input/amazon-fine-food-reviews/Reviews.csv\")"
   ]
  },
  {
   "cell_type": "code",
   "execution_count": 3,
   "metadata": {},
   "outputs": [],
   "source": [
    "reviews = reviews[reviews['Score'] != 3]"
   ]
  },
  {
   "cell_type": "code",
   "execution_count": 4,
   "metadata": {},
   "outputs": [
    {
     "data": {
      "text/html": [
       "<div>\n",
       "<style scoped>\n",
       "    .dataframe tbody tr th:only-of-type {\n",
       "        vertical-align: middle;\n",
       "    }\n",
       "\n",
       "    .dataframe tbody tr th {\n",
       "        vertical-align: top;\n",
       "    }\n",
       "\n",
       "    .dataframe thead th {\n",
       "        text-align: right;\n",
       "    }\n",
       "</style>\n",
       "<table border=\"1\" class=\"dataframe\">\n",
       "  <thead>\n",
       "    <tr style=\"text-align: right;\">\n",
       "      <th></th>\n",
       "      <th>Id</th>\n",
       "      <th>ProductId</th>\n",
       "      <th>UserId</th>\n",
       "      <th>ProfileName</th>\n",
       "      <th>HelpfulnessNumerator</th>\n",
       "      <th>HelpfulnessDenominator</th>\n",
       "      <th>Score</th>\n",
       "      <th>Time</th>\n",
       "      <th>Summary</th>\n",
       "      <th>Text</th>\n",
       "    </tr>\n",
       "  </thead>\n",
       "  <tbody>\n",
       "    <tr>\n",
       "      <th>0</th>\n",
       "      <td>1</td>\n",
       "      <td>B001E4KFG0</td>\n",
       "      <td>A3SGXH7AUHU8GW</td>\n",
       "      <td>delmartian</td>\n",
       "      <td>1</td>\n",
       "      <td>1</td>\n",
       "      <td>5</td>\n",
       "      <td>1303862400</td>\n",
       "      <td>Good Quality Dog Food</td>\n",
       "      <td>I have bought several of the Vitality canned d...</td>\n",
       "    </tr>\n",
       "    <tr>\n",
       "      <th>1</th>\n",
       "      <td>2</td>\n",
       "      <td>B00813GRG4</td>\n",
       "      <td>A1D87F6ZCVE5NK</td>\n",
       "      <td>dll pa</td>\n",
       "      <td>0</td>\n",
       "      <td>0</td>\n",
       "      <td>1</td>\n",
       "      <td>1346976000</td>\n",
       "      <td>Not as Advertised</td>\n",
       "      <td>Product arrived labeled as Jumbo Salted Peanut...</td>\n",
       "    </tr>\n",
       "    <tr>\n",
       "      <th>2</th>\n",
       "      <td>3</td>\n",
       "      <td>B000LQOCH0</td>\n",
       "      <td>ABXLMWJIXXAIN</td>\n",
       "      <td>Natalia Corres \"Natalia Corres\"</td>\n",
       "      <td>1</td>\n",
       "      <td>1</td>\n",
       "      <td>4</td>\n",
       "      <td>1219017600</td>\n",
       "      <td>\"Delight\" says it all</td>\n",
       "      <td>This is a confection that has been around a fe...</td>\n",
       "    </tr>\n",
       "    <tr>\n",
       "      <th>3</th>\n",
       "      <td>4</td>\n",
       "      <td>B000UA0QIQ</td>\n",
       "      <td>A395BORC6FGVXV</td>\n",
       "      <td>Karl</td>\n",
       "      <td>3</td>\n",
       "      <td>3</td>\n",
       "      <td>2</td>\n",
       "      <td>1307923200</td>\n",
       "      <td>Cough Medicine</td>\n",
       "      <td>If you are looking for the secret ingredient i...</td>\n",
       "    </tr>\n",
       "    <tr>\n",
       "      <th>4</th>\n",
       "      <td>5</td>\n",
       "      <td>B006K2ZZ7K</td>\n",
       "      <td>A1UQRSCLF8GW1T</td>\n",
       "      <td>Michael D. Bigham \"M. Wassir\"</td>\n",
       "      <td>0</td>\n",
       "      <td>0</td>\n",
       "      <td>5</td>\n",
       "      <td>1350777600</td>\n",
       "      <td>Great taffy</td>\n",
       "      <td>Great taffy at a great price.  There was a wid...</td>\n",
       "    </tr>\n",
       "  </tbody>\n",
       "</table>\n",
       "</div>"
      ],
      "text/plain": [
       "   Id   ProductId          UserId                      ProfileName  \\\n",
       "0   1  B001E4KFG0  A3SGXH7AUHU8GW                       delmartian   \n",
       "1   2  B00813GRG4  A1D87F6ZCVE5NK                           dll pa   \n",
       "2   3  B000LQOCH0   ABXLMWJIXXAIN  Natalia Corres \"Natalia Corres\"   \n",
       "3   4  B000UA0QIQ  A395BORC6FGVXV                             Karl   \n",
       "4   5  B006K2ZZ7K  A1UQRSCLF8GW1T    Michael D. Bigham \"M. Wassir\"   \n",
       "\n",
       "   HelpfulnessNumerator  HelpfulnessDenominator  Score        Time  \\\n",
       "0                     1                       1      5  1303862400   \n",
       "1                     0                       0      1  1346976000   \n",
       "2                     1                       1      4  1219017600   \n",
       "3                     3                       3      2  1307923200   \n",
       "4                     0                       0      5  1350777600   \n",
       "\n",
       "                 Summary                                               Text  \n",
       "0  Good Quality Dog Food  I have bought several of the Vitality canned d...  \n",
       "1      Not as Advertised  Product arrived labeled as Jumbo Salted Peanut...  \n",
       "2  \"Delight\" says it all  This is a confection that has been around a fe...  \n",
       "3         Cough Medicine  If you are looking for the secret ingredient i...  \n",
       "4            Great taffy  Great taffy at a great price.  There was a wid...  "
      ]
     },
     "execution_count": 4,
     "metadata": {},
     "output_type": "execute_result"
    }
   ],
   "source": [
    "reviews.head()"
   ]
  },
  {
   "cell_type": "code",
   "execution_count": 5,
   "metadata": {},
   "outputs": [],
   "source": [
    "# replacing score 1,2 as positive and 3,4 as negative\n",
    "actual_score = reviews['Score']\n",
    "positive_negative = reviews['Score'].apply(lambda x: 'positive' if x == 1 or x == 2 else 'negative')"
   ]
  },
  {
   "cell_type": "code",
   "execution_count": 6,
   "metadata": {},
   "outputs": [],
   "source": [
    "reviews['Score'] = positive_negative"
   ]
  },
  {
   "cell_type": "code",
   "execution_count": 7,
   "metadata": {},
   "outputs": [],
   "source": [
    "reviews['Time'] = pd.to_datetime(reviews['Time'],unit='s')"
   ]
  },
  {
   "cell_type": "code",
   "execution_count": 8,
   "metadata": {},
   "outputs": [],
   "source": [
    "sorted_reviews = reviews.sort_values(by='ProductId')"
   ]
  },
  {
   "cell_type": "code",
   "execution_count": 9,
   "metadata": {},
   "outputs": [],
   "source": [
    "final_review = sorted_reviews.drop_duplicates(subset = {'UserId','ProfileName','Time','Text'},keep = 'first')"
   ]
  },
  {
   "cell_type": "code",
   "execution_count": 10,
   "metadata": {},
   "outputs": [],
   "source": [
    "final_review = final_review[final_review['HelpfulnessNumerator'] < final_review['HelpfulnessDenominator']] # considering reviews that have actually helped people"
   ]
  },
  {
   "cell_type": "code",
   "execution_count": 11,
   "metadata": {},
   "outputs": [],
   "source": [
    "final_review_positive = final_review[final_review['Score'] == 'positive']"
   ]
  },
  {
   "cell_type": "code",
   "execution_count": 12,
   "metadata": {},
   "outputs": [
    {
     "data": {
      "text/html": [
       "<div>\n",
       "<style scoped>\n",
       "    .dataframe tbody tr th:only-of-type {\n",
       "        vertical-align: middle;\n",
       "    }\n",
       "\n",
       "    .dataframe tbody tr th {\n",
       "        vertical-align: top;\n",
       "    }\n",
       "\n",
       "    .dataframe thead th {\n",
       "        text-align: right;\n",
       "    }\n",
       "</style>\n",
       "<table border=\"1\" class=\"dataframe\">\n",
       "  <thead>\n",
       "    <tr style=\"text-align: right;\">\n",
       "      <th></th>\n",
       "      <th>Id</th>\n",
       "      <th>ProductId</th>\n",
       "      <th>UserId</th>\n",
       "      <th>ProfileName</th>\n",
       "      <th>HelpfulnessNumerator</th>\n",
       "      <th>HelpfulnessDenominator</th>\n",
       "      <th>Score</th>\n",
       "      <th>Time</th>\n",
       "      <th>Summary</th>\n",
       "      <th>Text</th>\n",
       "    </tr>\n",
       "  </thead>\n",
       "  <tbody>\n",
       "    <tr>\n",
       "      <th>150525</th>\n",
       "      <td>150526</td>\n",
       "      <td>0006641040</td>\n",
       "      <td>A3E9QZFE9KXH8J</td>\n",
       "      <td>R. Mitchell</td>\n",
       "      <td>11</td>\n",
       "      <td>18</td>\n",
       "      <td>positive</td>\n",
       "      <td>2005-10-17</td>\n",
       "      <td>awesome book poor size</td>\n",
       "      <td>This is one of the best children's books ever ...</td>\n",
       "    </tr>\n",
       "    <tr>\n",
       "      <th>171179</th>\n",
       "      <td>171180</td>\n",
       "      <td>7310172001</td>\n",
       "      <td>A2WDF9UM0M1VAD</td>\n",
       "      <td>susan m. kaitz</td>\n",
       "      <td>3</td>\n",
       "      <td>6</td>\n",
       "      <td>positive</td>\n",
       "      <td>2011-10-06</td>\n",
       "      <td>Review of Freeze Dried Liver Treats For Dogs</td>\n",
       "      <td>I received all containers previously opened - ...</td>\n",
       "    </tr>\n",
       "    <tr>\n",
       "      <th>171185</th>\n",
       "      <td>171186</td>\n",
       "      <td>7310172001</td>\n",
       "      <td>A12OC9ZA779927</td>\n",
       "      <td>Nancy Watts \"Nan Watts\"</td>\n",
       "      <td>1</td>\n",
       "      <td>22</td>\n",
       "      <td>positive</td>\n",
       "      <td>2005-12-10</td>\n",
       "      <td>no shipping charges in December if over $50 on...</td>\n",
       "      <td>Same price as Dr. Foster &amp; Smith.</td>\n",
       "    </tr>\n",
       "    <tr>\n",
       "      <th>171181</th>\n",
       "      <td>171182</td>\n",
       "      <td>7310172001</td>\n",
       "      <td>ANW9G620WDPVE</td>\n",
       "      <td>Kay M \"kay\"</td>\n",
       "      <td>2</td>\n",
       "      <td>7</td>\n",
       "      <td>positive</td>\n",
       "      <td>2009-03-18</td>\n",
       "      <td>great treat, but too expensive</td>\n",
       "      <td>okay, it's freeze-dried liver cube-lets.  my c...</td>\n",
       "    </tr>\n",
       "    <tr>\n",
       "      <th>171182</th>\n",
       "      <td>171183</td>\n",
       "      <td>7310172001</td>\n",
       "      <td>AE9ZBY7WW3LIQ</td>\n",
       "      <td>W. K. Ota</td>\n",
       "      <td>5</td>\n",
       "      <td>13</td>\n",
       "      <td>positive</td>\n",
       "      <td>2008-08-22</td>\n",
       "      <td>Why sbould I get crums?</td>\n",
       "      <td>I selected this company over the other even th...</td>\n",
       "    </tr>\n",
       "    <tr>\n",
       "      <th>...</th>\n",
       "      <td>...</td>\n",
       "      <td>...</td>\n",
       "      <td>...</td>\n",
       "      <td>...</td>\n",
       "      <td>...</td>\n",
       "      <td>...</td>\n",
       "      <td>...</td>\n",
       "      <td>...</td>\n",
       "      <td>...</td>\n",
       "      <td>...</td>\n",
       "    </tr>\n",
       "    <tr>\n",
       "      <th>260703</th>\n",
       "      <td>260704</td>\n",
       "      <td>B0099HD3YA</td>\n",
       "      <td>A1ZMF11YKBEE2T</td>\n",
       "      <td>C. Caunt</td>\n",
       "      <td>262</td>\n",
       "      <td>263</td>\n",
       "      <td>positive</td>\n",
       "      <td>2011-04-06</td>\n",
       "      <td>No no no!</td>\n",
       "      <td>I purchased the capsule via amazon as I do mos...</td>\n",
       "    </tr>\n",
       "    <tr>\n",
       "      <th>260704</th>\n",
       "      <td>260705</td>\n",
       "      <td>B0099HD3YA</td>\n",
       "      <td>A1K9I34SS9F2OS</td>\n",
       "      <td>jeremiahpj</td>\n",
       "      <td>319</td>\n",
       "      <td>323</td>\n",
       "      <td>positive</td>\n",
       "      <td>2011-01-13</td>\n",
       "      <td>Way too expensive. Much cheaper through Nespre...</td>\n",
       "      <td>These pods cost way more than ordering through...</td>\n",
       "    </tr>\n",
       "    <tr>\n",
       "      <th>526276</th>\n",
       "      <td>526277</td>\n",
       "      <td>B009CGGYHQ</td>\n",
       "      <td>ARQKQV5IS0585</td>\n",
       "      <td>kidrambler</td>\n",
       "      <td>1</td>\n",
       "      <td>2</td>\n",
       "      <td>positive</td>\n",
       "      <td>2011-05-20</td>\n",
       "      <td>Garbage!!!!</td>\n",
       "      <td>They deleted my previous review so I am writin...</td>\n",
       "    </tr>\n",
       "    <tr>\n",
       "      <th>463875</th>\n",
       "      <td>463876</td>\n",
       "      <td>B009HX6ZC8</td>\n",
       "      <td>A3PC9F502706GT</td>\n",
       "      <td>L. Buczkowski \"Lissy\"</td>\n",
       "      <td>1</td>\n",
       "      <td>3</td>\n",
       "      <td>positive</td>\n",
       "      <td>2012-10-02</td>\n",
       "      <td>Mediocre Candy, But a step in the right direct...</td>\n",
       "      <td>I did a little research about these candies be...</td>\n",
       "    </tr>\n",
       "    <tr>\n",
       "      <th>68917</th>\n",
       "      <td>68918</td>\n",
       "      <td>B009IAUEOU</td>\n",
       "      <td>AZFYU1OVBPZ3</td>\n",
       "      <td>Readaholic \"Cindy\"</td>\n",
       "      <td>1</td>\n",
       "      <td>3</td>\n",
       "      <td>positive</td>\n",
       "      <td>2012-10-04</td>\n",
       "      <td>Don't bother!!</td>\n",
       "      <td>I was very unimpressed with these almonds.  Th...</td>\n",
       "    </tr>\n",
       "  </tbody>\n",
       "</table>\n",
       "<p>28244 rows × 10 columns</p>\n",
       "</div>"
      ],
      "text/plain": [
       "            Id   ProductId          UserId              ProfileName  \\\n",
       "150525  150526  0006641040  A3E9QZFE9KXH8J              R. Mitchell   \n",
       "171179  171180  7310172001  A2WDF9UM0M1VAD           susan m. kaitz   \n",
       "171185  171186  7310172001  A12OC9ZA779927  Nancy Watts \"Nan Watts\"   \n",
       "171181  171182  7310172001   ANW9G620WDPVE              Kay M \"kay\"   \n",
       "171182  171183  7310172001   AE9ZBY7WW3LIQ                W. K. Ota   \n",
       "...        ...         ...             ...                      ...   \n",
       "260703  260704  B0099HD3YA  A1ZMF11YKBEE2T                 C. Caunt   \n",
       "260704  260705  B0099HD3YA  A1K9I34SS9F2OS               jeremiahpj   \n",
       "526276  526277  B009CGGYHQ   ARQKQV5IS0585               kidrambler   \n",
       "463875  463876  B009HX6ZC8  A3PC9F502706GT    L. Buczkowski \"Lissy\"   \n",
       "68917    68918  B009IAUEOU    AZFYU1OVBPZ3       Readaholic \"Cindy\"   \n",
       "\n",
       "        HelpfulnessNumerator  HelpfulnessDenominator     Score       Time  \\\n",
       "150525                    11                      18  positive 2005-10-17   \n",
       "171179                     3                       6  positive 2011-10-06   \n",
       "171185                     1                      22  positive 2005-12-10   \n",
       "171181                     2                       7  positive 2009-03-18   \n",
       "171182                     5                      13  positive 2008-08-22   \n",
       "...                      ...                     ...       ...        ...   \n",
       "260703                   262                     263  positive 2011-04-06   \n",
       "260704                   319                     323  positive 2011-01-13   \n",
       "526276                     1                       2  positive 2011-05-20   \n",
       "463875                     1                       3  positive 2012-10-02   \n",
       "68917                      1                       3  positive 2012-10-04   \n",
       "\n",
       "                                                  Summary  \\\n",
       "150525                             awesome book poor size   \n",
       "171179       Review of Freeze Dried Liver Treats For Dogs   \n",
       "171185  no shipping charges in December if over $50 on...   \n",
       "171181                     great treat, but too expensive   \n",
       "171182                            Why sbould I get crums?   \n",
       "...                                                   ...   \n",
       "260703                                          No no no!   \n",
       "260704  Way too expensive. Much cheaper through Nespre...   \n",
       "526276                                        Garbage!!!!   \n",
       "463875  Mediocre Candy, But a step in the right direct...   \n",
       "68917                                      Don't bother!!   \n",
       "\n",
       "                                                     Text  \n",
       "150525  This is one of the best children's books ever ...  \n",
       "171179  I received all containers previously opened - ...  \n",
       "171185                  Same price as Dr. Foster & Smith.  \n",
       "171181  okay, it's freeze-dried liver cube-lets.  my c...  \n",
       "171182  I selected this company over the other even th...  \n",
       "...                                                   ...  \n",
       "260703  I purchased the capsule via amazon as I do mos...  \n",
       "260704  These pods cost way more than ordering through...  \n",
       "526276  They deleted my previous review so I am writin...  \n",
       "463875  I did a little research about these candies be...  \n",
       "68917   I was very unimpressed with these almonds.  Th...  \n",
       "\n",
       "[28244 rows x 10 columns]"
      ]
     },
     "execution_count": 12,
     "metadata": {},
     "output_type": "execute_result"
    }
   ],
   "source": [
    "final_review_positive"
   ]
  },
  {
   "cell_type": "code",
   "execution_count": 13,
   "metadata": {},
   "outputs": [],
   "source": [
    "final_review_negative = final_review[final_review['Score'] == 'negative']"
   ]
  },
  {
   "cell_type": "code",
   "execution_count": 14,
   "metadata": {},
   "outputs": [
    {
     "data": {
      "text/html": [
       "<div>\n",
       "<style scoped>\n",
       "    .dataframe tbody tr th:only-of-type {\n",
       "        vertical-align: middle;\n",
       "    }\n",
       "\n",
       "    .dataframe tbody tr th {\n",
       "        vertical-align: top;\n",
       "    }\n",
       "\n",
       "    .dataframe thead th {\n",
       "        text-align: right;\n",
       "    }\n",
       "</style>\n",
       "<table border=\"1\" class=\"dataframe\">\n",
       "  <thead>\n",
       "    <tr style=\"text-align: right;\">\n",
       "      <th></th>\n",
       "      <th>Id</th>\n",
       "      <th>ProductId</th>\n",
       "      <th>UserId</th>\n",
       "      <th>ProfileName</th>\n",
       "      <th>HelpfulnessNumerator</th>\n",
       "      <th>HelpfulnessDenominator</th>\n",
       "      <th>Score</th>\n",
       "      <th>Time</th>\n",
       "      <th>Summary</th>\n",
       "      <th>Text</th>\n",
       "    </tr>\n",
       "  </thead>\n",
       "  <tbody>\n",
       "    <tr>\n",
       "      <th>150508</th>\n",
       "      <td>150509</td>\n",
       "      <td>0006641040</td>\n",
       "      <td>A3CMRKGE0P909G</td>\n",
       "      <td>Teresa</td>\n",
       "      <td>3</td>\n",
       "      <td>4</td>\n",
       "      <td>negative</td>\n",
       "      <td>2002-04-10</td>\n",
       "      <td>A great way to learn the months</td>\n",
       "      <td>This is a book of poetry about the months of t...</td>\n",
       "    </tr>\n",
       "    <tr>\n",
       "      <th>150524</th>\n",
       "      <td>150525</td>\n",
       "      <td>0006641040</td>\n",
       "      <td>A2QID6VCFTY51R</td>\n",
       "      <td>Rick</td>\n",
       "      <td>1</td>\n",
       "      <td>2</td>\n",
       "      <td>negative</td>\n",
       "      <td>2002-07-01</td>\n",
       "      <td>In December it will be, my snowman's anniversa...</td>\n",
       "      <td>My daughter loves all the \"Really Rosie\" books...</td>\n",
       "    </tr>\n",
       "    <tr>\n",
       "      <th>150528</th>\n",
       "      <td>150529</td>\n",
       "      <td>0006641040</td>\n",
       "      <td>A25ACLV5KPB4W</td>\n",
       "      <td>Matt Hetling \"Matt\"</td>\n",
       "      <td>0</td>\n",
       "      <td>1</td>\n",
       "      <td>negative</td>\n",
       "      <td>2005-02-15</td>\n",
       "      <td>Nice cadence, catchy rhymes</td>\n",
       "      <td>In June&lt;br /&gt;I saw a charming group&lt;br /&gt;of ro...</td>\n",
       "    </tr>\n",
       "    <tr>\n",
       "      <th>150492</th>\n",
       "      <td>150493</td>\n",
       "      <td>0006641040</td>\n",
       "      <td>AMX0PJKV4PPNJ</td>\n",
       "      <td>E. R. Bird \"Ramseelbird\"</td>\n",
       "      <td>71</td>\n",
       "      <td>72</td>\n",
       "      <td>negative</td>\n",
       "      <td>2004-09-29</td>\n",
       "      <td>Read it once. Read it twice. Reading Chicken S...</td>\n",
       "      <td>These days, when a person says, \"chicken soup\"...</td>\n",
       "    </tr>\n",
       "    <tr>\n",
       "      <th>171227</th>\n",
       "      <td>171228</td>\n",
       "      <td>7310172001</td>\n",
       "      <td>AJD41FBJD9010</td>\n",
       "      <td>N. Ferguson \"Two, Daisy, Hannah, and Kitten\"</td>\n",
       "      <td>5</td>\n",
       "      <td>7</td>\n",
       "      <td>negative</td>\n",
       "      <td>2009-01-31</td>\n",
       "      <td>NO waste at all--- all dogs love liver treats-...</td>\n",
       "      <td>Freeze dried liver has a hypnotic effect on do...</td>\n",
       "    </tr>\n",
       "    <tr>\n",
       "      <th>...</th>\n",
       "      <td>...</td>\n",
       "      <td>...</td>\n",
       "      <td>...</td>\n",
       "      <td>...</td>\n",
       "      <td>...</td>\n",
       "      <td>...</td>\n",
       "      <td>...</td>\n",
       "      <td>...</td>\n",
       "      <td>...</td>\n",
       "      <td>...</td>\n",
       "    </tr>\n",
       "    <tr>\n",
       "      <th>260734</th>\n",
       "      <td>260735</td>\n",
       "      <td>B0099HD3YA</td>\n",
       "      <td>ADV19KMGW7DUS</td>\n",
       "      <td>blender</td>\n",
       "      <td>0</td>\n",
       "      <td>15</td>\n",
       "      <td>negative</td>\n",
       "      <td>2012-04-17</td>\n",
       "      <td>perfect coffe</td>\n",
       "      <td>this are perfect capsules mix for the daily us...</td>\n",
       "    </tr>\n",
       "    <tr>\n",
       "      <th>260733</th>\n",
       "      <td>260734</td>\n",
       "      <td>B0099HD3YA</td>\n",
       "      <td>A1RH7WA3YFDQ5H</td>\n",
       "      <td>Denise2012</td>\n",
       "      <td>0</td>\n",
       "      <td>11</td>\n",
       "      <td>negative</td>\n",
       "      <td>2012-04-27</td>\n",
       "      <td>GREAT SELECTION</td>\n",
       "      <td>GREAT COFFEE VARIETY FOR ANYONE WITH NESPRESSO...</td>\n",
       "    </tr>\n",
       "    <tr>\n",
       "      <th>8929</th>\n",
       "      <td>8930</td>\n",
       "      <td>B009AVDFCK</td>\n",
       "      <td>A3AHZYRP1R90YQ</td>\n",
       "      <td>K. Dora \"KDD\"</td>\n",
       "      <td>3</td>\n",
       "      <td>6</td>\n",
       "      <td>negative</td>\n",
       "      <td>2008-12-28</td>\n",
       "      <td>Good tasting and great gift.</td>\n",
       "      <td>After purchasing these steaks for myself. I fo...</td>\n",
       "    </tr>\n",
       "    <tr>\n",
       "      <th>8927</th>\n",
       "      <td>8928</td>\n",
       "      <td>B009AVDFCK</td>\n",
       "      <td>A2PQT2JE8ZUR8W</td>\n",
       "      <td>Adam</td>\n",
       "      <td>2</td>\n",
       "      <td>3</td>\n",
       "      <td>negative</td>\n",
       "      <td>2010-04-05</td>\n",
       "      <td>Great price, great gift</td>\n",
       "      <td>The 12 pack is a great gift idea because Omaha...</td>\n",
       "    </tr>\n",
       "    <tr>\n",
       "      <th>71231</th>\n",
       "      <td>71232</td>\n",
       "      <td>B009KUFALA</td>\n",
       "      <td>A14WG4I5A1ZE8F</td>\n",
       "      <td>wicked witch</td>\n",
       "      <td>3</td>\n",
       "      <td>4</td>\n",
       "      <td>negative</td>\n",
       "      <td>2007-07-14</td>\n",
       "      <td>Shrimp cocktails with vodka  wooohooooo</td>\n",
       "      <td>I recently discovered this mix on a trip to Fl...</td>\n",
       "    </tr>\n",
       "  </tbody>\n",
       "</table>\n",
       "<p>40027 rows × 10 columns</p>\n",
       "</div>"
      ],
      "text/plain": [
       "            Id   ProductId          UserId  \\\n",
       "150508  150509  0006641040  A3CMRKGE0P909G   \n",
       "150524  150525  0006641040  A2QID6VCFTY51R   \n",
       "150528  150529  0006641040   A25ACLV5KPB4W   \n",
       "150492  150493  0006641040   AMX0PJKV4PPNJ   \n",
       "171227  171228  7310172001   AJD41FBJD9010   \n",
       "...        ...         ...             ...   \n",
       "260734  260735  B0099HD3YA   ADV19KMGW7DUS   \n",
       "260733  260734  B0099HD3YA  A1RH7WA3YFDQ5H   \n",
       "8929      8930  B009AVDFCK  A3AHZYRP1R90YQ   \n",
       "8927      8928  B009AVDFCK  A2PQT2JE8ZUR8W   \n",
       "71231    71232  B009KUFALA  A14WG4I5A1ZE8F   \n",
       "\n",
       "                                         ProfileName  HelpfulnessNumerator  \\\n",
       "150508                                        Teresa                     3   \n",
       "150524                                          Rick                     1   \n",
       "150528                           Matt Hetling \"Matt\"                     0   \n",
       "150492                      E. R. Bird \"Ramseelbird\"                    71   \n",
       "171227  N. Ferguson \"Two, Daisy, Hannah, and Kitten\"                     5   \n",
       "...                                              ...                   ...   \n",
       "260734                                       blender                     0   \n",
       "260733                                    Denise2012                     0   \n",
       "8929                                   K. Dora \"KDD\"                     3   \n",
       "8927                                            Adam                     2   \n",
       "71231                                   wicked witch                     3   \n",
       "\n",
       "        HelpfulnessDenominator     Score       Time  \\\n",
       "150508                       4  negative 2002-04-10   \n",
       "150524                       2  negative 2002-07-01   \n",
       "150528                       1  negative 2005-02-15   \n",
       "150492                      72  negative 2004-09-29   \n",
       "171227                       7  negative 2009-01-31   \n",
       "...                        ...       ...        ...   \n",
       "260734                      15  negative 2012-04-17   \n",
       "260733                      11  negative 2012-04-27   \n",
       "8929                         6  negative 2008-12-28   \n",
       "8927                         3  negative 2010-04-05   \n",
       "71231                        4  negative 2007-07-14   \n",
       "\n",
       "                                                  Summary  \\\n",
       "150508                    A great way to learn the months   \n",
       "150524  In December it will be, my snowman's anniversa...   \n",
       "150528                        Nice cadence, catchy rhymes   \n",
       "150492  Read it once. Read it twice. Reading Chicken S...   \n",
       "171227  NO waste at all--- all dogs love liver treats-...   \n",
       "...                                                   ...   \n",
       "260734                                      perfect coffe   \n",
       "260733                                    GREAT SELECTION   \n",
       "8929                         Good tasting and great gift.   \n",
       "8927                              Great price, great gift   \n",
       "71231             Shrimp cocktails with vodka  wooohooooo   \n",
       "\n",
       "                                                     Text  \n",
       "150508  This is a book of poetry about the months of t...  \n",
       "150524  My daughter loves all the \"Really Rosie\" books...  \n",
       "150528  In June<br />I saw a charming group<br />of ro...  \n",
       "150492  These days, when a person says, \"chicken soup\"...  \n",
       "171227  Freeze dried liver has a hypnotic effect on do...  \n",
       "...                                                   ...  \n",
       "260734  this are perfect capsules mix for the daily us...  \n",
       "260733  GREAT COFFEE VARIETY FOR ANYONE WITH NESPRESSO...  \n",
       "8929    After purchasing these steaks for myself. I fo...  \n",
       "8927    The 12 pack is a great gift idea because Omaha...  \n",
       "71231   I recently discovered this mix on a trip to Fl...  \n",
       "\n",
       "[40027 rows x 10 columns]"
      ]
     },
     "execution_count": 14,
     "metadata": {},
     "output_type": "execute_result"
    }
   ],
   "source": [
    "final_review_negative"
   ]
  },
  {
   "cell_type": "code",
   "execution_count": 15,
   "metadata": {},
   "outputs": [
    {
     "data": {
      "text/html": [
       "<div>\n",
       "<style scoped>\n",
       "    .dataframe tbody tr th:only-of-type {\n",
       "        vertical-align: middle;\n",
       "    }\n",
       "\n",
       "    .dataframe tbody tr th {\n",
       "        vertical-align: top;\n",
       "    }\n",
       "\n",
       "    .dataframe thead th {\n",
       "        text-align: right;\n",
       "    }\n",
       "</style>\n",
       "<table border=\"1\" class=\"dataframe\">\n",
       "  <thead>\n",
       "    <tr style=\"text-align: right;\">\n",
       "      <th></th>\n",
       "      <th>Id</th>\n",
       "      <th>ProductId</th>\n",
       "      <th>UserId</th>\n",
       "      <th>ProfileName</th>\n",
       "      <th>HelpfulnessNumerator</th>\n",
       "      <th>HelpfulnessDenominator</th>\n",
       "      <th>Score</th>\n",
       "      <th>Time</th>\n",
       "      <th>Summary</th>\n",
       "      <th>Text</th>\n",
       "    </tr>\n",
       "  </thead>\n",
       "  <tbody>\n",
       "    <tr>\n",
       "      <th>150508</th>\n",
       "      <td>150509</td>\n",
       "      <td>0006641040</td>\n",
       "      <td>A3CMRKGE0P909G</td>\n",
       "      <td>Teresa</td>\n",
       "      <td>3</td>\n",
       "      <td>4</td>\n",
       "      <td>negative</td>\n",
       "      <td>2002-04-10</td>\n",
       "      <td>A great way to learn the months</td>\n",
       "      <td>This is a book of poetry about the months of t...</td>\n",
       "    </tr>\n",
       "    <tr>\n",
       "      <th>150524</th>\n",
       "      <td>150525</td>\n",
       "      <td>0006641040</td>\n",
       "      <td>A2QID6VCFTY51R</td>\n",
       "      <td>Rick</td>\n",
       "      <td>1</td>\n",
       "      <td>2</td>\n",
       "      <td>negative</td>\n",
       "      <td>2002-07-01</td>\n",
       "      <td>In December it will be, my snowman's anniversa...</td>\n",
       "      <td>My daughter loves all the \"Really Rosie\" books...</td>\n",
       "    </tr>\n",
       "    <tr>\n",
       "      <th>150525</th>\n",
       "      <td>150526</td>\n",
       "      <td>0006641040</td>\n",
       "      <td>A3E9QZFE9KXH8J</td>\n",
       "      <td>R. Mitchell</td>\n",
       "      <td>11</td>\n",
       "      <td>18</td>\n",
       "      <td>positive</td>\n",
       "      <td>2005-10-17</td>\n",
       "      <td>awesome book poor size</td>\n",
       "      <td>This is one of the best children's books ever ...</td>\n",
       "    </tr>\n",
       "    <tr>\n",
       "      <th>150528</th>\n",
       "      <td>150529</td>\n",
       "      <td>0006641040</td>\n",
       "      <td>A25ACLV5KPB4W</td>\n",
       "      <td>Matt Hetling \"Matt\"</td>\n",
       "      <td>0</td>\n",
       "      <td>1</td>\n",
       "      <td>negative</td>\n",
       "      <td>2005-02-15</td>\n",
       "      <td>Nice cadence, catchy rhymes</td>\n",
       "      <td>In June&lt;br /&gt;I saw a charming group&lt;br /&gt;of ro...</td>\n",
       "    </tr>\n",
       "    <tr>\n",
       "      <th>150492</th>\n",
       "      <td>150493</td>\n",
       "      <td>0006641040</td>\n",
       "      <td>AMX0PJKV4PPNJ</td>\n",
       "      <td>E. R. Bird \"Ramseelbird\"</td>\n",
       "      <td>71</td>\n",
       "      <td>72</td>\n",
       "      <td>negative</td>\n",
       "      <td>2004-09-29</td>\n",
       "      <td>Read it once. Read it twice. Reading Chicken S...</td>\n",
       "      <td>These days, when a person says, \"chicken soup\"...</td>\n",
       "    </tr>\n",
       "    <tr>\n",
       "      <th>...</th>\n",
       "      <td>...</td>\n",
       "      <td>...</td>\n",
       "      <td>...</td>\n",
       "      <td>...</td>\n",
       "      <td>...</td>\n",
       "      <td>...</td>\n",
       "      <td>...</td>\n",
       "      <td>...</td>\n",
       "      <td>...</td>\n",
       "      <td>...</td>\n",
       "    </tr>\n",
       "    <tr>\n",
       "      <th>8927</th>\n",
       "      <td>8928</td>\n",
       "      <td>B009AVDFCK</td>\n",
       "      <td>A2PQT2JE8ZUR8W</td>\n",
       "      <td>Adam</td>\n",
       "      <td>2</td>\n",
       "      <td>3</td>\n",
       "      <td>negative</td>\n",
       "      <td>2010-04-05</td>\n",
       "      <td>Great price, great gift</td>\n",
       "      <td>The 12 pack is a great gift idea because Omaha...</td>\n",
       "    </tr>\n",
       "    <tr>\n",
       "      <th>526276</th>\n",
       "      <td>526277</td>\n",
       "      <td>B009CGGYHQ</td>\n",
       "      <td>ARQKQV5IS0585</td>\n",
       "      <td>kidrambler</td>\n",
       "      <td>1</td>\n",
       "      <td>2</td>\n",
       "      <td>positive</td>\n",
       "      <td>2011-05-20</td>\n",
       "      <td>Garbage!!!!</td>\n",
       "      <td>They deleted my previous review so I am writin...</td>\n",
       "    </tr>\n",
       "    <tr>\n",
       "      <th>463875</th>\n",
       "      <td>463876</td>\n",
       "      <td>B009HX6ZC8</td>\n",
       "      <td>A3PC9F502706GT</td>\n",
       "      <td>L. Buczkowski \"Lissy\"</td>\n",
       "      <td>1</td>\n",
       "      <td>3</td>\n",
       "      <td>positive</td>\n",
       "      <td>2012-10-02</td>\n",
       "      <td>Mediocre Candy, But a step in the right direct...</td>\n",
       "      <td>I did a little research about these candies be...</td>\n",
       "    </tr>\n",
       "    <tr>\n",
       "      <th>68917</th>\n",
       "      <td>68918</td>\n",
       "      <td>B009IAUEOU</td>\n",
       "      <td>AZFYU1OVBPZ3</td>\n",
       "      <td>Readaholic \"Cindy\"</td>\n",
       "      <td>1</td>\n",
       "      <td>3</td>\n",
       "      <td>positive</td>\n",
       "      <td>2012-10-04</td>\n",
       "      <td>Don't bother!!</td>\n",
       "      <td>I was very unimpressed with these almonds.  Th...</td>\n",
       "    </tr>\n",
       "    <tr>\n",
       "      <th>71231</th>\n",
       "      <td>71232</td>\n",
       "      <td>B009KUFALA</td>\n",
       "      <td>A14WG4I5A1ZE8F</td>\n",
       "      <td>wicked witch</td>\n",
       "      <td>3</td>\n",
       "      <td>4</td>\n",
       "      <td>negative</td>\n",
       "      <td>2007-07-14</td>\n",
       "      <td>Shrimp cocktails with vodka  wooohooooo</td>\n",
       "      <td>I recently discovered this mix on a trip to Fl...</td>\n",
       "    </tr>\n",
       "  </tbody>\n",
       "</table>\n",
       "<p>68271 rows × 10 columns</p>\n",
       "</div>"
      ],
      "text/plain": [
       "            Id   ProductId          UserId               ProfileName  \\\n",
       "150508  150509  0006641040  A3CMRKGE0P909G                    Teresa   \n",
       "150524  150525  0006641040  A2QID6VCFTY51R                      Rick   \n",
       "150525  150526  0006641040  A3E9QZFE9KXH8J               R. Mitchell   \n",
       "150528  150529  0006641040   A25ACLV5KPB4W       Matt Hetling \"Matt\"   \n",
       "150492  150493  0006641040   AMX0PJKV4PPNJ  E. R. Bird \"Ramseelbird\"   \n",
       "...        ...         ...             ...                       ...   \n",
       "8927      8928  B009AVDFCK  A2PQT2JE8ZUR8W                      Adam   \n",
       "526276  526277  B009CGGYHQ   ARQKQV5IS0585                kidrambler   \n",
       "463875  463876  B009HX6ZC8  A3PC9F502706GT     L. Buczkowski \"Lissy\"   \n",
       "68917    68918  B009IAUEOU    AZFYU1OVBPZ3        Readaholic \"Cindy\"   \n",
       "71231    71232  B009KUFALA  A14WG4I5A1ZE8F              wicked witch   \n",
       "\n",
       "        HelpfulnessNumerator  HelpfulnessDenominator     Score       Time  \\\n",
       "150508                     3                       4  negative 2002-04-10   \n",
       "150524                     1                       2  negative 2002-07-01   \n",
       "150525                    11                      18  positive 2005-10-17   \n",
       "150528                     0                       1  negative 2005-02-15   \n",
       "150492                    71                      72  negative 2004-09-29   \n",
       "...                      ...                     ...       ...        ...   \n",
       "8927                       2                       3  negative 2010-04-05   \n",
       "526276                     1                       2  positive 2011-05-20   \n",
       "463875                     1                       3  positive 2012-10-02   \n",
       "68917                      1                       3  positive 2012-10-04   \n",
       "71231                      3                       4  negative 2007-07-14   \n",
       "\n",
       "                                                  Summary  \\\n",
       "150508                    A great way to learn the months   \n",
       "150524  In December it will be, my snowman's anniversa...   \n",
       "150525                             awesome book poor size   \n",
       "150528                        Nice cadence, catchy rhymes   \n",
       "150492  Read it once. Read it twice. Reading Chicken S...   \n",
       "...                                                   ...   \n",
       "8927                              Great price, great gift   \n",
       "526276                                        Garbage!!!!   \n",
       "463875  Mediocre Candy, But a step in the right direct...   \n",
       "68917                                      Don't bother!!   \n",
       "71231             Shrimp cocktails with vodka  wooohooooo   \n",
       "\n",
       "                                                     Text  \n",
       "150508  This is a book of poetry about the months of t...  \n",
       "150524  My daughter loves all the \"Really Rosie\" books...  \n",
       "150525  This is one of the best children's books ever ...  \n",
       "150528  In June<br />I saw a charming group<br />of ro...  \n",
       "150492  These days, when a person says, \"chicken soup\"...  \n",
       "...                                                   ...  \n",
       "8927    The 12 pack is a great gift idea because Omaha...  \n",
       "526276  They deleted my previous review so I am writin...  \n",
       "463875  I did a little research about these candies be...  \n",
       "68917   I was very unimpressed with these almonds.  Th...  \n",
       "71231   I recently discovered this mix on a trip to Fl...  \n",
       "\n",
       "[68271 rows x 10 columns]"
      ]
     },
     "execution_count": 15,
     "metadata": {},
     "output_type": "execute_result"
    }
   ],
   "source": [
    "final_review"
   ]
  },
  {
   "cell_type": "code",
   "execution_count": 16,
   "metadata": {},
   "outputs": [
    {
     "data": {
      "text/plain": [
       "<matplotlib.axes._subplots.AxesSubplot at 0x7f84ca9f1a90>"
      ]
     },
     "execution_count": 16,
     "metadata": {},
     "output_type": "execute_result"
    },
    {
     "data": {
      "image/png": "[encoded data removed]",
      "text/plain": [
       "<Figure size 432x288 with 1 Axes>"
      ]
     },
     "metadata": {
      "needs_background": "light"
     },
     "output_type": "display_data"
    }
   ],
   "source": [
    "final_review['Score'].value_counts().plot(kind = 'bar')"
   ]
  },
  {
   "cell_type": "code",
   "execution_count": 17,
   "metadata": {},
   "outputs": [],
   "source": [
    "import re\n",
    "import string\n",
    "import nltk\n",
    "from nltk.corpus import stopwords\n",
    "from nltk.stem import PorterStemmer\n",
    "from nltk.stem.wordnet import WordNetLemmatizer\n",
    "from nltk.stem import SnowballStemmer\n",
    "st = stopwords.words('english')"
   ]
  },
  {
   "cell_type": "code",
   "execution_count": 18,
   "metadata": {},
   "outputs": [],
   "source": [
    "text = final_review['Text'].apply(lambda x: re.sub('<.*>',' ',x)) #removing html tags\n",
    "text = text.apply(lambda x : re.sub(r'[?|!|\\'|\"|#]',r'',x))  #removing punctuations\n",
    "text = text.apply(lambda x : re.sub(r'[.|,|)|(|\\\\|/]',r' ',x)) # if you find this punctuations substitute with space\n",
    "text = text.apply(lambda x : ' '.join([word for word in x.split() if word.isalpha() and len(word) > 2])) # discarding all numerical words and words whose length is \n",
    "#less than 2\n",
    "\n",
    "text = text.apply(lambda x : ' '.join([word for word in x.split() if word.lower() not in st])) # removing stopwords\n",
    "snow_ball_stemmer = SnowballStemmer('english')\n",
    "porter_stemmer = PorterStemmer()\n",
    "text = text.apply(lambda x : ' '.join([snow_ball_stemmer.stem(word.lower()) for word in x.split()]))"
   ]
  },
  {
   "cell_type": "code",
   "execution_count": 19,
   "metadata": {},
   "outputs": [
    {
     "data": {
      "text/plain": [
       "150508    book poetri month year goe month cute littl po...\n",
       "150524    daughter love realli rosi book introduc realli...\n",
       "150525    one best children book ever written mini versi...\n",
       "150528    june great book teach children month year repe...\n",
       "150492    day person say chicken soup theyr probabl go f...\n",
       "                                ...                        \n",
       "8927      pack great gift idea omaha steak packag two bo...\n",
       "526276    delet previous review write anoth one lemon ve...\n",
       "463875    littl research candi invit tri free websit you...\n",
       "68917     unimpress almond clovey musti tast expect swee...\n",
       "71231     recent discov mix trip florida delight order a...\n",
       "Name: Text, Length: 68271, dtype: object"
      ]
     },
     "execution_count": 19,
     "metadata": {},
     "output_type": "execute_result"
    }
   ],
   "source": [
    "text"
   ]
  },
  {
   "cell_type": "code",
   "execution_count": 20,
   "metadata": {},
   "outputs": [],
   "source": [
    "positive_and_negative_words = pd.concat([final_review['Score'],text],axis = 1)\n",
    "positive_words = positive_and_negative_words[positive_and_negative_words['Score'] == 'positive']\n",
    "all_positive_words = [word for sent in positive_words['Text'] for word in sent.split()]\n",
    "\n",
    "\n",
    "negative_words = positive_and_negative_words[positive_and_negative_words['Score'] == 'negative']\n",
    "all_negative_words_array = [word for sent in negative_words['Text'] for word in sent.split()]"
   ]
  },
  {
   "cell_type": "code",
   "execution_count": 21,
   "metadata": {},
   "outputs": [],
   "source": [
    "from sklearn.feature_extraction.text import CountVectorizer\n",
    "count_vec = CountVectorizer()\n",
    "count_vec_trigrams = CountVectorizer(ngram_range = (1,3))\n",
    "max_df = [0.4,0.5,0.6,0.7]\n",
    "min_df = [0.01,0.02,0.1,0.2,0.3,0.4]\n",
    "bag_of_words_count_vec = count_vec.fit_transform(text)"
   ]
  },
  {
   "cell_type": "code",
   "execution_count": 22,
   "metadata": {},
   "outputs": [],
   "source": [
    "from sklearn.feature_extraction.text import TfidfTransformer\n",
    "tfidf_vec = TfidfTransformer()\n",
    "bag_of_words_tfidf = tfidf_vec.fit_transform(bag_of_words_count_vec)"
   ]
  },
  {
   "cell_type": "code",
   "execution_count": 23,
   "metadata": {},
   "outputs": [],
   "source": [
    "from sklearn.preprocessing import StandardScaler\n",
    "from sklearn.model_selection import train_test_split\n",
    "standard_scaler = StandardScaler(with_mean = False)\n",
    "bag_of_words_standard_scaler = standard_scaler.fit_transform(bag_of_words_count_vec)"
   ]
  },
  {
   "cell_type": "code",
   "execution_count": 24,
   "metadata": {},
   "outputs": [],
   "source": [
    "X_train,X_test,y_train,y_test = train_test_split(bag_of_words_standard_scaler,final_review['Score'],test_size = 0.2)"
   ]
  },
  {
   "cell_type": "code",
   "execution_count": 25,
   "metadata": {},
   "outputs": [],
   "source": [
    "from sklearn.naive_bayes import MultinomialNB"
   ]
  },
  {
   "cell_type": "code",
   "execution_count": 26,
   "metadata": {},
   "outputs": [],
   "source": [
    "mylist = np.arange(0.00001,0.001,0.00005)\n",
    "#mylist = np.arange(0.01,0.9,0.09)\n",
    "from sklearn.model_selection import cross_val_score\n",
    "from sklearn.model_selection import cross_val_predict\n",
    "from sklearn.model_selection import train_test_split\n",
    "from sklearn.metrics import roc_auc_score,accuracy_score\n",
    "X_train,X_test,y_train,y_test = train_test_split(bag_of_words_standard_scaler,final_review['Score'],test_size = 0.2)\n",
    "array = []\n",
    "for i in mylist:\n",
    "    naive_bays = MultinomialNB(alpha = i)\n",
    "    clf = naive_bays.fit(X_train,y_train)\n",
    "    pred = clf.predict(X_test)\n",
    "    acc_score = accuracy_score(pred,y_test)\n",
    "    #roc_auc_score = roc_auc_score(pred,y_test)\n",
    "    array.append((i,acc_score))\n",
    "\n",
    "\n"
   ]
  },
  {
   "cell_type": "code",
   "execution_count": 27,
   "metadata": {},
   "outputs": [
    {
     "data": {
      "text/html": [
       "<div>\n",
       "<style scoped>\n",
       "    .dataframe tbody tr th:only-of-type {\n",
       "        vertical-align: middle;\n",
       "    }\n",
       "\n",
       "    .dataframe tbody tr th {\n",
       "        vertical-align: top;\n",
       "    }\n",
       "\n",
       "    .dataframe thead th {\n",
       "        text-align: right;\n",
       "    }\n",
       "</style>\n",
       "<table border=\"1\" class=\"dataframe\">\n",
       "  <thead>\n",
       "    <tr style=\"text-align: right;\">\n",
       "      <th></th>\n",
       "      <th>0</th>\n",
       "      <th>1</th>\n",
       "    </tr>\n",
       "  </thead>\n",
       "  <tbody>\n",
       "    <tr>\n",
       "      <th>3</th>\n",
       "      <td>0.00016</td>\n",
       "      <td>0.715196</td>\n",
       "    </tr>\n",
       "    <tr>\n",
       "      <th>4</th>\n",
       "      <td>0.00021</td>\n",
       "      <td>0.715196</td>\n",
       "    </tr>\n",
       "    <tr>\n",
       "      <th>5</th>\n",
       "      <td>0.00026</td>\n",
       "      <td>0.715196</td>\n",
       "    </tr>\n",
       "    <tr>\n",
       "      <th>6</th>\n",
       "      <td>0.00031</td>\n",
       "      <td>0.715196</td>\n",
       "    </tr>\n",
       "    <tr>\n",
       "      <th>7</th>\n",
       "      <td>0.00036</td>\n",
       "      <td>0.715196</td>\n",
       "    </tr>\n",
       "    <tr>\n",
       "      <th>8</th>\n",
       "      <td>0.00041</td>\n",
       "      <td>0.715196</td>\n",
       "    </tr>\n",
       "    <tr>\n",
       "      <th>9</th>\n",
       "      <td>0.00046</td>\n",
       "      <td>0.715196</td>\n",
       "    </tr>\n",
       "    <tr>\n",
       "      <th>10</th>\n",
       "      <td>0.00051</td>\n",
       "      <td>0.715196</td>\n",
       "    </tr>\n",
       "    <tr>\n",
       "      <th>11</th>\n",
       "      <td>0.00056</td>\n",
       "      <td>0.715196</td>\n",
       "    </tr>\n",
       "    <tr>\n",
       "      <th>12</th>\n",
       "      <td>0.00061</td>\n",
       "      <td>0.715196</td>\n",
       "    </tr>\n",
       "    <tr>\n",
       "      <th>13</th>\n",
       "      <td>0.00066</td>\n",
       "      <td>0.715196</td>\n",
       "    </tr>\n",
       "    <tr>\n",
       "      <th>14</th>\n",
       "      <td>0.00071</td>\n",
       "      <td>0.715196</td>\n",
       "    </tr>\n",
       "    <tr>\n",
       "      <th>15</th>\n",
       "      <td>0.00076</td>\n",
       "      <td>0.715196</td>\n",
       "    </tr>\n",
       "    <tr>\n",
       "      <th>16</th>\n",
       "      <td>0.00081</td>\n",
       "      <td>0.715196</td>\n",
       "    </tr>\n",
       "    <tr>\n",
       "      <th>17</th>\n",
       "      <td>0.00086</td>\n",
       "      <td>0.715196</td>\n",
       "    </tr>\n",
       "    <tr>\n",
       "      <th>18</th>\n",
       "      <td>0.00091</td>\n",
       "      <td>0.715196</td>\n",
       "    </tr>\n",
       "    <tr>\n",
       "      <th>19</th>\n",
       "      <td>0.00096</td>\n",
       "      <td>0.715196</td>\n",
       "    </tr>\n",
       "  </tbody>\n",
       "</table>\n",
       "</div>"
      ],
      "text/plain": [
       "          0         1\n",
       "3   0.00016  0.715196\n",
       "4   0.00021  0.715196\n",
       "5   0.00026  0.715196\n",
       "6   0.00031  0.715196\n",
       "7   0.00036  0.715196\n",
       "8   0.00041  0.715196\n",
       "9   0.00046  0.715196\n",
       "10  0.00051  0.715196\n",
       "11  0.00056  0.715196\n",
       "12  0.00061  0.715196\n",
       "13  0.00066  0.715196\n",
       "14  0.00071  0.715196\n",
       "15  0.00076  0.715196\n",
       "16  0.00081  0.715196\n",
       "17  0.00086  0.715196\n",
       "18  0.00091  0.715196\n",
       "19  0.00096  0.715196"
      ]
     },
     "execution_count": 27,
     "metadata": {},
     "output_type": "execute_result"
    }
   ],
   "source": [
    "params = pd.DataFrame(array)\n",
    "params[params[1] == params[1].max()]"
   ]
  },
  {
   "cell_type": "code",
   "execution_count": 28,
   "metadata": {},
   "outputs": [],
   "source": [
    "nb = MultinomialNB(alpha = 0.00001)\n",
    "model = nb.fit(X_train,y_train)\n",
    "pred = model.predict(X_test)"
   ]
  },
  {
   "cell_type": "code",
   "execution_count": 29,
   "metadata": {},
   "outputs": [
    {
     "name": "stdout",
     "output_type": "stream",
     "text": [
      "              precision    recall  f1-score   support\n",
      "\n",
      "    negative       0.68      0.81      0.74      6771\n",
      "    positive       0.77      0.63      0.69      6884\n",
      "\n",
      "    accuracy                           0.71     13655\n",
      "   macro avg       0.72      0.72      0.71     13655\n",
      "weighted avg       0.72      0.71      0.71     13655\n",
      "\n"
     ]
    }
   ],
   "source": [
    "from sklearn.metrics import classification_report\n",
    "print(classification_report(pred,y_test))"
   ]
  },
  {
   "cell_type": "code",
   "execution_count": 30,
   "metadata": {},
   "outputs": [],
   "source": [
    "bag_of_word_features = count_vec.get_feature_names()"
   ]
  },
  {
   "cell_type": "code",
   "execution_count": 31,
   "metadata": {},
   "outputs": [
    {
     "data": {
      "text/plain": [
       "array([31995., 22621.])"
      ]
     },
     "execution_count": 31,
     "metadata": {},
     "output_type": "execute_result"
    }
   ],
   "source": [
    "model.class_count_"
   ]
  },
  {
   "cell_type": "code",
   "execution_count": 32,
   "metadata": {},
   "outputs": [
    {
     "data": {
      "text/plain": [
       "array([[-10.77404468, -10.77404468, -10.77404468, ..., -27.85259769,\n",
       "        -27.85259769, -10.77404468],\n",
       "       [-27.51120196, -27.51120196, -27.51120196, ..., -27.51120196,\n",
       "        -27.51120196, -27.51120196]])"
      ]
     },
     "execution_count": 32,
     "metadata": {},
     "output_type": "execute_result"
    }
   ],
   "source": [
    "model.feature_log_prob_"
   ]
  },
  {
   "cell_type": "code",
   "execution_count": 33,
   "metadata": {},
   "outputs": [
    {
     "data": {
      "text/html": [
       "<div>\n",
       "<style scoped>\n",
       "    .dataframe tbody tr th:only-of-type {\n",
       "        vertical-align: middle;\n",
       "    }\n",
       "\n",
       "    .dataframe tbody tr th {\n",
       "        vertical-align: top;\n",
       "    }\n",
       "\n",
       "    .dataframe thead th {\n",
       "        text-align: right;\n",
       "    }\n",
       "</style>\n",
       "<table border=\"1\" class=\"dataframe\">\n",
       "  <thead>\n",
       "    <tr style=\"text-align: right;\">\n",
       "      <th></th>\n",
       "      <th>0</th>\n",
       "      <th>1</th>\n",
       "    </tr>\n",
       "  </thead>\n",
       "  <tbody>\n",
       "    <tr>\n",
       "      <th>aaa</th>\n",
       "      <td>-10.774045</td>\n",
       "      <td>-27.511202</td>\n",
       "    </tr>\n",
       "    <tr>\n",
       "      <th>aaaaaaaaagghh</th>\n",
       "      <td>-10.774045</td>\n",
       "      <td>-27.511202</td>\n",
       "    </tr>\n",
       "    <tr>\n",
       "      <th>aaaaah</th>\n",
       "      <td>-10.774045</td>\n",
       "      <td>-27.511202</td>\n",
       "    </tr>\n",
       "    <tr>\n",
       "      <th>aaaah</th>\n",
       "      <td>-10.774045</td>\n",
       "      <td>-27.511202</td>\n",
       "    </tr>\n",
       "    <tr>\n",
       "      <th>aaah</th>\n",
       "      <td>-10.774045</td>\n",
       "      <td>-27.511202</td>\n",
       "    </tr>\n",
       "    <tr>\n",
       "      <th>...</th>\n",
       "      <td>...</td>\n",
       "      <td>...</td>\n",
       "    </tr>\n",
       "    <tr>\n",
       "      <th>zzzzzzz</th>\n",
       "      <td>-11.120611</td>\n",
       "      <td>-10.779215</td>\n",
       "    </tr>\n",
       "    <tr>\n",
       "      <th>zzzzzzzz</th>\n",
       "      <td>-10.774045</td>\n",
       "      <td>-27.511202</td>\n",
       "    </tr>\n",
       "    <tr>\n",
       "      <th>zzzzzzzzzz</th>\n",
       "      <td>-27.852598</td>\n",
       "      <td>-27.511202</td>\n",
       "    </tr>\n",
       "    <tr>\n",
       "      <th>zzzzzzzzzzz</th>\n",
       "      <td>-27.852598</td>\n",
       "      <td>-27.511202</td>\n",
       "    </tr>\n",
       "    <tr>\n",
       "      <th>zzzzzzzzzzzzzzzzzzzzzzzzzzzzzzzzzzzzzzzzz</th>\n",
       "      <td>-10.774045</td>\n",
       "      <td>-27.511202</td>\n",
       "    </tr>\n",
       "  </tbody>\n",
       "</table>\n",
       "<p>31218 rows × 2 columns</p>\n",
       "</div>"
      ],
      "text/plain": [
       "                                                   0          1\n",
       "aaa                                       -10.774045 -27.511202\n",
       "aaaaaaaaagghh                             -10.774045 -27.511202\n",
       "aaaaah                                    -10.774045 -27.511202\n",
       "aaaah                                     -10.774045 -27.511202\n",
       "aaah                                      -10.774045 -27.511202\n",
       "...                                              ...        ...\n",
       "zzzzzzz                                   -11.120611 -10.779215\n",
       "zzzzzzzz                                  -10.774045 -27.511202\n",
       "zzzzzzzzzz                                -27.852598 -27.511202\n",
       "zzzzzzzzzzz                               -27.852598 -27.511202\n",
       "zzzzzzzzzzzzzzzzzzzzzzzzzzzzzzzzzzzzzzzzz -10.774045 -27.511202\n",
       "\n",
       "[31218 rows x 2 columns]"
      ]
     },
     "execution_count": 33,
     "metadata": {},
     "output_type": "execute_result"
    }
   ],
   "source": [
    "df = pd.DataFrame(model.feature_log_prob_,columns = count_vec.get_feature_names()).T\n",
    "df"
   ]
  },
  {
   "cell_type": "code",
   "execution_count": 34,
   "metadata": {},
   "outputs": [],
   "source": [
    "positive = df[0].sort_values(ascending = False)[:10]"
   ]
  },
  {
   "cell_type": "code",
   "execution_count": 35,
   "metadata": {},
   "outputs": [],
   "source": [
    "#the top 20 words that are positive are[:10]\n",
    "negative = df[1].sort_values(ascending = False)[:10]"
   ]
  },
  {
   "cell_type": "code",
   "execution_count": 36,
   "metadata": {},
   "outputs": [
    {
     "data": {
      "text/plain": [
       "tast         -6.442493\n",
       "product      -6.484263\n",
       "like         -6.487173\n",
       "would        -6.628596\n",
       "one          -6.698705\n",
       "tri          -6.728853\n",
       "buy          -6.729148\n",
       "disappoint   -6.777637\n",
       "dont         -6.833561\n",
       "even         -6.851155\n",
       "Name: 1, dtype: float64"
      ]
     },
     "execution_count": 36,
     "metadata": {},
     "output_type": "execute_result"
    }
   ],
   "source": [
    "negative # words that are negative"
   ]
  },
  {
   "cell_type": "code",
   "execution_count": 37,
   "metadata": {},
   "outputs": [
    {
     "data": {
      "text/plain": [
       "great    -6.516262\n",
       "good     -6.577065\n",
       "love     -6.604379\n",
       "like     -6.660872\n",
       "tast     -6.741622\n",
       "use      -6.771377\n",
       "one      -6.816186\n",
       "make     -6.841067\n",
       "flavor   -6.851606\n",
       "tri      -6.859513\n",
       "Name: 0, dtype: float64"
      ]
     },
     "execution_count": 37,
     "metadata": {},
     "output_type": "execute_result"
    }
   ],
   "source": [
    "positive # words that are positive"
   ]
  },
  {
   "cell_type": "code",
   "execution_count": 38,
   "metadata": {},
   "outputs": [
    {
     "data": {
      "text/plain": [
       "406580    negative\n",
       "89973     negative\n",
       "554753    negative\n",
       "110820    negative\n",
       "360012    negative\n",
       "            ...   \n",
       "88598     positive\n",
       "302266    negative\n",
       "478879    positive\n",
       "83556     negative\n",
       "156304    negative\n",
       "Name: Score, Length: 13655, dtype: object"
      ]
     },
     "execution_count": 38,
     "metadata": {},
     "output_type": "execute_result"
    }
   ],
   "source": [
    "y_test"
   ]
  },
  {
   "cell_type": "code",
   "execution_count": 39,
   "metadata": {},
   "outputs": [],
   "source": [
    "mylist = np.arange(0.00001,0.001,0.00005)\n",
    "#mylist = np.arange(0.01,0.9,0.09)\n",
    "from sklearn.model_selection import cross_val_score\n",
    "from sklearn.model_selection import cross_val_predict\n",
    "from sklearn.model_selection import train_test_split\n",
    "from sklearn.metrics import roc_auc_score,accuracy_score\n",
    "X_train,X_test,y_train,y_test = train_test_split(bag_of_words_tfidf,final_review['Score'],test_size = 0.2)\n",
    "array = []\n",
    "for i in mylist:\n",
    "    naive_bays = MultinomialNB(alpha = i)\n",
    "    clf = naive_bays.fit(X_train,y_train)\n",
    "    pred = clf.predict(X_test)\n",
    "    acc_score = accuracy_score(pred,y_test)\n",
    "    #roc_auc_score = roc_auc_score(pred,y_test)\n",
    "    array.append((i,acc_score))\n",
    "\n",
    "\n"
   ]
  },
  {
   "cell_type": "code",
   "execution_count": 40,
   "metadata": {},
   "outputs": [],
   "source": [
    "params = pd.DataFrame(array)"
   ]
  },
  {
   "cell_type": "code",
   "execution_count": 41,
   "metadata": {},
   "outputs": [
    {
     "data": {
      "text/html": [
       "<div>\n",
       "<style scoped>\n",
       "    .dataframe tbody tr th:only-of-type {\n",
       "        vertical-align: middle;\n",
       "    }\n",
       "\n",
       "    .dataframe tbody tr th {\n",
       "        vertical-align: top;\n",
       "    }\n",
       "\n",
       "    .dataframe thead th {\n",
       "        text-align: right;\n",
       "    }\n",
       "</style>\n",
       "<table border=\"1\" class=\"dataframe\">\n",
       "  <thead>\n",
       "    <tr style=\"text-align: right;\">\n",
       "      <th></th>\n",
       "      <th>0</th>\n",
       "      <th>1</th>\n",
       "    </tr>\n",
       "  </thead>\n",
       "  <tbody>\n",
       "    <tr>\n",
       "      <th>19</th>\n",
       "      <td>0.00096</td>\n",
       "      <td>0.789015</td>\n",
       "    </tr>\n",
       "  </tbody>\n",
       "</table>\n",
       "</div>"
      ],
      "text/plain": [
       "          0         1\n",
       "19  0.00096  0.789015"
      ]
     },
     "execution_count": 41,
     "metadata": {},
     "output_type": "execute_result"
    }
   ],
   "source": [
    "params[params[1] == params[1].max()]"
   ]
  },
  {
   "cell_type": "code",
   "execution_count": 42,
   "metadata": {},
   "outputs": [
    {
     "name": "stdout",
     "output_type": "stream",
     "text": [
      "              precision    recall  f1-score   support\n",
      "\n",
      "    negative       0.88      0.79      0.83      8869\n",
      "    positive       0.67      0.79      0.72      4786\n",
      "\n",
      "    accuracy                           0.79     13655\n",
      "   macro avg       0.77      0.79      0.78     13655\n",
      "weighted avg       0.80      0.79      0.79     13655\n",
      "\n"
     ]
    }
   ],
   "source": [
    "nb = MultinomialNB(alpha = 0.00096)\n",
    "model = nb.fit(X_train,y_train)\n",
    "pred = model.predict(X_test)\n",
    "print(classification_report(pred,y_test))"
   ]
  },
  {
   "cell_type": "code",
   "execution_count": null,
   "metadata": {},
   "outputs": [],
   "source": []
  },
  {
   "cell_type": "code",
   "execution_count": 43,
   "metadata": {},
   "outputs": [
    {
     "data": {
      "text/plain": [
       "array([32061., 22555.])"
      ]
     },
     "execution_count": 43,
     "metadata": {},
     "output_type": "execute_result"
    }
   ],
   "source": [
    "model.class_count_ # how many classes of each terms were used during the classification"
   ]
  },
  {
   "cell_type": "code",
   "execution_count": 44,
   "metadata": {},
   "outputs": [
    {
     "data": {
      "text/plain": [
       "array([[-13.64242323, -18.81747424, -13.1102574 , ..., -18.81747424,\n",
       "        -13.02744886, -12.83350987],\n",
       "       [-18.48708094, -18.48708094, -18.48708094, ..., -18.48708094,\n",
       "        -18.48708094, -18.48708094]])"
      ]
     },
     "execution_count": 44,
     "metadata": {},
     "output_type": "execute_result"
    }
   ],
   "source": [
    "model.feature_log_prob_"
   ]
  },
  {
   "cell_type": "code",
   "execution_count": 45,
   "metadata": {},
   "outputs": [
    {
     "data": {
      "text/html": [
       "<div>\n",
       "<style scoped>\n",
       "    .dataframe tbody tr th:only-of-type {\n",
       "        vertical-align: middle;\n",
       "    }\n",
       "\n",
       "    .dataframe tbody tr th {\n",
       "        vertical-align: top;\n",
       "    }\n",
       "\n",
       "    .dataframe thead th {\n",
       "        text-align: right;\n",
       "    }\n",
       "</style>\n",
       "<table border=\"1\" class=\"dataframe\">\n",
       "  <thead>\n",
       "    <tr style=\"text-align: right;\">\n",
       "      <th></th>\n",
       "      <th>0</th>\n",
       "      <th>1</th>\n",
       "    </tr>\n",
       "  </thead>\n",
       "  <tbody>\n",
       "    <tr>\n",
       "      <th>aaa</th>\n",
       "      <td>-13.642423</td>\n",
       "      <td>-18.487081</td>\n",
       "    </tr>\n",
       "    <tr>\n",
       "      <th>aaaaaaaaagghh</th>\n",
       "      <td>-18.817474</td>\n",
       "      <td>-18.487081</td>\n",
       "    </tr>\n",
       "    <tr>\n",
       "      <th>aaaaah</th>\n",
       "      <td>-13.110257</td>\n",
       "      <td>-18.487081</td>\n",
       "    </tr>\n",
       "    <tr>\n",
       "      <th>aaaah</th>\n",
       "      <td>-18.817474</td>\n",
       "      <td>-18.487081</td>\n",
       "    </tr>\n",
       "    <tr>\n",
       "      <th>aaah</th>\n",
       "      <td>-13.825598</td>\n",
       "      <td>-18.487081</td>\n",
       "    </tr>\n",
       "    <tr>\n",
       "      <th>...</th>\n",
       "      <td>...</td>\n",
       "      <td>...</td>\n",
       "    </tr>\n",
       "    <tr>\n",
       "      <th>zzzzzzz</th>\n",
       "      <td>-12.954401</td>\n",
       "      <td>-12.443680</td>\n",
       "    </tr>\n",
       "    <tr>\n",
       "      <th>zzzzzzzz</th>\n",
       "      <td>-18.817474</td>\n",
       "      <td>-18.487081</td>\n",
       "    </tr>\n",
       "    <tr>\n",
       "      <th>zzzzzzzzzz</th>\n",
       "      <td>-18.817474</td>\n",
       "      <td>-18.487081</td>\n",
       "    </tr>\n",
       "    <tr>\n",
       "      <th>zzzzzzzzzzz</th>\n",
       "      <td>-13.027449</td>\n",
       "      <td>-18.487081</td>\n",
       "    </tr>\n",
       "    <tr>\n",
       "      <th>zzzzzzzzzzzzzzzzzzzzzzzzzzzzzzzzzzzzzzzzz</th>\n",
       "      <td>-12.833510</td>\n",
       "      <td>-18.487081</td>\n",
       "    </tr>\n",
       "  </tbody>\n",
       "</table>\n",
       "<p>31218 rows × 2 columns</p>\n",
       "</div>"
      ],
      "text/plain": [
       "                                                   0          1\n",
       "aaa                                       -13.642423 -18.487081\n",
       "aaaaaaaaagghh                             -18.817474 -18.487081\n",
       "aaaaah                                    -13.110257 -18.487081\n",
       "aaaah                                     -18.817474 -18.487081\n",
       "aaah                                      -13.825598 -18.487081\n",
       "...                                              ...        ...\n",
       "zzzzzzz                                   -12.954401 -12.443680\n",
       "zzzzzzzz                                  -18.817474 -18.487081\n",
       "zzzzzzzzzz                                -18.817474 -18.487081\n",
       "zzzzzzzzzzz                               -13.027449 -18.487081\n",
       "zzzzzzzzzzzzzzzzzzzzzzzzzzzzzzzzzzzzzzzzz -12.833510 -18.487081\n",
       "\n",
       "[31218 rows x 2 columns]"
      ]
     },
     "execution_count": 45,
     "metadata": {},
     "output_type": "execute_result"
    }
   ],
   "source": [
    "df = pd.DataFrame(model.feature_log_prob_,columns = count_vec.get_feature_names()).T\n",
    "df"
   ]
  },
  {
   "cell_type": "code",
   "execution_count": 46,
   "metadata": {},
   "outputs": [],
   "source": [
    "df_positive = df[0]\n",
    "df_negative = df[1]"
   ]
  },
  {
   "cell_type": "code",
   "execution_count": 47,
   "metadata": {},
   "outputs": [
    {
     "data": {
      "text/plain": [
       "great     -5.013540\n",
       "good      -5.070142\n",
       "love      -5.128034\n",
       "tast      -5.149826\n",
       "like      -5.160443\n",
       "coffe     -5.193113\n",
       "product   -5.244479\n",
       "flavor    -5.301974\n",
       "use       -5.317603\n",
       "tea       -5.322444\n",
       "Name: 0, dtype: float64"
      ]
     },
     "execution_count": 47,
     "metadata": {},
     "output_type": "execute_result"
    }
   ],
   "source": [
    "df_positive.sort_values(ascending = False)[0:10] # the positive words are"
   ]
  },
  {
   "cell_type": "code",
   "execution_count": 48,
   "metadata": {},
   "outputs": [
    {
     "data": {
      "text/plain": [
       "tast      -4.863341\n",
       "product   -4.960908\n",
       "like      -4.994465\n",
       "would     -5.347371\n",
       "one       -5.349352\n",
       "tri       -5.407667\n",
       "coffe     -5.408848\n",
       "buy       -5.423671\n",
       "flavor    -5.428354\n",
       "order     -5.450177\n",
       "Name: 1, dtype: float64"
      ]
     },
     "execution_count": 48,
     "metadata": {},
     "output_type": "execute_result"
    }
   ],
   "source": [
    "df_negative.sort_values(ascending = False)[0:10] # the negative words are"
   ]
  },
  {
   "cell_type": "code",
   "execution_count": 49,
   "metadata": {},
   "outputs": [],
   "source": [
    "count_vec_bigrams = CountVectorizer(ngram_range = (1,2))\n",
    "bag_of_words_count_vec_bigrams = count_vec_bigrams.fit_transform(text)\n",
    "from sklearn.feature_extraction.text import TfidfTransformer\n",
    "tfidf_vec = TfidfTransformer()\n",
    "bag_of_words_tfidf_bigrams = tfidf_vec.fit_transform(bag_of_words_count_vec_bigrams)"
   ]
  },
  {
   "cell_type": "code",
   "execution_count": 50,
   "metadata": {},
   "outputs": [],
   "source": [
    "mylist = np.arange(0.00001,0.001,0.00005)\n",
    "#mylist = np.arange(0.01,0.9,0.09)\n",
    "from sklearn.model_selection import cross_val_score\n",
    "from sklearn.model_selection import cross_val_predict\n",
    "from sklearn.model_selection import train_test_split\n",
    "from sklearn.metrics import roc_auc_score,accuracy_score\n",
    "X_train,X_test,y_train,y_test = train_test_split(bag_of_words_tfidf_bigrams,final_review['Score'],test_size = 0.2)\n",
    "array = []\n",
    "for i in mylist:\n",
    "    naive_bays = MultinomialNB(alpha = i)\n",
    "    clf = naive_bays.fit(X_train,y_train)\n",
    "    pred = clf.predict(X_test)\n",
    "    acc_score = accuracy_score(pred,y_test)\n",
    "    #roc_auc_score = roc_auc_score(pred,y_test)\n",
    "    array.append((i,acc_score))\n",
    "\n",
    "\n"
   ]
  },
  {
   "cell_type": "code",
   "execution_count": 51,
   "metadata": {},
   "outputs": [
    {
     "data": {
      "text/html": [
       "<div>\n",
       "<style scoped>\n",
       "    .dataframe tbody tr th:only-of-type {\n",
       "        vertical-align: middle;\n",
       "    }\n",
       "\n",
       "    .dataframe tbody tr th {\n",
       "        vertical-align: top;\n",
       "    }\n",
       "\n",
       "    .dataframe thead th {\n",
       "        text-align: right;\n",
       "    }\n",
       "</style>\n",
       "<table border=\"1\" class=\"dataframe\">\n",
       "  <thead>\n",
       "    <tr style=\"text-align: right;\">\n",
       "      <th></th>\n",
       "      <th>0</th>\n",
       "      <th>1</th>\n",
       "    </tr>\n",
       "  </thead>\n",
       "  <tbody>\n",
       "    <tr>\n",
       "      <th>19</th>\n",
       "      <td>0.00096</td>\n",
       "      <td>0.795313</td>\n",
       "    </tr>\n",
       "  </tbody>\n",
       "</table>\n",
       "</div>"
      ],
      "text/plain": [
       "          0         1\n",
       "19  0.00096  0.795313"
      ]
     },
     "execution_count": 51,
     "metadata": {},
     "output_type": "execute_result"
    }
   ],
   "source": [
    "params = pd.DataFrame(array)\n",
    "params[params[1] == params[1].max()]"
   ]
  },
  {
   "cell_type": "code",
   "execution_count": 52,
   "metadata": {},
   "outputs": [
    {
     "name": "stdout",
     "output_type": "stream",
     "text": [
      "              precision    recall  f1-score   support\n",
      "\n",
      "    negative       0.83      0.82      0.83      8096\n",
      "    positive       0.74      0.76      0.75      5559\n",
      "\n",
      "    accuracy                           0.80     13655\n",
      "   macro avg       0.79      0.79      0.79     13655\n",
      "weighted avg       0.80      0.80      0.80     13655\n",
      "\n"
     ]
    }
   ],
   "source": [
    "nb = MultinomialNB(alpha = 0.00096)\n",
    "model = nb.fit(X_train,y_train)\n",
    "pred = model.predict(X_test)\n",
    "print(classification_report(pred,y_test))"
   ]
  },
  {
   "cell_type": "code",
   "execution_count": 53,
   "metadata": {},
   "outputs": [],
   "source": [
    "df = pd.DataFrame(model.feature_log_prob_,columns = count_vec_bigrams.get_feature_names()).T"
   ]
  },
  {
   "cell_type": "code",
   "execution_count": 54,
   "metadata": {},
   "outputs": [],
   "source": [
    "df.reset_index(inplace = True)"
   ]
  },
  {
   "cell_type": "code",
   "execution_count": 55,
   "metadata": {},
   "outputs": [
    {
     "data": {
      "text/plain": [
       "0         False\n",
       "1         False\n",
       "2         False\n",
       "3         False\n",
       "4         False\n",
       "          ...  \n",
       "882391    False\n",
       "882392    False\n",
       "882393    False\n",
       "882394    False\n",
       "882395    False\n",
       "Name: index, Length: 882396, dtype: bool"
      ]
     },
     "execution_count": 55,
     "metadata": {},
     "output_type": "execute_result"
    }
   ],
   "source": [
    "df['index'] == len(df['index'].str.split())"
   ]
  },
  {
   "cell_type": "code",
   "execution_count": 56,
   "metadata": {},
   "outputs": [],
   "source": [
    "df.reset_index(inplace = True)"
   ]
  },
  {
   "cell_type": "code",
   "execution_count": 57,
   "metadata": {},
   "outputs": [],
   "source": [
    "unigrams = df[df['index'].str.split(expand = True)[1].apply(lambda x : True if pd.isnull(x) else False)]"
   ]
  },
  {
   "cell_type": "code",
   "execution_count": 58,
   "metadata": {},
   "outputs": [],
   "source": [
    "bigrams = df[df['index'].str.split(expand = True)[1].apply(lambda x : False if pd.isnull(x) else True)]"
   ]
  },
  {
   "cell_type": "code",
   "execution_count": 59,
   "metadata": {},
   "outputs": [],
   "source": [
    "unigrams = unigrams.set_index('index')"
   ]
  },
  {
   "cell_type": "code",
   "execution_count": 60,
   "metadata": {},
   "outputs": [],
   "source": [
    "df_positive = unigrams[0]\n",
    "df_negative = unigrams[1]"
   ]
  },
  {
   "cell_type": "code",
   "execution_count": 61,
   "metadata": {},
   "outputs": [
    {
     "data": {
      "text/plain": [
       "index\n",
       "great     -6.119385\n",
       "good      -6.169813\n",
       "love      -6.229387\n",
       "like      -6.235533\n",
       "tast      -6.236571\n",
       "coffe     -6.295579\n",
       "product   -6.347756\n",
       "tea       -6.374395\n",
       "flavor    -6.387073\n",
       "use       -6.399547\n",
       "Name: 0, dtype: float64"
      ]
     },
     "execution_count": 61,
     "metadata": {},
     "output_type": "execute_result"
    }
   ],
   "source": [
    "df_positive.sort_values(ascending = False)[:10]"
   ]
  },
  {
   "cell_type": "code",
   "execution_count": 62,
   "metadata": {},
   "outputs": [
    {
     "data": {
      "text/plain": [
       "index\n",
       "tast      -5.972073\n",
       "product   -6.067395\n",
       "like      -6.086945\n",
       "would     -6.446168\n",
       "one       -6.458895\n",
       "coffe     -6.480976\n",
       "tri       -6.506277\n",
       "flavor    -6.520546\n",
       "buy       -6.530180\n",
       "order     -6.548975\n",
       "Name: 1, dtype: float64"
      ]
     },
     "execution_count": 62,
     "metadata": {},
     "output_type": "execute_result"
    }
   ],
   "source": [
    "df_negative.sort_values(ascending = False)[:10]"
   ]
  },
  {
   "cell_type": "code",
   "execution_count": 63,
   "metadata": {},
   "outputs": [],
   "source": [
    "bigrams = bigrams.set_index('index')"
   ]
  },
  {
   "cell_type": "code",
   "execution_count": 64,
   "metadata": {},
   "outputs": [],
   "source": [
    "df_positive = bigrams[0]\n",
    "df_negative = bigrams[1]"
   ]
  },
  {
   "cell_type": "code",
   "execution_count": 65,
   "metadata": {},
   "outputs": [
    {
     "data": {
      "text/plain": [
       "index\n",
       "high recommend   -7.725376\n",
       "tast great       -7.901881\n",
       "tast like        -7.961859\n",
       "groceri store    -8.032465\n",
       "tast good        -8.039585\n",
       "great product    -8.118190\n",
       "great tast       -8.118561\n",
       "green tea        -8.298434\n",
       "peanut butter    -8.299823\n",
       "realli like      -8.334024\n",
       "Name: 0, dtype: float64"
      ]
     },
     "execution_count": 65,
     "metadata": {},
     "output_type": "execute_result"
    }
   ],
   "source": [
    "df_positive.sort_values(ascending = False)[:10]"
   ]
  },
  {
   "cell_type": "code",
   "execution_count": 66,
   "metadata": {},
   "outputs": [
    {
     "data": {
      "text/plain": [
       "index\n",
       "tast like         -7.084677\n",
       "wast money        -7.676618\n",
       "dont know         -8.085609\n",
       "tast good         -8.247498\n",
       "groceri store     -8.275482\n",
       "thought would     -8.353587\n",
       "much better       -8.388698\n",
       "look like         -8.423890\n",
       "would recommend   -8.452372\n",
       "never buy         -8.487142\n",
       "Name: 1, dtype: float64"
      ]
     },
     "execution_count": 66,
     "metadata": {},
     "output_type": "execute_result"
    }
   ],
   "source": [
    "df_negative.sort_values(ascending = False)[:10]"
   ]
  },
  {
   "cell_type": "code",
   "execution_count": null,
   "metadata": {},
   "outputs": [],
   "source": []
  }
 ],
 "metadata": {
  "kernelspec": {
   "display_name": "Python 3",
   "language": "python",
   "name": "python3"
  },
  "language_info": {
   "codemirror_mode": {
    "name": "ipython",
    "version": 3
   },
   "file_extension": ".py",
   "mimetype": "text/x-python",
   "name": "python",
   "nbconvert_exporter": "python",
   "pygments_lexer": "ipython3",
   "version": "3.6.6"
  }
 },
 "nbformat": 4,
 "nbformat_minor": 1
}
