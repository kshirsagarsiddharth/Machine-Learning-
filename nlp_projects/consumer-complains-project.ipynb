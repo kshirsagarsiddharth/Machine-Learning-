{
 "cells": [
  {
   "cell_type": "code",
   "execution_count": 1,
   "metadata": {
    "_cell_guid": "b1076dfc-b9ad-4769-8c92-a6c4dae69d19",
    "_uuid": "8f2839f25d086af736a60e9eeb907d3b93b6e0e5"
   },
   "outputs": [
    {
     "name": "stdout",
     "output_type": "stream",
     "text": [
      "/kaggle/input/consumer_complaints/Consumer_Complaints.csv\n"
     ]
    }
   ],
   "source": [
    "# This Python 3 environment comes with many helpful analytics libraries installed\n",
    "# It is defined by the kaggle/python docker image: https://github.com/kaggle/docker-python\n",
    "# For example, here's several helpful packages to load in \n",
    "\n",
    "import numpy as np # linear algebra\n",
    "import pandas as pd # data processing, CSV file I/O (e.g. pd.read_csv)\n",
    "from sklearn.pipeline import Pipeline\n",
    "\n",
    "# Input data files are available in the \"../input/\" directory.\n",
    "# For example, running this (by clicking run or pressing Shift+Enter) will list all files under the input directory\n",
    "\n",
    "import os\n",
    "for dirname, _, filenames in os.walk('/kaggle/input'):\n",
    "    for filename in filenames:\n",
    "        print(os.path.join(dirname, filename))\n",
    "\n",
    "# Any results you write to the current directory are saved as output."
   ]
  },
  {
   "cell_type": "code",
   "execution_count": null,
   "metadata": {
    "_cell_guid": "79c7e3d0-c299-4dcb-8224-4455121ee9b0",
    "_uuid": "d629ff2d2480ee46fbb7e2d37f6b5fab8052498a"
   },
   "outputs": [],
   "source": []
  },
  {
   "cell_type": "code",
   "execution_count": 2,
   "metadata": {
    "_cell_guid": "",
    "_uuid": ""
   },
   "outputs": [],
   "source": [
    "import pandas as pd\n",
    "complains = pd.read_csv(\"../input/consumer_complaints/Consumer_Complaints.csv\",parse_dates = True,low_memory = False)"
   ]
  },
  {
   "cell_type": "code",
   "execution_count": 3,
   "metadata": {},
   "outputs": [
    {
     "data": {
      "text/html": [
       "<div>\n",
       "<style scoped>\n",
       "    .dataframe tbody tr th:only-of-type {\n",
       "        vertical-align: middle;\n",
       "    }\n",
       "\n",
       "    .dataframe tbody tr th {\n",
       "        vertical-align: top;\n",
       "    }\n",
       "\n",
       "    .dataframe thead th {\n",
       "        text-align: right;\n",
       "    }\n",
       "</style>\n",
       "<table border=\"1\" class=\"dataframe\">\n",
       "  <thead>\n",
       "    <tr style=\"text-align: right;\">\n",
       "      <th></th>\n",
       "      <th>Complaint ID</th>\n",
       "      <th>Unnamed: 18</th>\n",
       "    </tr>\n",
       "    <tr>\n",
       "      <th>State</th>\n",
       "      <th></th>\n",
       "      <th></th>\n",
       "    </tr>\n",
       "  </thead>\n",
       "  <tbody>\n",
       "    <tr>\n",
       "      <th>AA</th>\n",
       "      <td>40650003</td>\n",
       "      <td>0.0</td>\n",
       "    </tr>\n",
       "    <tr>\n",
       "      <th>AE</th>\n",
       "      <td>670207610</td>\n",
       "      <td>0.0</td>\n",
       "    </tr>\n",
       "    <tr>\n",
       "      <th>AK</th>\n",
       "      <td>1898568504</td>\n",
       "      <td>0.0</td>\n",
       "    </tr>\n",
       "    <tr>\n",
       "      <th>AL</th>\n",
       "      <td>19971388832</td>\n",
       "      <td>0.0</td>\n",
       "    </tr>\n",
       "    <tr>\n",
       "      <th>AP</th>\n",
       "      <td>455154310</td>\n",
       "      <td>0.0</td>\n",
       "    </tr>\n",
       "    <tr>\n",
       "      <th>...</th>\n",
       "      <td>...</td>\n",
       "      <td>...</td>\n",
       "    </tr>\n",
       "    <tr>\n",
       "      <th>VT</th>\n",
       "      <td>2183575938</td>\n",
       "      <td>0.0</td>\n",
       "    </tr>\n",
       "    <tr>\n",
       "      <th>WA</th>\n",
       "      <td>33102325325</td>\n",
       "      <td>0.0</td>\n",
       "    </tr>\n",
       "    <tr>\n",
       "      <th>WI</th>\n",
       "      <td>17248350295</td>\n",
       "      <td>0.0</td>\n",
       "    </tr>\n",
       "    <tr>\n",
       "      <th>WV</th>\n",
       "      <td>4094118059</td>\n",
       "      <td>0.0</td>\n",
       "    </tr>\n",
       "    <tr>\n",
       "      <th>WY</th>\n",
       "      <td>1408310702</td>\n",
       "      <td>0.0</td>\n",
       "    </tr>\n",
       "  </tbody>\n",
       "</table>\n",
       "<p>63 rows × 2 columns</p>\n",
       "</div>"
      ],
      "text/plain": [
       "       Complaint ID  Unnamed: 18\n",
       "State                           \n",
       "AA         40650003          0.0\n",
       "AE        670207610          0.0\n",
       "AK       1898568504          0.0\n",
       "AL      19971388832          0.0\n",
       "AP        455154310          0.0\n",
       "...             ...          ...\n",
       "VT       2183575938          0.0\n",
       "WA      33102325325          0.0\n",
       "WI      17248350295          0.0\n",
       "WV       4094118059          0.0\n",
       "WY       1408310702          0.0\n",
       "\n",
       "[63 rows x 2 columns]"
      ]
     },
     "execution_count": 3,
     "metadata": {},
     "output_type": "execute_result"
    }
   ],
   "source": [
    "complains.groupby('State').sum()"
   ]
  },
  {
   "cell_type": "code",
   "execution_count": 4,
   "metadata": {},
   "outputs": [],
   "source": [
    "complains['complains_true'] = complains['Consumer Complaint'].apply(lambda x : 0 if pd.isna(x) else 1)"
   ]
  },
  {
   "cell_type": "code",
   "execution_count": 5,
   "metadata": {},
   "outputs": [
    {
     "data": {
      "text/plain": [
       "<matplotlib.axes._subplots.AxesSubplot at 0x7f6a487ef518>"
      ]
     },
     "execution_count": 5,
     "metadata": {},
     "output_type": "execute_result"
    },
    {
     "data": {
      "image/png": "[encoded data removed]",
      "text/plain": [
       "<Figure size 432x288 with 1 Axes>"
      ]
     },
     "metadata": {
      "needs_background": "light"
     },
     "output_type": "display_data"
    }
   ],
   "source": [
    "complains.groupby('State').sum()['complains_true'].plot()"
   ]
  },
  {
   "cell_type": "code",
   "execution_count": 6,
   "metadata": {},
   "outputs": [
    {
     "data": {
      "text/plain": [
       "Company\n",
       "EQUIFAX, INC.                             26591\n",
       "TRANSUNION INTERMEDIATE HOLDINGS, INC.    20952\n",
       "Experian Information Solutions Inc.       20843\n",
       "WELLS FARGO & COMPANY                     11009\n",
       "BANK OF AMERICA, NATIONAL ASSOCIATION     10580\n",
       "CITIBANK, N.A.                            10412\n",
       "Navient Solutions, LLC.                    9689\n",
       "JPMORGAN CHASE & CO.                       9484\n",
       "CAPITAL ONE FINANCIAL CORPORATION          6587\n",
       "SYNCHRONY FINANCIAL                        4936\n",
       "Name: complains_true, dtype: int64"
      ]
     },
     "execution_count": 6,
     "metadata": {},
     "output_type": "execute_result"
    }
   ],
   "source": [
    "complains.groupby('Company').sum()['complains_true'].sort_values(ascending = False)[:10]"
   ]
  },
  {
   "cell_type": "code",
   "execution_count": 7,
   "metadata": {},
   "outputs": [
    {
     "data": {
      "text/html": [
       "<div>\n",
       "<style scoped>\n",
       "    .dataframe tbody tr th:only-of-type {\n",
       "        vertical-align: middle;\n",
       "    }\n",
       "\n",
       "    .dataframe tbody tr th {\n",
       "        vertical-align: top;\n",
       "    }\n",
       "\n",
       "    .dataframe thead th {\n",
       "        text-align: right;\n",
       "    }\n",
       "</style>\n",
       "<table border=\"1\" class=\"dataframe\">\n",
       "  <thead>\n",
       "    <tr style=\"text-align: right;\">\n",
       "      <th></th>\n",
       "      <th>Date received</th>\n",
       "      <th>Product</th>\n",
       "      <th>Sub-product</th>\n",
       "      <th>Issue</th>\n",
       "      <th>Sub-issue</th>\n",
       "      <th>Consumer Complaint</th>\n",
       "      <th>Company Public Response</th>\n",
       "      <th>Company</th>\n",
       "      <th>State</th>\n",
       "      <th>ZIP code</th>\n",
       "      <th>Tags</th>\n",
       "      <th>Consumer consent provided?</th>\n",
       "      <th>Submitted via</th>\n",
       "      <th>Date Sent to Company</th>\n",
       "      <th>Company Response to Consumer</th>\n",
       "      <th>Timely response?</th>\n",
       "      <th>Consumer disputed?</th>\n",
       "      <th>Complaint ID</th>\n",
       "      <th>Unnamed: 18</th>\n",
       "      <th>complains_true</th>\n",
       "    </tr>\n",
       "  </thead>\n",
       "  <tbody>\n",
       "    <tr>\n",
       "      <th>10</th>\n",
       "      <td>04/14/2017</td>\n",
       "      <td>Mortgage</td>\n",
       "      <td>Other mortgage</td>\n",
       "      <td>Loan modification,collection,foreclosure</td>\n",
       "      <td>NaN</td>\n",
       "      <td>NaN</td>\n",
       "      <td>Company believes it acted appropriately as aut...</td>\n",
       "      <td>Shellpoint Partners, LLC</td>\n",
       "      <td>CA</td>\n",
       "      <td>90305</td>\n",
       "      <td>NaN</td>\n",
       "      <td>NaN</td>\n",
       "      <td>Referral</td>\n",
       "      <td>04/14/2017</td>\n",
       "      <td>Closed with explanation</td>\n",
       "      <td>Yes</td>\n",
       "      <td>No</td>\n",
       "      <td>2436165</td>\n",
       "      <td>NaN</td>\n",
       "      <td>0</td>\n",
       "    </tr>\n",
       "    <tr>\n",
       "      <th>19</th>\n",
       "      <td>03-09-2016</td>\n",
       "      <td>Credit reporting</td>\n",
       "      <td>NaN</td>\n",
       "      <td>Incorrect information on credit report</td>\n",
       "      <td>Information is not mine</td>\n",
       "      <td>NaN</td>\n",
       "      <td>Company has responded to the consumer and the ...</td>\n",
       "      <td>Experian Information Solutions Inc.</td>\n",
       "      <td>CA</td>\n",
       "      <td>92703</td>\n",
       "      <td>NaN</td>\n",
       "      <td>NaN</td>\n",
       "      <td>Phone</td>\n",
       "      <td>03-09-2016</td>\n",
       "      <td>Closed with explanation</td>\n",
       "      <td>Yes</td>\n",
       "      <td>No</td>\n",
       "      <td>1823789</td>\n",
       "      <td>NaN</td>\n",
       "      <td>0</td>\n",
       "    </tr>\n",
       "    <tr>\n",
       "      <th>21</th>\n",
       "      <td>03/17/2017</td>\n",
       "      <td>Bank account or service</td>\n",
       "      <td>Checking account</td>\n",
       "      <td>Making/receiving payments, sending money</td>\n",
       "      <td>NaN</td>\n",
       "      <td>NaN</td>\n",
       "      <td>Company believes it acted appropriately as aut...</td>\n",
       "      <td>UNITED SERVICES AUTOMOBILE ASSOCIATION</td>\n",
       "      <td>WI</td>\n",
       "      <td>54005</td>\n",
       "      <td>NaN</td>\n",
       "      <td>NaN</td>\n",
       "      <td>Referral</td>\n",
       "      <td>03/20/2017</td>\n",
       "      <td>Closed with explanation</td>\n",
       "      <td>Yes</td>\n",
       "      <td>No</td>\n",
       "      <td>2393048</td>\n",
       "      <td>NaN</td>\n",
       "      <td>0</td>\n",
       "    </tr>\n",
       "    <tr>\n",
       "      <th>24</th>\n",
       "      <td>02/25/2014</td>\n",
       "      <td>Debt collection</td>\n",
       "      <td>Other (i.e. phone, health club, etc.)</td>\n",
       "      <td>Cont'd attempts collect debt not owed</td>\n",
       "      <td>Debt is not mine</td>\n",
       "      <td>NaN</td>\n",
       "      <td>NaN</td>\n",
       "      <td>Navient Solutions, LLC.</td>\n",
       "      <td>RI</td>\n",
       "      <td>2906</td>\n",
       "      <td>NaN</td>\n",
       "      <td>NaN</td>\n",
       "      <td>Web</td>\n",
       "      <td>02/24/2014</td>\n",
       "      <td>Closed with explanation</td>\n",
       "      <td>Yes</td>\n",
       "      <td>Yes</td>\n",
       "      <td>730165</td>\n",
       "      <td>NaN</td>\n",
       "      <td>0</td>\n",
       "    </tr>\n",
       "    <tr>\n",
       "      <th>88</th>\n",
       "      <td>04/18/2017</td>\n",
       "      <td>Student loan</td>\n",
       "      <td>Non-federal student loan</td>\n",
       "      <td>Can't repay my loan</td>\n",
       "      <td>Can't decrease my monthly payments</td>\n",
       "      <td>NaN</td>\n",
       "      <td>NaN</td>\n",
       "      <td>JPMORGAN CHASE &amp; CO.</td>\n",
       "      <td>MD</td>\n",
       "      <td>20772</td>\n",
       "      <td>NaN</td>\n",
       "      <td>NaN</td>\n",
       "      <td>Referral</td>\n",
       "      <td>04/19/2017</td>\n",
       "      <td>Closed with explanation</td>\n",
       "      <td>Yes</td>\n",
       "      <td>No</td>\n",
       "      <td>2439594</td>\n",
       "      <td>NaN</td>\n",
       "      <td>0</td>\n",
       "    </tr>\n",
       "  </tbody>\n",
       "</table>\n",
       "</div>"
      ],
      "text/plain": [
       "   Date received                  Product  \\\n",
       "10    04/14/2017                 Mortgage   \n",
       "19    03-09-2016         Credit reporting   \n",
       "21    03/17/2017  Bank account or service   \n",
       "24    02/25/2014          Debt collection   \n",
       "88    04/18/2017             Student loan   \n",
       "\n",
       "                              Sub-product  \\\n",
       "10                         Other mortgage   \n",
       "19                                    NaN   \n",
       "21                       Checking account   \n",
       "24  Other (i.e. phone, health club, etc.)   \n",
       "88               Non-federal student loan   \n",
       "\n",
       "                                       Issue  \\\n",
       "10  Loan modification,collection,foreclosure   \n",
       "19    Incorrect information on credit report   \n",
       "21  Making/receiving payments, sending money   \n",
       "24     Cont'd attempts collect debt not owed   \n",
       "88                       Can't repay my loan   \n",
       "\n",
       "                             Sub-issue Consumer Complaint  \\\n",
       "10                                 NaN                NaN   \n",
       "19             Information is not mine                NaN   \n",
       "21                                 NaN                NaN   \n",
       "24                    Debt is not mine                NaN   \n",
       "88  Can't decrease my monthly payments                NaN   \n",
       "\n",
       "                              Company Public Response  \\\n",
       "10  Company believes it acted appropriately as aut...   \n",
       "19  Company has responded to the consumer and the ...   \n",
       "21  Company believes it acted appropriately as aut...   \n",
       "24                                                NaN   \n",
       "88                                                NaN   \n",
       "\n",
       "                                   Company State ZIP code Tags  \\\n",
       "10                Shellpoint Partners, LLC    CA    90305  NaN   \n",
       "19     Experian Information Solutions Inc.    CA    92703  NaN   \n",
       "21  UNITED SERVICES AUTOMOBILE ASSOCIATION    WI    54005  NaN   \n",
       "24                 Navient Solutions, LLC.    RI     2906  NaN   \n",
       "88                    JPMORGAN CHASE & CO.    MD    20772  NaN   \n",
       "\n",
       "   Consumer consent provided? Submitted via Date Sent to Company  \\\n",
       "10                        NaN      Referral           04/14/2017   \n",
       "19                        NaN         Phone           03-09-2016   \n",
       "21                        NaN      Referral           03/20/2017   \n",
       "24                        NaN           Web           02/24/2014   \n",
       "88                        NaN      Referral           04/19/2017   \n",
       "\n",
       "   Company Response to Consumer Timely response? Consumer disputed?  \\\n",
       "10      Closed with explanation              Yes                 No   \n",
       "19      Closed with explanation              Yes                 No   \n",
       "21      Closed with explanation              Yes                 No   \n",
       "24      Closed with explanation              Yes                Yes   \n",
       "88      Closed with explanation              Yes                 No   \n",
       "\n",
       "    Complaint ID  Unnamed: 18  complains_true  \n",
       "10       2436165          NaN               0  \n",
       "19       1823789          NaN               0  \n",
       "21       2393048          NaN               0  \n",
       "24        730165          NaN               0  \n",
       "88       2439594          NaN               0  "
      ]
     },
     "execution_count": 7,
     "metadata": {},
     "output_type": "execute_result"
    }
   ],
   "source": [
    "np.random.seed(10)\n",
    "remove_n = 1000000\n",
    "drop_indices = np.random.choice(complains.index, remove_n, replace=False)\n",
    "df = complains.drop(drop_indices)\n",
    "df.shape\n",
    "# Remove above code after mem optimization\n",
    "df.head()"
   ]
  },
  {
   "cell_type": "code",
   "execution_count": 8,
   "metadata": {},
   "outputs": [],
   "source": [
    "df = df[['Product','Consumer Complaint']]\n",
    "df = df[pd.notnull(df['Consumer Complaint'])]\n",
    "#pd.notnull(df['Consumer Complaint'])"
   ]
  },
  {
   "cell_type": "code",
   "execution_count": 9,
   "metadata": {},
   "outputs": [],
   "source": [
    "df['category_id'] = df['Product'].factorize()[0]"
   ]
  },
  {
   "cell_type": "code",
   "execution_count": 10,
   "metadata": {},
   "outputs": [],
   "source": [
    "category_to_id = dict(df[['Product','category_id']].drop_duplicates().values)"
   ]
  },
  {
   "cell_type": "code",
   "execution_count": 11,
   "metadata": {},
   "outputs": [],
   "source": [
    "id_to_category = dict(df[['category_id','Product']].drop_duplicates().values)"
   ]
  },
  {
   "cell_type": "code",
   "execution_count": 12,
   "metadata": {},
   "outputs": [
    {
     "data": {
      "text/plain": [
       "Product\n",
       "Debt collection                                                                 1547\n",
       "Credit reporting, credit repair services, or other personal consumer reports    1197\n",
       "Mortgage                                                                        1045\n",
       "Credit reporting                                                                 735\n",
       "Credit card                                                                      482\n",
       "Student loan                                                                     435\n",
       "Bank account or service                                                          382\n",
       "Credit card or prepaid card                                                      263\n",
       "Consumer Loan                                                                    206\n",
       "Checking or savings account                                                      178\n",
       "Money transfer, virtual currency, or money service                                73\n",
       "Vehicle loan or lease                                                             64\n",
       "Payday loan, title loan, or personal loan                                         49\n",
       "Money transfers                                                                   36\n",
       "Payday loan                                                                       36\n",
       "Prepaid card                                                                      35\n",
       "Other financial service                                                            5\n",
       "Virtual currency                                                                   1\n",
       "Name: Consumer Complaint, dtype: int64"
      ]
     },
     "execution_count": 12,
     "metadata": {},
     "output_type": "execute_result"
    }
   ],
   "source": [
    "df.groupby('Product').count()['Consumer Complaint'].sort_values(ascending = False)"
   ]
  },
  {
   "cell_type": "code",
   "execution_count": 13,
   "metadata": {},
   "outputs": [],
   "source": [
    "from sklearn.feature_extraction.text import TfidfVectorizer\n",
    "tfidf = TfidfVectorizer(sublinear_tf = True,min_df = 5,norm = 'l2',encoding = 'latin-1',ngram_range = (1,2),stop_words = 'english')\n",
    "features = tfidf.fit_transform(df['Consumer Complaint'])\n",
    "labels = df['category_id']"
   ]
  },
  {
   "cell_type": "code",
   "execution_count": 14,
   "metadata": {},
   "outputs": [
    {
     "name": "stdout",
     "output_type": "stream",
     "text": [
      "Bank account or service\n",
      "most correlated unigrams--> bank overdraft\n",
      "most correlated bigrams--> checking account overdraft fees\n",
      "Checking or savings account\n",
      "most correlated unigrams--> bonus deposit\n",
      "most correlated bigrams--> checking account 00 bonus\n",
      "Consumer Loan\n",
      "most correlated unigrams--> car vehicle\n",
      "most correlated bigrams--> hyundai motor purchased vehicle\n",
      "Credit card\n",
      "most correlated unigrams--> macy card\n",
      "most correlated bigrams--> american express credit card\n",
      "Credit card or prepaid card\n",
      "most correlated unigrams--> rewards card\n",
      "most correlated bigrams--> credit card cash advances\n",
      "Credit reporting\n",
      "most correlated unigrams--> equifax experian\n",
      "most correlated bigrams--> credit file credit report\n",
      "Credit reporting, credit repair services, or other personal consumer reports\n",
      "most correlated unigrams--> breach equifax\n",
      "most correlated bigrams--> security breach credit report\n",
      "Debt collection\n",
      "most correlated unigrams--> collection debt\n",
      "most correlated bigrams--> collection agency collect debt\n",
      "Money transfer, virtual currency, or money service\n",
      "most correlated unigrams--> btc coinbase\n",
      "most correlated bigrams--> coinbase xxxx coinbase account\n",
      "Money transfers\n",
      "most correlated unigrams--> paypal western\n",
      "most correlated bigrams--> sent money western union\n",
      "Mortgage\n",
      "most correlated unigrams--> modification mortgage\n",
      "most correlated bigrams--> mortgage company loan modification\n",
      "Other financial service\n",
      "most correlated unigrams--> carolina moneygram\n",
      "most correlated bigrams--> north carolina cancel service\n",
      "Payday loan\n",
      "most correlated unigrams--> payday speedy\n",
      "most correlated bigrams--> cash xxxx speedy cash\n",
      "Payday loan, title loan, or personal loan\n",
      "most correlated unigrams--> usury payday\n",
      "most correlated bigrams--> payday loan release title\n",
      "Prepaid card\n",
      "most correlated unigrams--> prepaid rushcard\n",
      "most correlated bigrams--> gift card express serve\n",
      "Student loan\n",
      "most correlated unigrams--> loans navient\n",
      "most correlated bigrams--> student loans student loan\n",
      "Vehicle loan or lease\n",
      "most correlated unigrams--> car vehicle\n",
      "most correlated bigrams--> loan lower vehicle repossessed\n",
      "Virtual currency\n",
      "most correlated unigrams--> ip reset\n",
      "most correlated bigrams--> account unable ip address\n"
     ]
    }
   ],
   "source": [
    "from sklearn.feature_selection import chi2\n",
    "for Product,category_id in sorted(category_to_id.items()):\n",
    "    features_chi2 = chi2(features,labels == category_id)\n",
    "    index = np.argsort(features_chi2[0])\n",
    "    feature_names = np.array(tfidf.get_feature_names())[index]\n",
    "    unigrams = [v for v in feature_names if len(v.split(' ')) == 1]\n",
    "    bigrams = [v for v in feature_names if len(v.split(' ')) == 2]\n",
    "    print(Product)\n",
    "    print('most correlated unigrams-->',' '.join(unigrams[-2:]))\n",
    "    print('most correlated bigrams-->',' '.join(bigrams[-2:]))"
   ]
  },
  {
   "cell_type": "code",
   "execution_count": 15,
   "metadata": {},
   "outputs": [],
   "source": [
    "from sklearn.model_selection import train_test_split\n",
    "from sklearn.feature_extraction.text import CountVectorizer\n",
    "from sklearn.feature_extraction.text import TfidfTransformer\n",
    "from sklearn.naive_bayes import MultinomialNB"
   ]
  },
  {
   "cell_type": "code",
   "execution_count": 16,
   "metadata": {},
   "outputs": [],
   "source": [
    "X_train,X_test,y_train,y_test = train_test_split(df['Consumer Complaint'],df['category_id'],test_size = 0.2)\n",
    "count_vec = CountVectorizer()\n",
    "X_train_count = count_vec.fit_transform(X_train)\n",
    "tfidf_transformer = TfidfTransformer()\n",
    "X_train_tfidf = tfidf_transformer.fit_transform(X_train_count)\n",
    "naive_bays = MultinomialNB()\n",
    "clf = naive_bays.fit(X_train_tfidf,y_train)"
   ]
  },
  {
   "cell_type": "code",
   "execution_count": 17,
   "metadata": {},
   "outputs": [
    {
     "data": {
      "text/plain": [
       "array([0])"
      ]
     },
     "execution_count": 17,
     "metadata": {},
     "output_type": "execute_result"
    }
   ],
   "source": [
    "clf.predict(tfidf_transformer.transform(count_vec.transform([\"This company refuses to provide me verification and validation of debt per my right under the FDCPA. I do not believe this debt is mine.\"])))"
   ]
  },
  {
   "cell_type": "code",
   "execution_count": 18,
   "metadata": {},
   "outputs": [
    {
     "data": {
      "text/plain": [
       "array([0])"
      ]
     },
     "execution_count": 18,
     "metadata": {},
     "output_type": "execute_result"
    }
   ],
   "source": [
    "clf.predict(tfidf_transformer.transform(count_vec.transform([\"I am disputing the inaccurate information the Chex-Systems has on my credit report. I initially submitted a police report on XXXX/XXXX/16 and Chex Systems only deleted the items that I mentioned in the letter and not all the items that were actually listed on the police report. In other words they wanted me to say word for word to them what items were fraudulent. The total disregard of the police report and what accounts that it states that are fraudulent. If they just had paid a little closer attention to the police report I would not been in this position now and they would n't have to research once again. I would like the reported information to be removed : XXXX XXXX XXXX\"])))"
   ]
  },
  {
   "cell_type": "code",
   "execution_count": 19,
   "metadata": {},
   "outputs": [
    {
     "name": "stderr",
     "output_type": "stream",
     "text": [
      "[Parallel(n_jobs=-1)]: Using backend LokyBackend with 4 concurrent workers.\n",
      "/opt/conda/lib/python3.6/site-packages/sklearn/model_selection/_split.py:667: UserWarning: The least populated class in y has only 1 members, which is less than n_splits=5.\n",
      "  % (min_groups, self.n_splits)), UserWarning)\n",
      "[Parallel(n_jobs=-1)]: Done   2 out of   5 | elapsed:    4.0s remaining:    6.0s\n",
      "[Parallel(n_jobs=-1)]: Done   3 out of   5 | elapsed:    4.1s remaining:    2.7s\n",
      "[Parallel(n_jobs=-1)]: Done   5 out of   5 | elapsed:    5.7s remaining:    0.0s\n",
      "[Parallel(n_jobs=-1)]: Done   5 out of   5 | elapsed:    5.7s finished\n",
      "[Parallel(n_jobs=-1)]: Using backend LokyBackend with 4 concurrent workers.\n",
      "/opt/conda/lib/python3.6/site-packages/sklearn/model_selection/_split.py:667: UserWarning: The least populated class in y has only 1 members, which is less than n_splits=5.\n",
      "  % (min_groups, self.n_splits)), UserWarning)\n",
      "[Parallel(n_jobs=-1)]: Done   2 out of   5 | elapsed:   19.9s remaining:   29.9s\n",
      "[Parallel(n_jobs=-1)]: Done   3 out of   5 | elapsed:   20.4s remaining:   13.6s\n",
      "[Parallel(n_jobs=-1)]: Done   5 out of   5 | elapsed:   28.3s remaining:    0.0s\n",
      "[Parallel(n_jobs=-1)]: Done   5 out of   5 | elapsed:   28.3s finished\n",
      "[Parallel(n_jobs=-1)]: Using backend LokyBackend with 4 concurrent workers.\n",
      "/opt/conda/lib/python3.6/site-packages/sklearn/model_selection/_split.py:667: UserWarning: The least populated class in y has only 1 members, which is less than n_splits=5.\n",
      "  % (min_groups, self.n_splits)), UserWarning)\n",
      "[Parallel(n_jobs=-1)]: Done   2 out of   5 | elapsed:    1.2s remaining:    1.8s\n",
      "[Parallel(n_jobs=-1)]: Done   3 out of   5 | elapsed:    1.2s remaining:    0.8s\n",
      "[Parallel(n_jobs=-1)]: Done   5 out of   5 | elapsed:    2.0s remaining:    0.0s\n",
      "[Parallel(n_jobs=-1)]: Done   5 out of   5 | elapsed:    2.0s finished\n",
      "[Parallel(n_jobs=-1)]: Using backend LokyBackend with 4 concurrent workers.\n",
      "/opt/conda/lib/python3.6/site-packages/sklearn/model_selection/_split.py:667: UserWarning: The least populated class in y has only 1 members, which is less than n_splits=5.\n",
      "  % (min_groups, self.n_splits)), UserWarning)\n",
      "[Parallel(n_jobs=-1)]: Batch computation too fast (0.0751s.) Setting batch_size=2.\n",
      "[Parallel(n_jobs=-1)]: Done   2 out of   5 | elapsed:    0.1s remaining:    0.1s\n",
      "[Parallel(n_jobs=-1)]: Done   3 out of   5 | elapsed:    0.1s remaining:    0.1s\n",
      "[Parallel(n_jobs=-1)]: Done   5 out of   5 | elapsed:    0.1s remaining:    0.0s\n",
      "[Parallel(n_jobs=-1)]: Done   5 out of   5 | elapsed:    0.1s finished\n"
     ]
    }
   ],
   "source": [
    "# testing with other classifiers with help of cross validation\n",
    "from sklearn.ensemble import RandomForestClassifier\n",
    "from sklearn.linear_model import LogisticRegression\n",
    "from sklearn.svm import LinearSVC\n",
    "from sklearn.naive_bayes import MultinomialNB\n",
    "from sklearn.model_selection import cross_val_score\n",
    "models = [RandomForestClassifier(n_estimators = 200,max_depth = 5),\n",
    "          LogisticRegression(max_iter = 500),\n",
    "          LinearSVC(),\n",
    "          MultinomialNB()\n",
    "         ]\n",
    "array = []\n",
    "for model in  models:\n",
    "    scores = cross_val_score(model,features,labels,cv=5,verbose = 10,n_jobs = -1)\n",
    "    for cv_num,scores in enumerate(scores):\n",
    "        model_name = model.__class__.__name__\n",
    "        array.append((model_name,cv_num,scores))\n",
    "        score_df = pd.DataFrame(array,columns = ['model_name','cv_name','scores'])\n",
    "        \n",
    "    "
   ]
  },
  {
   "cell_type": "code",
   "execution_count": 20,
   "metadata": {},
   "outputs": [
    {
     "data": {
      "text/html": [
       "<div>\n",
       "<style scoped>\n",
       "    .dataframe tbody tr th:only-of-type {\n",
       "        vertical-align: middle;\n",
       "    }\n",
       "\n",
       "    .dataframe tbody tr th {\n",
       "        vertical-align: top;\n",
       "    }\n",
       "\n",
       "    .dataframe thead th {\n",
       "        text-align: right;\n",
       "    }\n",
       "</style>\n",
       "<table border=\"1\" class=\"dataframe\">\n",
       "  <thead>\n",
       "    <tr style=\"text-align: right;\">\n",
       "      <th></th>\n",
       "      <th>model_name</th>\n",
       "      <th>cv_name</th>\n",
       "      <th>scores</th>\n",
       "    </tr>\n",
       "  </thead>\n",
       "  <tbody>\n",
       "    <tr>\n",
       "      <th>0</th>\n",
       "      <td>RandomForestClassifier</td>\n",
       "      <td>0</td>\n",
       "      <td>0.384786</td>\n",
       "    </tr>\n",
       "    <tr>\n",
       "      <th>1</th>\n",
       "      <td>RandomForestClassifier</td>\n",
       "      <td>1</td>\n",
       "      <td>0.378877</td>\n",
       "    </tr>\n",
       "    <tr>\n",
       "      <th>2</th>\n",
       "      <td>RandomForestClassifier</td>\n",
       "      <td>2</td>\n",
       "      <td>0.358198</td>\n",
       "    </tr>\n",
       "    <tr>\n",
       "      <th>3</th>\n",
       "      <td>RandomForestClassifier</td>\n",
       "      <td>3</td>\n",
       "      <td>0.396603</td>\n",
       "    </tr>\n",
       "    <tr>\n",
       "      <th>4</th>\n",
       "      <td>RandomForestClassifier</td>\n",
       "      <td>4</td>\n",
       "      <td>0.380636</td>\n",
       "    </tr>\n",
       "    <tr>\n",
       "      <th>5</th>\n",
       "      <td>LogisticRegression</td>\n",
       "      <td>0</td>\n",
       "      <td>0.655835</td>\n",
       "    </tr>\n",
       "    <tr>\n",
       "      <th>6</th>\n",
       "      <td>LogisticRegression</td>\n",
       "      <td>1</td>\n",
       "      <td>0.673560</td>\n",
       "    </tr>\n",
       "    <tr>\n",
       "      <th>7</th>\n",
       "      <td>LogisticRegression</td>\n",
       "      <td>2</td>\n",
       "      <td>0.673560</td>\n",
       "    </tr>\n",
       "    <tr>\n",
       "      <th>8</th>\n",
       "      <td>LogisticRegression</td>\n",
       "      <td>3</td>\n",
       "      <td>0.652880</td>\n",
       "    </tr>\n",
       "    <tr>\n",
       "      <th>9</th>\n",
       "      <td>LogisticRegression</td>\n",
       "      <td>4</td>\n",
       "      <td>0.655580</td>\n",
       "    </tr>\n",
       "    <tr>\n",
       "      <th>10</th>\n",
       "      <td>LinearSVC</td>\n",
       "      <td>0</td>\n",
       "      <td>0.667651</td>\n",
       "    </tr>\n",
       "    <tr>\n",
       "      <th>11</th>\n",
       "      <td>LinearSVC</td>\n",
       "      <td>1</td>\n",
       "      <td>0.692024</td>\n",
       "    </tr>\n",
       "    <tr>\n",
       "      <th>12</th>\n",
       "      <td>LinearSVC</td>\n",
       "      <td>2</td>\n",
       "      <td>0.688331</td>\n",
       "    </tr>\n",
       "    <tr>\n",
       "      <th>13</th>\n",
       "      <td>LinearSVC</td>\n",
       "      <td>3</td>\n",
       "      <td>0.669129</td>\n",
       "    </tr>\n",
       "    <tr>\n",
       "      <th>14</th>\n",
       "      <td>LinearSVC</td>\n",
       "      <td>4</td>\n",
       "      <td>0.688101</td>\n",
       "    </tr>\n",
       "    <tr>\n",
       "      <th>15</th>\n",
       "      <td>MultinomialNB</td>\n",
       "      <td>0</td>\n",
       "      <td>0.536189</td>\n",
       "    </tr>\n",
       "    <tr>\n",
       "      <th>16</th>\n",
       "      <td>MultinomialNB</td>\n",
       "      <td>1</td>\n",
       "      <td>0.533973</td>\n",
       "    </tr>\n",
       "    <tr>\n",
       "      <th>17</th>\n",
       "      <td>MultinomialNB</td>\n",
       "      <td>2</td>\n",
       "      <td>0.536189</td>\n",
       "    </tr>\n",
       "    <tr>\n",
       "      <th>18</th>\n",
       "      <td>MultinomialNB</td>\n",
       "      <td>3</td>\n",
       "      <td>0.520679</td>\n",
       "    </tr>\n",
       "    <tr>\n",
       "      <th>19</th>\n",
       "      <td>MultinomialNB</td>\n",
       "      <td>4</td>\n",
       "      <td>0.526238</td>\n",
       "    </tr>\n",
       "  </tbody>\n",
       "</table>\n",
       "</div>"
      ],
      "text/plain": [
       "                model_name  cv_name    scores\n",
       "0   RandomForestClassifier        0  0.384786\n",
       "1   RandomForestClassifier        1  0.378877\n",
       "2   RandomForestClassifier        2  0.358198\n",
       "3   RandomForestClassifier        3  0.396603\n",
       "4   RandomForestClassifier        4  0.380636\n",
       "5       LogisticRegression        0  0.655835\n",
       "6       LogisticRegression        1  0.673560\n",
       "7       LogisticRegression        2  0.673560\n",
       "8       LogisticRegression        3  0.652880\n",
       "9       LogisticRegression        4  0.655580\n",
       "10               LinearSVC        0  0.667651\n",
       "11               LinearSVC        1  0.692024\n",
       "12               LinearSVC        2  0.688331\n",
       "13               LinearSVC        3  0.669129\n",
       "14               LinearSVC        4  0.688101\n",
       "15           MultinomialNB        0  0.536189\n",
       "16           MultinomialNB        1  0.533973\n",
       "17           MultinomialNB        2  0.536189\n",
       "18           MultinomialNB        3  0.520679\n",
       "19           MultinomialNB        4  0.526238"
      ]
     },
     "execution_count": 20,
     "metadata": {},
     "output_type": "execute_result"
    }
   ],
   "source": [
    "score_df"
   ]
  },
  {
   "cell_type": "code",
   "execution_count": 21,
   "metadata": {},
   "outputs": [],
   "source": [
    "X_train,X_test,y_train,y_test = train_test_split(features,labels,test_size = 0.2)"
   ]
  },
  {
   "cell_type": "code",
   "execution_count": 22,
   "metadata": {},
   "outputs": [],
   "source": [
    "clf = LinearSVC(C = 0.6)\n",
    "classifier = clf.fit(X_train,y_train)\n",
    "pred = classifier.predict(X_test)"
   ]
  },
  {
   "cell_type": "code",
   "execution_count": 23,
   "metadata": {},
   "outputs": [
    {
     "name": "stdout",
     "output_type": "stream",
     "text": [
      "              precision    recall  f1-score   support\n",
      "\n",
      "           0       0.84      0.71      0.77       342\n",
      "           1       0.45      0.62      0.52       115\n",
      "           2       0.80      0.61      0.69       112\n",
      "           3       0.62      0.62      0.62        99\n",
      "           4       0.21      0.23      0.22        22\n",
      "           5       0.12      0.50      0.20         2\n",
      "           6       0.85      0.78      0.81        89\n",
      "           7       0.40      0.67      0.50         3\n",
      "           8       0.96      0.85      0.90       264\n",
      "           9       0.69      0.82      0.75        11\n",
      "          10       0.17      1.00      0.29         1\n",
      "          11       0.12      0.62      0.21         8\n",
      "          12       0.67      0.58      0.62       268\n",
      "          14       0.09      1.00      0.17         1\n",
      "          15       0.11      0.35      0.16        17\n",
      "          16       0.00      0.00      0.00         0\n",
      "\n",
      "    accuracy                           0.68      1354\n",
      "   macro avg       0.44      0.62      0.46      1354\n",
      "weighted avg       0.75      0.68      0.71      1354\n",
      "\n"
     ]
    },
    {
     "name": "stderr",
     "output_type": "stream",
     "text": [
      "/opt/conda/lib/python3.6/site-packages/sklearn/metrics/_classification.py:1272: UndefinedMetricWarning: Recall and F-score are ill-defined and being set to 0.0 in labels with no true samples. Use `zero_division` parameter to control this behavior.\n",
      "  _warn_prf(average, modifier, msg_start, len(result))\n"
     ]
    }
   ],
   "source": [
    "from sklearn.metrics import classification_report\n",
    "print(classification_report(pred,y_test))"
   ]
  },
  {
   "cell_type": "code",
   "execution_count": 24,
   "metadata": {},
   "outputs": [
    {
     "data": {
      "text/plain": [
       "array([[242,  23,   4,  15,   7,   4,   3,   1,   6,   0,   2,   2,  25,\n",
       "          2,   4,   2],\n",
       "       [  8,  71,   0,   3,   2,   0,   0,   0,   0,   0,   0,   1,  28,\n",
       "          0,   2,   0],\n",
       "       [  1,   0,  68,   3,   0,   0,   1,   1,   0,   4,   1,  26,   2,\n",
       "          1,   3,   1],\n",
       "       [  3,   0,   2,  61,   0,   0,   0,   0,   0,   0,   1,   0,   4,\n",
       "          0,  28,   0],\n",
       "       [  2,   0,   1,   0,   5,   0,   0,   0,   1,   0,   0,   0,   2,\n",
       "          3,   1,   7],\n",
       "       [  0,   0,   0,   0,   0,   1,   0,   0,   0,   0,   0,   0,   0,\n",
       "          1,   0,   0],\n",
       "       [  7,   2,   0,   0,   1,   1,  69,   0,   1,   0,   0,   1,   6,\n",
       "          0,   1,   0],\n",
       "       [  0,   0,   0,   0,   0,   0,   0,   2,   0,   0,   0,   0,   0,\n",
       "          0,   1,   0],\n",
       "       [ 10,   3,   4,   1,   4,   1,   4,   0, 225,   0,   0,   2,   7,\n",
       "          1,   1,   1],\n",
       "       [  0,   0,   0,   0,   0,   0,   0,   0,   0,   9,   0,   2,   0,\n",
       "          0,   0,   0],\n",
       "       [  0,   0,   0,   0,   0,   0,   0,   0,   0,   0,   1,   0,   0,\n",
       "          0,   0,   0],\n",
       "       [  0,   0,   1,   1,   0,   0,   0,   0,   0,   0,   0,   5,   0,\n",
       "          0,   1,   0],\n",
       "       [ 14,  60,   5,   5,   5,   1,   4,   0,   2,   0,   1,   1, 155,\n",
       "          2,   9,   4],\n",
       "       [  0,   0,   0,   0,   0,   0,   0,   0,   0,   0,   0,   0,   0,\n",
       "          1,   0,   0],\n",
       "       [  0,   0,   0,   9,   0,   0,   0,   1,   0,   0,   0,   0,   1,\n",
       "          0,   6,   0],\n",
       "       [  0,   0,   0,   0,   0,   0,   0,   0,   0,   0,   0,   0,   0,\n",
       "          0,   0,   0]])"
      ]
     },
     "execution_count": 24,
     "metadata": {},
     "output_type": "execute_result"
    }
   ],
   "source": [
    "import sklearn\n",
    "sklearn.metrics.confusion_matrix(pred,y_test)"
   ]
  },
  {
   "cell_type": "code",
   "execution_count": 25,
   "metadata": {},
   "outputs": [
    {
     "name": "stdout",
     "output_type": "stream",
     "text": [
      "Bank account or service\n",
      "Unigrams with highest weight for the category  Bank account or service are ['branch', 'bank']\n",
      "bigrams with highest weight for the category  Bank account or service are ['checking account', 'business account'] \n",
      "\n",
      "Checking or savings account\n",
      "Unigrams with highest weight for the category  Checking or savings account are ['deposit', 'app']\n",
      "bigrams with highest weight for the category  Checking or savings account are ['00 bonus', 'opened accounts'] \n",
      "\n",
      "Consumer Loan\n",
      "Unigrams with highest weight for the category  Consumer Loan are ['finance', 'vehicle']\n",
      "bigrams with highest weight for the category  Consumer Loan are ['purchased vehicle', 'auto loan'] \n",
      "\n",
      "Credit card\n",
      "Unigrams with highest weight for the category  Credit card are ['macy', 'card']\n",
      "bigrams with highest weight for the category  Credit card are ['credit limit', 'credit card'] \n",
      "\n",
      "Credit card or prepaid card\n",
      "Unigrams with highest weight for the category  Credit card or prepaid card are ['capital', 'card']\n",
      "bigrams with highest weight for the category  Credit card or prepaid card are ['cash advances', 'citi bank'] \n",
      "\n",
      "Credit reporting\n",
      "Unigrams with highest weight for the category  Credit reporting are ['experian', 'equifax']\n",
      "bigrams with highest weight for the category  Credit reporting are ['xxxx credit', 'xxxx accounts'] \n",
      "\n",
      "Credit reporting, credit repair services, or other personal consumer reports\n",
      "Unigrams with highest weight for the category  Credit reporting, credit repair services, or other personal consumer reports are ['data', 'breach']\n",
      "bigrams with highest weight for the category  Credit reporting, credit repair services, or other personal consumer reports are ['xxxx experian', 'xxxx xxxx'] \n",
      "\n",
      "Debt collection\n",
      "Unigrams with highest weight for the category  Debt collection are ['collection', 'debt']\n",
      "bigrams with highest weight for the category  Debt collection are ['original creditor', 'collection credit'] \n",
      "\n",
      "Money transfer, virtual currency, or money service\n",
      "Unigrams with highest weight for the category  Money transfer, virtual currency, or money service are ['usd', 'coinbase']\n",
      "bigrams with highest weight for the category  Money transfer, virtual currency, or money service are ['coinbase xxxx', 'coinbase account'] \n",
      "\n",
      "Money transfers\n",
      "Unigrams with highest weight for the category  Money transfers are ['western', 'paypal']\n",
      "bigrams with highest weight for the category  Money transfers are ['sent money', 'western union'] \n",
      "\n",
      "Mortgage\n",
      "Unigrams with highest weight for the category  Mortgage are ['escrow', 'mortgage']\n",
      "bigrams with highest weight for the category  Mortgage are ['escrow account', 'xxxx payment'] \n",
      "\n",
      "Other financial service\n",
      "Unigrams with highest weight for the category  Other financial service are ['scam', 'moneygram']\n",
      "bigrams with highest weight for the category  Other financial service are ['north carolina', 'cancel service'] \n",
      "\n",
      "Payday loan\n",
      "Unigrams with highest weight for the category  Payday loan are ['500', 'payday']\n",
      "bigrams with highest weight for the category  Payday loan are ['speedy cash', 'pay day'] \n",
      "\n",
      "Payday loan, title loan, or personal loan\n",
      "Unigrams with highest weight for the category  Payday loan, title loan, or personal loan are ['loan', 'payday']\n",
      "bigrams with highest weight for the category  Payday loan, title loan, or personal loan are ['release title', 'payday loan'] \n",
      "\n",
      "Prepaid card\n",
      "Unigrams with highest weight for the category  Prepaid card are ['card', 'rushcard']\n",
      "bigrams with highest weight for the category  Prepaid card are ['used information', 'gift card'] \n",
      "\n",
      "Student loan\n",
      "Unigrams with highest weight for the category  Student loan are ['loans', 'navient']\n",
      "bigrams with highest weight for the category  Student loan are ['sallie mae', 'student loan'] \n",
      "\n",
      "Vehicle loan or lease\n",
      "Unigrams with highest weight for the category  Vehicle loan or lease are ['car', 'vehicle']\n",
      "bigrams with highest weight for the category  Vehicle loan or lease are ['auto loan', 'loan lower'] \n",
      "\n",
      "Virtual currency\n",
      "Unigrams with highest weight for the category  Virtual currency are ['password', 'reset']\n",
      "bigrams with highest weight for the category  Virtual currency are ['customer support', 'ip address'] \n",
      "\n"
     ]
    }
   ],
   "source": [
    "model = LinearSVC(C = 0.6)\n",
    "model.fit(features,labels)\n",
    "for Product,category_id in sorted(category_to_id.items()):\n",
    "    indices = np.argsort(model.coef_[category_id])  # in this line when the model is trained we are sorting the coefficients of the model according to the category\n",
    "    # and the value we get after applying the argsort is the weights distributed in ascenging order with terms with highest weight at the end of the array\n",
    "    feature_names = np.array(tfidf.get_feature_names())[indices]\n",
    "    unigrams = [v for v in feature_names if len(v.split(' ')) == 1][-2:]\n",
    "    bigrams = [v for v in feature_names if len(v.split(' ')) == 2][-2:]\n",
    "    print(Product)\n",
    "    print('Unigrams with highest weight for the category ',Product, 'are',unigrams)\n",
    "    print('bigrams with highest weight for the category ',Product, 'are',bigrams,'\\n')"
   ]
  },
  {
   "cell_type": "code",
   "execution_count": 26,
   "metadata": {},
   "outputs": [
    {
     "data": {
      "text/plain": [
       "array([18085, 19202,  3975, ...,  9083, 11843, 14497])"
      ]
     },
     "execution_count": 26,
     "metadata": {},
     "output_type": "execute_result"
    }
   ],
   "source": [
    "indices"
   ]
  },
  {
   "cell_type": "code",
   "execution_count": 27,
   "metadata": {},
   "outputs": [
    {
     "data": {
      "text/plain": [
       "array(['equifax', 'transunion', 'mortgage', ..., 'owe', 'collection',\n",
       "       'debt'], dtype='<U27')"
      ]
     },
     "execution_count": 27,
     "metadata": {},
     "output_type": "execute_result"
    }
   ],
   "source": [
    "np.array(tfidf.get_feature_names())[np.argsort(model.coef_[0])]"
   ]
  },
  {
   "cell_type": "code",
   "execution_count": null,
   "metadata": {},
   "outputs": [],
   "source": []
  }
 ],
 "metadata": {
  "kernelspec": {
   "display_name": "Python 3",
   "language": "python",
   "name": "python3"
  },
  "language_info": {
   "codemirror_mode": {
    "name": "ipython",
    "version": 3
   },
   "file_extension": ".py",
   "mimetype": "text/x-python",
   "name": "python",
   "nbconvert_exporter": "python",
   "pygments_lexer": "ipython3",
   "version": "3.6.6"
  }
 },
 "nbformat": 4,
 "nbformat_minor": 1
}
