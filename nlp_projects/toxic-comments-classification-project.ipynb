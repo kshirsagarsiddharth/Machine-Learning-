{
 "cells": [
  {
   "cell_type": "code",
   "execution_count": 1,
   "metadata": {
    "_cell_guid": "b1076dfc-b9ad-4769-8c92-a6c4dae69d19",
    "_uuid": "8f2839f25d086af736a60e9eeb907d3b93b6e0e5"
   },
   "outputs": [
    {
     "name": "stdout",
     "output_type": "stream",
     "text": [
      "/kaggle/input/jigsaw-toxic-comment-classification-challenge/sample_submission.csv.zip\n",
      "/kaggle/input/jigsaw-toxic-comment-classification-challenge/test_labels.csv.zip\n",
      "/kaggle/input/jigsaw-toxic-comment-classification-challenge/test.csv.zip\n",
      "/kaggle/input/jigsaw-toxic-comment-classification-challenge/train.csv.zip\n"
     ]
    }
   ],
   "source": [
    "# This Python 3 environment comes with many helpful analytics libraries installed\n",
    "# It is defined by the kaggle/python docker image: https://github.com/kaggle/docker-python\n",
    "# For example, here's several helpful packages to load in \n",
    "\n",
    "import numpy as np # linear algebra\n",
    "import pandas as pd # data processing, CSV file I/O (e.g. pd.read_csv)\n",
    "import matplotlib.pyplot as plt\n",
    "import re\n",
    "from nltk.corpus import stopwords\n",
    "\n",
    "# Input data files are available in the \"../input/\" directory.\n",
    "# For example, running this (by clicking run or pressing Shift+Enter) will list all files under the input directory\n",
    "\n",
    "import os\n",
    "for dirname, _, filenames in os.walk('/kaggle/input'):\n",
    "    for filename in filenames:\n",
    "        print(os.path.join(dirname, filename))\n",
    "\n",
    "# Any results you write to the current directory are saved as output."
   ]
  },
  {
   "cell_type": "code",
   "execution_count": 2,
   "metadata": {
    "_cell_guid": "79c7e3d0-c299-4dcb-8224-4455121ee9b0",
    "_uuid": "d629ff2d2480ee46fbb7e2d37f6b5fab8052498a"
   },
   "outputs": [
    {
     "data": {
      "text/html": [
       "<div>\n",
       "<style scoped>\n",
       "    .dataframe tbody tr th:only-of-type {\n",
       "        vertical-align: middle;\n",
       "    }\n",
       "\n",
       "    .dataframe tbody tr th {\n",
       "        vertical-align: top;\n",
       "    }\n",
       "\n",
       "    .dataframe thead th {\n",
       "        text-align: right;\n",
       "    }\n",
       "</style>\n",
       "<table border=\"1\" class=\"dataframe\">\n",
       "  <thead>\n",
       "    <tr style=\"text-align: right;\">\n",
       "      <th></th>\n",
       "      <th>id</th>\n",
       "      <th>comment_text</th>\n",
       "      <th>toxic</th>\n",
       "      <th>severe_toxic</th>\n",
       "      <th>obscene</th>\n",
       "      <th>threat</th>\n",
       "      <th>insult</th>\n",
       "      <th>identity_hate</th>\n",
       "    </tr>\n",
       "  </thead>\n",
       "  <tbody>\n",
       "    <tr>\n",
       "      <th>0</th>\n",
       "      <td>0000997932d777bf</td>\n",
       "      <td>Explanation\\nWhy the edits made under my usern...</td>\n",
       "      <td>0</td>\n",
       "      <td>0</td>\n",
       "      <td>0</td>\n",
       "      <td>0</td>\n",
       "      <td>0</td>\n",
       "      <td>0</td>\n",
       "    </tr>\n",
       "    <tr>\n",
       "      <th>1</th>\n",
       "      <td>000103f0d9cfb60f</td>\n",
       "      <td>D'aww! He matches this background colour I'm s...</td>\n",
       "      <td>0</td>\n",
       "      <td>0</td>\n",
       "      <td>0</td>\n",
       "      <td>0</td>\n",
       "      <td>0</td>\n",
       "      <td>0</td>\n",
       "    </tr>\n",
       "    <tr>\n",
       "      <th>2</th>\n",
       "      <td>000113f07ec002fd</td>\n",
       "      <td>Hey man, I'm really not trying to edit war. It...</td>\n",
       "      <td>0</td>\n",
       "      <td>0</td>\n",
       "      <td>0</td>\n",
       "      <td>0</td>\n",
       "      <td>0</td>\n",
       "      <td>0</td>\n",
       "    </tr>\n",
       "    <tr>\n",
       "      <th>3</th>\n",
       "      <td>0001b41b1c6bb37e</td>\n",
       "      <td>\"\\nMore\\nI can't make any real suggestions on ...</td>\n",
       "      <td>0</td>\n",
       "      <td>0</td>\n",
       "      <td>0</td>\n",
       "      <td>0</td>\n",
       "      <td>0</td>\n",
       "      <td>0</td>\n",
       "    </tr>\n",
       "    <tr>\n",
       "      <th>4</th>\n",
       "      <td>0001d958c54c6e35</td>\n",
       "      <td>You, sir, are my hero. Any chance you remember...</td>\n",
       "      <td>0</td>\n",
       "      <td>0</td>\n",
       "      <td>0</td>\n",
       "      <td>0</td>\n",
       "      <td>0</td>\n",
       "      <td>0</td>\n",
       "    </tr>\n",
       "    <tr>\n",
       "      <th>...</th>\n",
       "      <td>...</td>\n",
       "      <td>...</td>\n",
       "      <td>...</td>\n",
       "      <td>...</td>\n",
       "      <td>...</td>\n",
       "      <td>...</td>\n",
       "      <td>...</td>\n",
       "      <td>...</td>\n",
       "    </tr>\n",
       "    <tr>\n",
       "      <th>159566</th>\n",
       "      <td>ffe987279560d7ff</td>\n",
       "      <td>\":::::And for the second time of asking, when ...</td>\n",
       "      <td>0</td>\n",
       "      <td>0</td>\n",
       "      <td>0</td>\n",
       "      <td>0</td>\n",
       "      <td>0</td>\n",
       "      <td>0</td>\n",
       "    </tr>\n",
       "    <tr>\n",
       "      <th>159567</th>\n",
       "      <td>ffea4adeee384e90</td>\n",
       "      <td>You should be ashamed of yourself \\n\\nThat is ...</td>\n",
       "      <td>0</td>\n",
       "      <td>0</td>\n",
       "      <td>0</td>\n",
       "      <td>0</td>\n",
       "      <td>0</td>\n",
       "      <td>0</td>\n",
       "    </tr>\n",
       "    <tr>\n",
       "      <th>159568</th>\n",
       "      <td>ffee36eab5c267c9</td>\n",
       "      <td>Spitzer \\n\\nUmm, theres no actual article for ...</td>\n",
       "      <td>0</td>\n",
       "      <td>0</td>\n",
       "      <td>0</td>\n",
       "      <td>0</td>\n",
       "      <td>0</td>\n",
       "      <td>0</td>\n",
       "    </tr>\n",
       "    <tr>\n",
       "      <th>159569</th>\n",
       "      <td>fff125370e4aaaf3</td>\n",
       "      <td>And it looks like it was actually you who put ...</td>\n",
       "      <td>0</td>\n",
       "      <td>0</td>\n",
       "      <td>0</td>\n",
       "      <td>0</td>\n",
       "      <td>0</td>\n",
       "      <td>0</td>\n",
       "    </tr>\n",
       "    <tr>\n",
       "      <th>159570</th>\n",
       "      <td>fff46fc426af1f9a</td>\n",
       "      <td>\"\\nAnd ... I really don't think you understand...</td>\n",
       "      <td>0</td>\n",
       "      <td>0</td>\n",
       "      <td>0</td>\n",
       "      <td>0</td>\n",
       "      <td>0</td>\n",
       "      <td>0</td>\n",
       "    </tr>\n",
       "  </tbody>\n",
       "</table>\n",
       "<p>159571 rows × 8 columns</p>\n",
       "</div>"
      ],
      "text/plain": [
       "                      id                                       comment_text  \\\n",
       "0       0000997932d777bf  Explanation\\nWhy the edits made under my usern...   \n",
       "1       000103f0d9cfb60f  D'aww! He matches this background colour I'm s...   \n",
       "2       000113f07ec002fd  Hey man, I'm really not trying to edit war. It...   \n",
       "3       0001b41b1c6bb37e  \"\\nMore\\nI can't make any real suggestions on ...   \n",
       "4       0001d958c54c6e35  You, sir, are my hero. Any chance you remember...   \n",
       "...                  ...                                                ...   \n",
       "159566  ffe987279560d7ff  \":::::And for the second time of asking, when ...   \n",
       "159567  ffea4adeee384e90  You should be ashamed of yourself \\n\\nThat is ...   \n",
       "159568  ffee36eab5c267c9  Spitzer \\n\\nUmm, theres no actual article for ...   \n",
       "159569  fff125370e4aaaf3  And it looks like it was actually you who put ...   \n",
       "159570  fff46fc426af1f9a  \"\\nAnd ... I really don't think you understand...   \n",
       "\n",
       "        toxic  severe_toxic  obscene  threat  insult  identity_hate  \n",
       "0           0             0        0       0       0              0  \n",
       "1           0             0        0       0       0              0  \n",
       "2           0             0        0       0       0              0  \n",
       "3           0             0        0       0       0              0  \n",
       "4           0             0        0       0       0              0  \n",
       "...       ...           ...      ...     ...     ...            ...  \n",
       "159566      0             0        0       0       0              0  \n",
       "159567      0             0        0       0       0              0  \n",
       "159568      0             0        0       0       0              0  \n",
       "159569      0             0        0       0       0              0  \n",
       "159570      0             0        0       0       0              0  \n",
       "\n",
       "[159571 rows x 8 columns]"
      ]
     },
     "execution_count": 2,
     "metadata": {},
     "output_type": "execute_result"
    }
   ],
   "source": [
    "import pandas as pd\n",
    "import zipfile\n",
    "\n",
    "zf_train = zipfile.ZipFile('/kaggle/input/jigsaw-toxic-comment-classification-challenge/train.csv.zip') # having First.csv zipped file.\n",
    "train = pd.read_csv(zf_train.open('train.csv'))\n",
    "train"
   ]
  },
  {
   "cell_type": "code",
   "execution_count": 3,
   "metadata": {},
   "outputs": [],
   "source": [
    "zf_test = zipfile.ZipFile('/kaggle/input/jigsaw-toxic-comment-classification-challenge/test.csv.zip') # having First.csv zipped file.\n",
    "test = pd.read_csv(zf_test.open('test.csv'))"
   ]
  },
  {
   "cell_type": "code",
   "execution_count": 4,
   "metadata": {},
   "outputs": [],
   "source": [
    "zf_labels = zipfile.ZipFile('/kaggle/input/jigsaw-toxic-comment-classification-challenge/test_labels.csv.zip') # having First.csv zipped file.\n",
    "test_labels = pd.read_csv(zf_labels.open('test_labels.csv'))"
   ]
  },
  {
   "cell_type": "code",
   "execution_count": null,
   "metadata": {},
   "outputs": [],
   "source": []
  },
  {
   "cell_type": "code",
   "execution_count": 5,
   "metadata": {},
   "outputs": [],
   "source": [
    "array = ['toxic', 'severe_toxic', 'obscene', 'threat', 'insult','identity_hate']\n",
    "arr = []\n",
    "for value in array:\n",
    "    count = 0\n",
    "    for val in train[value].values:\n",
    "        if val == 1:\n",
    "            count = count + 1\n",
    "    arr.append((value,count))\n",
    "        "
   ]
  },
  {
   "cell_type": "code",
   "execution_count": 6,
   "metadata": {},
   "outputs": [],
   "source": [
    "number_of_comments = pd.DataFrame(arr).rename(columns = {0:'type',1:'number'})"
   ]
  },
  {
   "cell_type": "code",
   "execution_count": 7,
   "metadata": {},
   "outputs": [
    {
     "data": {
      "text/plain": [
       "Text(0, 0.5, 'Number of occurances')"
      ]
     },
     "execution_count": 7,
     "metadata": {},
     "output_type": "execute_result"
    },
    {
     "data": {
      "image/png": "[encoded data removed]",
      "text/plain": [
       "<Figure size 432x288 with 1 Axes>"
      ]
     },
     "metadata": {
      "needs_background": "light"
     },
     "output_type": "display_data"
    }
   ],
   "source": [
    "number_of_comments.set_index('type').plot(kind = 'bar')\n",
    "plt.xlabel('Number of comments per category')\n",
    "plt.ylabel('Number of occurances')"
   ]
  },
  {
   "cell_type": "code",
   "execution_count": 8,
   "metadata": {},
   "outputs": [
    {
     "data": {
      "text/plain": [
       "0         0\n",
       "1         0\n",
       "2         0\n",
       "3         0\n",
       "4         0\n",
       "         ..\n",
       "159566    0\n",
       "159567    0\n",
       "159568    0\n",
       "159569    0\n",
       "159570    0\n",
       "Length: 159571, dtype: int64"
      ]
     },
     "execution_count": 8,
     "metadata": {},
     "output_type": "execute_result"
    }
   ],
   "source": [
    "#lets find out how many comments have multi label\n",
    "train.iloc[:,2:].sum(axis = 1)"
   ]
  },
  {
   "cell_type": "code",
   "execution_count": 9,
   "metadata": {},
   "outputs": [
    {
     "data": {
      "text/plain": [
       "<matplotlib.axes._subplots.AxesSubplot at 0x7f857da04c88>"
      ]
     },
     "execution_count": 9,
     "metadata": {},
     "output_type": "execute_result"
    },
    {
     "data": {
      "image/png": "[encoded data removed]",
      "text/plain": [
       "<Figure size 432x288 with 1 Axes>"
      ]
     },
     "metadata": {
      "needs_background": "light"
     },
     "output_type": "display_data"
    }
   ],
   "source": [
    "train.iloc[:,2:].sum(axis = 1).value_counts().plot(kind = 'bar') # zero signifies sum of rows zero \n",
    "# 1 is number of rows with sum of one 2 is number of rows whose sum is two"
   ]
  },
  {
   "cell_type": "code",
   "execution_count": 10,
   "metadata": {},
   "outputs": [
    {
     "data": {
      "text/plain": [
       "0.8983211235124177"
      ]
     },
     "execution_count": 10,
     "metadata": {},
     "output_type": "execute_result"
    }
   ],
   "source": [
    "# percent of comments that are not labeled\n",
    "len(train[(train['toxic'] == 0) & (train['severe_toxic'] == 0) & (train['obscene'] == 0) & (train['threat'] == 0) & (train['insult'] == 0) & (train['identity_hate'] == 0)])/len(train)\n",
    "# so we observe that 89 percent of the comments are not labeled"
   ]
  },
  {
   "cell_type": "code",
   "execution_count": 11,
   "metadata": {},
   "outputs": [
    {
     "data": {
      "text/plain": [
       "<matplotlib.axes._subplots.AxesSubplot at 0x7f857d982c50>"
      ]
     },
     "execution_count": 11,
     "metadata": {},
     "output_type": "execute_result"
    },
    {
     "data": {
      "image/png": "[encoded data removed]",
      "text/plain": [
       "<Figure size 432x288 with 1 Axes>"
      ]
     },
     "metadata": {
      "needs_background": "light"
     },
     "output_type": "display_data"
    }
   ],
   "source": [
    "# the distribution of number of words in the comments text\n",
    "train['comment_text'].str.len().plot(kind = 'hist')\n",
    "# from this we observe that most of the comments are 500 characters with some comments upto 1000 characters and there are also\n",
    "# some comments who range upto 5000 characters"
   ]
  },
  {
   "cell_type": "code",
   "execution_count": 12,
   "metadata": {},
   "outputs": [],
   "source": [
    "train['comment_text'][78]\n",
    "st = stopwords.words('english')\n",
    "from nltk.stem import SnowballStemmer\n",
    "snow_ball_stemmer = SnowballStemmer('english')\n",
    "#text = text.apply(lambda x : ' '.join([snow_ball_stemmer.stem(word.lower()) for word in x.split()]))"
   ]
  },
  {
   "cell_type": "code",
   "execution_count": 13,
   "metadata": {},
   "outputs": [
    {
     "data": {
      "text/plain": [
       "0         explan edit made usernam hardcor metallica fan...\n",
       "1         daww match background colour im seem stuck tha...\n",
       "2         hey man im realli tri edit war guy constant re...\n",
       "3         cant make real suggest improv wonder section s...\n",
       "4                           sir hero chanc rememb page that\n",
       "                                ...                        \n",
       "159566    second time ask view complet contradict covera...\n",
       "159567                    asham horribl thing put talk page\n",
       "159568    spitzer umm there actual articl prostitut ring...\n",
       "159569    look like actual put speedi first version dele...\n",
       "159570    realli dont think understand came idea bad rig...\n",
       "Name: comment_text, Length: 159571, dtype: object"
      ]
     },
     "execution_count": 13,
     "metadata": {},
     "output_type": "execute_result"
    }
   ],
   "source": [
    "text = train['comment_text']\n",
    "text = text.apply(lambda x : re.sub('<.*>',' ',x))\n",
    "text = text.apply(lambda x : re.sub(r'[?|!|\\'|\"|#]',r'',x))  #removing punctuations\n",
    "text = text.apply(lambda x : re.sub(r'[.|,|)|(|\\\\|/]',r' ',x))# if you find this punctuations substitute with space\n",
    "text = text.apply(lambda x : re.sub(r'\\s+',r' ',x))\n",
    "text = text.apply(lambda x : ' '.join([word for word in x.split() if word.isalpha()]))\n",
    "text = text.apply(lambda x : ' '.join([word for word in x.split() if word.lower() not in st]))\n",
    "text = text.apply(lambda x : ' '.join([snow_ball_stemmer.stem(word.lower()) for word in x.split()]))\n",
    "text"
   ]
  },
  {
   "cell_type": "code",
   "execution_count": 14,
   "metadata": {},
   "outputs": [],
   "source": [
    "categories = ['toxic', 'severe_toxic', 'obscene', 'threat', 'insult','identity_hate']\n",
    "from sklearn.model_selection import train_test_split\n",
    "train,test = train_test_split(train,test_size = 0.35)"
   ]
  },
  {
   "cell_type": "code",
   "execution_count": 15,
   "metadata": {},
   "outputs": [],
   "source": [
    "X_train = train['comment_text']\n",
    "X_test = test['comment_text']"
   ]
  },
  {
   "cell_type": "code",
   "execution_count": 16,
   "metadata": {},
   "outputs": [],
   "source": [
    "from sklearn.pipeline import Pipeline\n",
    "from sklearn.multiclass import OneVsRestClassifier\n",
    "from sklearn.feature_extraction.text import CountVectorizer\n",
    "from sklearn.feature_extraction.text import TfidfVectorizer\n",
    "from sklearn.feature_extraction.text import TfidfTransformer\n",
    "from sklearn.naive_bayes import MultinomialNB\n",
    "from sklearn.svm import LinearSVC\n",
    "from sklearn.linear_model import LogisticRegression\n",
    "from sklearn.metrics import classification_report,accuracy_score"
   ]
  },
  {
   "cell_type": "code",
   "execution_count": 17,
   "metadata": {},
   "outputs": [
    {
     "name": "stdout",
     "output_type": "stream",
     "text": [
      "toxic ----->               precision    recall  f1-score   support\n",
      "\n",
      "           0       1.00      0.91      0.96     55124\n",
      "           1       0.13      0.99      0.23       726\n",
      "\n",
      "    accuracy                           0.92     55850\n",
      "   macro avg       0.57      0.95      0.59     55850\n",
      "weighted avg       0.99      0.92      0.95     55850\n",
      "\n",
      "severe_toxic ----->               precision    recall  f1-score   support\n",
      "\n",
      "           0       1.00      0.99      0.99     55849\n",
      "           1       0.00      0.00      0.00         1\n",
      "\n",
      "    accuracy                           0.99     55850\n",
      "   macro avg       0.50      0.49      0.50     55850\n",
      "weighted avg       1.00      0.99      0.99     55850\n",
      "\n",
      "obscene ----->               precision    recall  f1-score   support\n",
      "\n",
      "           0       1.00      0.95      0.97     55630\n",
      "           1       0.07      1.00      0.14       220\n",
      "\n",
      "    accuracy                           0.95     55850\n",
      "   macro avg       0.54      0.97      0.55     55850\n",
      "weighted avg       1.00      0.95      0.97     55850\n",
      "\n",
      "threat ----->               precision    recall  f1-score   support\n",
      "\n",
      "           0       1.00      1.00      1.00     55849\n",
      "           1       0.01      1.00      0.01         1\n",
      "\n",
      "    accuracy                           1.00     55850\n",
      "   macro avg       0.50      1.00      0.51     55850\n",
      "weighted avg       1.00      1.00      1.00     55850\n",
      "\n",
      "insult ----->               precision    recall  f1-score   support\n",
      "\n",
      "           0       1.00      0.95      0.98     55762\n",
      "           1       0.03      0.92      0.06        88\n",
      "\n",
      "    accuracy                           0.95     55850\n",
      "   macro avg       0.51      0.94      0.52     55850\n",
      "weighted avg       1.00      0.95      0.97     55850\n",
      "\n",
      "identity_hate ----->               precision    recall  f1-score   support\n",
      "\n",
      "           0       1.00      0.99      1.00     55849\n",
      "           1       0.00      0.00      0.00         1\n",
      "\n",
      "    accuracy                           0.99     55850\n",
      "   macro avg       0.50      0.50      0.50     55850\n",
      "weighted avg       1.00      0.99      1.00     55850\n",
      "\n"
     ]
    }
   ],
   "source": [
    "nb_pipeline = Pipeline([('count_vec',CountVectorizer()),('tfidf',TfidfTransformer()),('clf',OneVsRestClassifier(MultinomialNB()))])\n",
    "for category in categories:\n",
    "    nb_pipeline.fit(X_train,train[category])\n",
    "    pred = nb_pipeline.predict(X_test)\n",
    "    print(category,'----->',classification_report(pred,test[category]))"
   ]
  },
  {
   "cell_type": "code",
   "execution_count": 18,
   "metadata": {},
   "outputs": [
    {
     "data": {
      "text/plain": [
       "55850"
      ]
     },
     "execution_count": 18,
     "metadata": {},
     "output_type": "execute_result"
    }
   ],
   "source": [
    "len(test[category].values)"
   ]
  },
  {
   "cell_type": "code",
   "execution_count": 19,
   "metadata": {},
   "outputs": [
    {
     "name": "stdout",
     "output_type": "stream",
     "text": [
      "toxic ------>               precision    recall  f1-score   support\n",
      "\n",
      "           0       0.99      0.97      0.98     32663\n",
      "           1       0.68      0.87      0.76      2603\n",
      "\n",
      "    accuracy                           0.96     35266\n",
      "   macro avg       0.83      0.92      0.87     35266\n",
      "weighted avg       0.97      0.96      0.96     35266\n",
      "\n",
      "severe_toxic ------>               precision    recall  f1-score   support\n",
      "\n",
      "           0       1.00      0.99      0.99     35103\n",
      "           1       0.23      0.50      0.32       163\n",
      "\n",
      "    accuracy                           0.99     35266\n",
      "   macro avg       0.61      0.75      0.66     35266\n",
      "weighted avg       0.99      0.99      0.99     35266\n",
      "\n",
      "obscene ------>               precision    recall  f1-score   support\n",
      "\n",
      "           0       0.99      0.98      0.99     33801\n",
      "           1       0.70      0.89      0.78      1465\n",
      "\n",
      "    accuracy                           0.98     35266\n",
      "   macro avg       0.85      0.93      0.89     35266\n",
      "weighted avg       0.98      0.98      0.98     35266\n",
      "\n",
      "threat ------>               precision    recall  f1-score   support\n",
      "\n",
      "           0       1.00      1.00      1.00     35223\n",
      "           1       0.24      0.60      0.34        43\n",
      "\n",
      "    accuracy                           1.00     35266\n",
      "   macro avg       0.62      0.80      0.67     35266\n",
      "weighted avg       1.00      1.00      1.00     35266\n",
      "\n",
      "insult ------>               precision    recall  f1-score   support\n",
      "\n",
      "           0       0.99      0.98      0.99     33955\n",
      "           1       0.60      0.78      0.68      1311\n",
      "\n",
      "    accuracy                           0.97     35266\n",
      "   macro avg       0.79      0.88      0.83     35266\n",
      "weighted avg       0.98      0.97      0.97     35266\n",
      "\n",
      "identity_hate ------>               precision    recall  f1-score   support\n",
      "\n",
      "           0       1.00      0.99      1.00     35150\n",
      "           1       0.23      0.58      0.33       116\n",
      "\n",
      "    accuracy                           0.99     35266\n",
      "   macro avg       0.61      0.79      0.66     35266\n",
      "weighted avg       1.00      0.99      0.99     35266\n",
      "\n"
     ]
    }
   ],
   "source": [
    "categories = ['toxic','severe_toxic','obscene','threat','insult','identity_hate']\n",
    "train,test = train_test_split(train,test_size = 0.34)\n",
    "X_train = train['comment_text']\n",
    "X_test = test['comment_text']\n",
    "linear_svc = Pipeline([('count_vec',CountVectorizer()),('tfidf',TfidfTransformer()),('clf',OneVsRestClassifier(LinearSVC(),n_jobs = -1))])\n",
    "for category in categories:\n",
    "    linear_svc.fit(X_train,train[category])\n",
    "    pred = linear_svc.predict(X_test)\n",
    "    print(category,'------>',classification_report(pred,test[category]))"
   ]
  },
  {
   "cell_type": "code",
   "execution_count": 20,
   "metadata": {},
   "outputs": [
    {
     "name": "stdout",
     "output_type": "stream",
     "text": [
      "toxic ------>               precision    recall  f1-score   support\n",
      "\n",
      "           0       1.00      0.95      0.97     22032\n",
      "           1       0.53      0.93      0.67      1243\n",
      "\n",
      "    accuracy                           0.95     23275\n",
      "   macro avg       0.76      0.94      0.82     23275\n",
      "weighted avg       0.97      0.95      0.96     23275\n",
      "\n",
      "severe_toxic ------>               precision    recall  f1-score   support\n",
      "\n",
      "           0       1.00      0.99      1.00     23178\n",
      "           1       0.22      0.54      0.32        97\n",
      "\n",
      "    accuracy                           0.99     23275\n",
      "   macro avg       0.61      0.76      0.66     23275\n",
      "weighted avg       0.99      0.99      0.99     23275\n",
      "\n",
      "obscene ------>               precision    recall  f1-score   support\n",
      "\n",
      "           0       1.00      0.97      0.99     22562\n",
      "           1       0.53      0.93      0.67       713\n",
      "\n",
      "    accuracy                           0.97     23275\n",
      "   macro avg       0.76      0.95      0.83     23275\n",
      "weighted avg       0.98      0.97      0.98     23275\n",
      "\n",
      "threat ------>               precision    recall  f1-score   support\n",
      "\n",
      "           0       1.00      1.00      1.00     23271\n",
      "           1       0.03      0.50      0.06         4\n",
      "\n",
      "    accuracy                           1.00     23275\n",
      "   macro avg       0.51      0.75      0.53     23275\n",
      "weighted avg       1.00      1.00      1.00     23275\n",
      "\n",
      "insult ------>               precision    recall  f1-score   support\n",
      "\n",
      "           0       1.00      0.97      0.98     22638\n",
      "           1       0.46      0.85      0.60       637\n",
      "\n",
      "    accuracy                           0.97     23275\n",
      "   macro avg       0.73      0.91      0.79     23275\n",
      "weighted avg       0.98      0.97      0.97     23275\n",
      "\n",
      "identity_hate ------>               precision    recall  f1-score   support\n",
      "\n",
      "           0       1.00      0.99      1.00     23246\n",
      "           1       0.11      0.83      0.19        29\n",
      "\n",
      "    accuracy                           0.99     23275\n",
      "   macro avg       0.55      0.91      0.59     23275\n",
      "weighted avg       1.00      0.99      0.99     23275\n",
      "\n"
     ]
    }
   ],
   "source": [
    "categories = ['toxic','severe_toxic','obscene','threat','insult','identity_hate']\n",
    "train,test = train_test_split(train,test_size = 0.34)\n",
    "X_train = train['comment_text']\n",
    "X_test = test['comment_text']\n",
    "logistic = Pipeline([('count_vec',CountVectorizer()),('tfidf',TfidfTransformer()),('clf',OneVsRestClassifier(LogisticRegression(),n_jobs = -1))])\n",
    "for category in categories:\n",
    "    logistic.fit(X_train,train[category])\n",
    "    pred = logistic.predict(X_test)\n",
    "    print(category,'------>',classification_report(pred,test[category]))"
   ]
  },
  {
   "cell_type": "code",
   "execution_count": null,
   "metadata": {},
   "outputs": [],
   "source": []
  }
 ],
 "metadata": {
  "kernelspec": {
   "display_name": "Python 3",
   "language": "python",
   "name": "python3"
  },
  "language_info": {
   "codemirror_mode": {
    "name": "ipython",
    "version": 3
   },
   "file_extension": ".py",
   "mimetype": "text/x-python",
   "name": "python",
   "nbconvert_exporter": "python",
   "pygments_lexer": "ipython3",
   "version": "3.6.6"
  }
 },
 "nbformat": 4,
 "nbformat_minor": 1
}
