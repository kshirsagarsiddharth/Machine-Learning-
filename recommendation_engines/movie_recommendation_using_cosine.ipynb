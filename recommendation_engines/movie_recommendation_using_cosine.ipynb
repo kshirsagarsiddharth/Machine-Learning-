{
 "cells": [
  {
   "cell_type": "code",
   "execution_count": 137,
   "metadata": {},
   "outputs": [
    {
     "name": "stdout",
     "output_type": "stream",
     "text": [
      "Requirement already satisfied: rake_nltk in /home/jupyterlab/conda/envs/python/lib/python3.6/site-packages (1.0.4)\n",
      "Requirement already satisfied: nltk in /home/jupyterlab/conda/envs/python/lib/python3.6/site-packages (from rake_nltk) (3.4.5)\n",
      "Requirement already satisfied: six in /home/jupyterlab/conda/envs/python/lib/python3.6/site-packages (from nltk->rake_nltk) (1.13.0)\n",
      "Note: you may need to restart the kernel to use updated packages.\n"
     ]
    }
   ],
   "source": [
    "pip install rake_nltk"
   ]
  },
  {
   "cell_type": "code",
   "execution_count": 138,
   "metadata": {},
   "outputs": [],
   "source": [
    "import warnings\n",
    "warnings.filterwarnings('ignore')"
   ]
  },
  {
   "cell_type": "code",
   "execution_count": 139,
   "metadata": {},
   "outputs": [],
   "source": [
    "import pandas as pd\n",
    "import numpy as np\n",
    "from rake_nltk import Rake\n",
    "from sklearn.metrics.pairwise import cosine_similarity"
   ]
  },
  {
   "cell_type": "code",
   "execution_count": 140,
   "metadata": {},
   "outputs": [
    {
     "name": "stdout",
     "output_type": "stream",
     "text": [
      "Help on class Rake in module rake_nltk.rake:\n",
      "\n",
      "class Rake(builtins.object)\n",
      " |  Rapid Automatic Keyword Extraction Algorithm.\n",
      " |  \n",
      " |  Methods defined here:\n",
      " |  \n",
      " |  __init__(self, stopwords=None, punctuations=None, language='english', ranking_metric=<Metric.DEGREE_TO_FREQUENCY_RATIO: 0>, max_length=100000, min_length=1)\n",
      " |      Constructor.\n",
      " |      \n",
      " |      :param stopwords: List of Words to be ignored for keyword extraction.\n",
      " |      :param punctuations: Punctuations to be ignored for keyword extraction.\n",
      " |      :param language: Language to be used for stopwords\n",
      " |      :param max_length: Maximum limit on the number of words in a phrase\n",
      " |                         (Inclusive. Defaults to 100000)\n",
      " |      :param min_length: Minimum limit on the number of words in a phrase\n",
      " |                         (Inclusive. Defaults to 1)\n",
      " |  \n",
      " |  extract_keywords_from_sentences(self, sentences)\n",
      " |      Method to extract keywords from the list of sentences provided.\n",
      " |      \n",
      " |      :param sentences: Text to extraxt keywords from, provided as a list\n",
      " |                        of strings, where each string is a sentence.\n",
      " |  \n",
      " |  extract_keywords_from_text(self, text)\n",
      " |      Method to extract keywords from the text provided.\n",
      " |      \n",
      " |      :param text: Text to extract keywords from, provided as a string.\n",
      " |  \n",
      " |  get_ranked_phrases(self)\n",
      " |      Method to fetch ranked keyword strings.\n",
      " |      \n",
      " |      :return: List of strings where each string represents an extracted\n",
      " |               keyword string.\n",
      " |  \n",
      " |  get_ranked_phrases_with_scores(self)\n",
      " |      Method to fetch ranked keyword strings along with their scores.\n",
      " |      \n",
      " |      :return: List of tuples where each tuple is formed of an extracted\n",
      " |               keyword string and its score. Ex: (5.68, 'Four Scoures')\n",
      " |  \n",
      " |  get_word_degrees(self)\n",
      " |      Method to fetch the degree of words in the given text. Degree can be\n",
      " |      defined as sum of co-occurances of the word with other words in the\n",
      " |      given text.\n",
      " |      \n",
      " |      :return: Dictionary (defaultdict) of the format `word -> degree`.\n",
      " |  \n",
      " |  get_word_frequency_distribution(self)\n",
      " |      Method to fetch the word frequency distribution in the given text.\n",
      " |      \n",
      " |      :return: Dictionary (defaultdict) of the format `word -> frequency`.\n",
      " |  \n",
      " |  ----------------------------------------------------------------------\n",
      " |  Data descriptors defined here:\n",
      " |  \n",
      " |  __dict__\n",
      " |      dictionary for instance variables (if defined)\n",
      " |  \n",
      " |  __weakref__\n",
      " |      list of weak references to the object (if defined)\n",
      "\n"
     ]
    }
   ],
   "source": [
    "help(Rake)"
   ]
  },
  {
   "cell_type": "code",
   "execution_count": 141,
   "metadata": {},
   "outputs": [
    {
     "name": "stdout",
     "output_type": "stream",
     "text": [
      "Help on function cosine_similarity in module sklearn.metrics.pairwise:\n",
      "\n",
      "cosine_similarity(X, Y=None, dense_output=True)\n",
      "    Compute cosine similarity between samples in X and Y.\n",
      "    \n",
      "    Cosine similarity, or the cosine kernel, computes similarity as the\n",
      "    normalized dot product of X and Y:\n",
      "    \n",
      "        K(X, Y) = <X, Y> / (||X||*||Y||)\n",
      "    \n",
      "    On L2-normalized data, this function is equivalent to linear_kernel.\n",
      "    \n",
      "    Read more in the :ref:`User Guide <cosine_similarity>`.\n",
      "    \n",
      "    Parameters\n",
      "    ----------\n",
      "    X : ndarray or sparse array, shape: (n_samples_X, n_features)\n",
      "        Input data.\n",
      "    \n",
      "    Y : ndarray or sparse array, shape: (n_samples_Y, n_features)\n",
      "        Input data. If ``None``, the output will be the pairwise\n",
      "        similarities between all samples in ``X``.\n",
      "    \n",
      "    dense_output : boolean (optional), default True\n",
      "        Whether to return dense output even when the input is sparse. If\n",
      "        ``False``, the output is sparse if both input arrays are sparse.\n",
      "    \n",
      "        .. versionadded:: 0.17\n",
      "           parameter ``dense_output`` for dense output.\n",
      "    \n",
      "    Returns\n",
      "    -------\n",
      "    kernel matrix : array\n",
      "        An array with shape (n_samples_X, n_samples_Y).\n",
      "\n"
     ]
    }
   ],
   "source": [
    "help(cosine_similarity)"
   ]
  },
  {
   "cell_type": "code",
   "execution_count": 142,
   "metadata": {},
   "outputs": [],
   "source": [
    "df = pd.read_csv('https://query.data.world/s/uikepcpffyo2nhig52xxeevdialfl7')"
   ]
  },
  {
   "cell_type": "code",
   "execution_count": 143,
   "metadata": {},
   "outputs": [
    {
     "data": {
      "text/html": [
       "<div>\n",
       "<style scoped>\n",
       "    .dataframe tbody tr th:only-of-type {\n",
       "        vertical-align: middle;\n",
       "    }\n",
       "\n",
       "    .dataframe tbody tr th {\n",
       "        vertical-align: top;\n",
       "    }\n",
       "\n",
       "    .dataframe thead th {\n",
       "        text-align: right;\n",
       "    }\n",
       "</style>\n",
       "<table border=\"1\" class=\"dataframe\">\n",
       "  <thead>\n",
       "    <tr style=\"text-align: right;\">\n",
       "      <th></th>\n",
       "      <th>Title</th>\n",
       "      <th>Genre</th>\n",
       "      <th>Director</th>\n",
       "      <th>Actors</th>\n",
       "      <th>Plot</th>\n",
       "    </tr>\n",
       "  </thead>\n",
       "  <tbody>\n",
       "    <tr>\n",
       "      <th>0</th>\n",
       "      <td>The Shawshank Redemption</td>\n",
       "      <td>Crime, Drama</td>\n",
       "      <td>Frank Darabont</td>\n",
       "      <td>Tim Robbins, Morgan Freeman, Bob Gunton, Willi...</td>\n",
       "      <td>Two imprisoned men bond over a number of years...</td>\n",
       "    </tr>\n",
       "    <tr>\n",
       "      <th>1</th>\n",
       "      <td>The Godfather</td>\n",
       "      <td>Crime, Drama</td>\n",
       "      <td>Francis Ford Coppola</td>\n",
       "      <td>Marlon Brando, Al Pacino, James Caan, Richard ...</td>\n",
       "      <td>The aging patriarch of an organized crime dyna...</td>\n",
       "    </tr>\n",
       "    <tr>\n",
       "      <th>2</th>\n",
       "      <td>The Godfather: Part II</td>\n",
       "      <td>Crime, Drama</td>\n",
       "      <td>Francis Ford Coppola</td>\n",
       "      <td>Al Pacino, Robert Duvall, Diane Keaton, Robert...</td>\n",
       "      <td>The early life and career of Vito Corleone in ...</td>\n",
       "    </tr>\n",
       "    <tr>\n",
       "      <th>3</th>\n",
       "      <td>The Dark Knight</td>\n",
       "      <td>Action, Crime, Drama</td>\n",
       "      <td>Christopher Nolan</td>\n",
       "      <td>Christian Bale, Heath Ledger, Aaron Eckhart, M...</td>\n",
       "      <td>When the menace known as the Joker emerges fro...</td>\n",
       "    </tr>\n",
       "    <tr>\n",
       "      <th>4</th>\n",
       "      <td>12 Angry Men</td>\n",
       "      <td>Crime, Drama</td>\n",
       "      <td>Sidney Lumet</td>\n",
       "      <td>Martin Balsam, John Fiedler, Lee J. Cobb, E.G....</td>\n",
       "      <td>A jury holdout attempts to prevent a miscarria...</td>\n",
       "    </tr>\n",
       "    <tr>\n",
       "      <th>...</th>\n",
       "      <td>...</td>\n",
       "      <td>...</td>\n",
       "      <td>...</td>\n",
       "      <td>...</td>\n",
       "      <td>...</td>\n",
       "    </tr>\n",
       "    <tr>\n",
       "      <th>245</th>\n",
       "      <td>The Lost Weekend</td>\n",
       "      <td>Drama, Film-Noir</td>\n",
       "      <td>Billy Wilder</td>\n",
       "      <td>Ray Milland, Jane Wyman, Phillip Terry, Howard...</td>\n",
       "      <td>The desperate life of a chronic alcoholic is f...</td>\n",
       "    </tr>\n",
       "    <tr>\n",
       "      <th>246</th>\n",
       "      <td>Short Term 12</td>\n",
       "      <td>Drama</td>\n",
       "      <td>Destin Daniel Cretton</td>\n",
       "      <td>Brie Larson, John Gallagher Jr., Stephanie Bea...</td>\n",
       "      <td>A 20-something supervising staff member of a r...</td>\n",
       "    </tr>\n",
       "    <tr>\n",
       "      <th>247</th>\n",
       "      <td>His Girl Friday</td>\n",
       "      <td>Comedy, Drama, Romance</td>\n",
       "      <td>Howard Hawks</td>\n",
       "      <td>Cary Grant, Rosalind Russell, Ralph Bellamy, G...</td>\n",
       "      <td>A newspaper editor uses every trick in the boo...</td>\n",
       "    </tr>\n",
       "    <tr>\n",
       "      <th>248</th>\n",
       "      <td>The Straight Story</td>\n",
       "      <td>Biography, Drama</td>\n",
       "      <td>David Lynch</td>\n",
       "      <td>Sissy Spacek, Jane Galloway Heitz, Joseph A. C...</td>\n",
       "      <td>An old man makes a long journey by lawn-mover ...</td>\n",
       "    </tr>\n",
       "    <tr>\n",
       "      <th>249</th>\n",
       "      <td>Slumdog Millionaire</td>\n",
       "      <td>Drama</td>\n",
       "      <td>Danny Boyle, Loveleen Tandan</td>\n",
       "      <td>Dev Patel, Saurabh Shukla, Anil Kapoor, Raj Zu...</td>\n",
       "      <td>A Mumbai teen reflects on his upbringing in th...</td>\n",
       "    </tr>\n",
       "  </tbody>\n",
       "</table>\n",
       "<p>250 rows × 5 columns</p>\n",
       "</div>"
      ],
      "text/plain": [
       "                        Title                   Genre  \\\n",
       "0    The Shawshank Redemption            Crime, Drama   \n",
       "1               The Godfather            Crime, Drama   \n",
       "2      The Godfather: Part II            Crime, Drama   \n",
       "3             The Dark Knight    Action, Crime, Drama   \n",
       "4                12 Angry Men            Crime, Drama   \n",
       "..                        ...                     ...   \n",
       "245          The Lost Weekend        Drama, Film-Noir   \n",
       "246             Short Term 12                   Drama   \n",
       "247           His Girl Friday  Comedy, Drama, Romance   \n",
       "248        The Straight Story        Biography, Drama   \n",
       "249       Slumdog Millionaire                   Drama   \n",
       "\n",
       "                         Director  \\\n",
       "0                  Frank Darabont   \n",
       "1            Francis Ford Coppola   \n",
       "2            Francis Ford Coppola   \n",
       "3               Christopher Nolan   \n",
       "4                    Sidney Lumet   \n",
       "..                            ...   \n",
       "245                  Billy Wilder   \n",
       "246         Destin Daniel Cretton   \n",
       "247                  Howard Hawks   \n",
       "248                   David Lynch   \n",
       "249  Danny Boyle, Loveleen Tandan   \n",
       "\n",
       "                                                Actors  \\\n",
       "0    Tim Robbins, Morgan Freeman, Bob Gunton, Willi...   \n",
       "1    Marlon Brando, Al Pacino, James Caan, Richard ...   \n",
       "2    Al Pacino, Robert Duvall, Diane Keaton, Robert...   \n",
       "3    Christian Bale, Heath Ledger, Aaron Eckhart, M...   \n",
       "4    Martin Balsam, John Fiedler, Lee J. Cobb, E.G....   \n",
       "..                                                 ...   \n",
       "245  Ray Milland, Jane Wyman, Phillip Terry, Howard...   \n",
       "246  Brie Larson, John Gallagher Jr., Stephanie Bea...   \n",
       "247  Cary Grant, Rosalind Russell, Ralph Bellamy, G...   \n",
       "248  Sissy Spacek, Jane Galloway Heitz, Joseph A. C...   \n",
       "249  Dev Patel, Saurabh Shukla, Anil Kapoor, Raj Zu...   \n",
       "\n",
       "                                                  Plot  \n",
       "0    Two imprisoned men bond over a number of years...  \n",
       "1    The aging patriarch of an organized crime dyna...  \n",
       "2    The early life and career of Vito Corleone in ...  \n",
       "3    When the menace known as the Joker emerges fro...  \n",
       "4    A jury holdout attempts to prevent a miscarria...  \n",
       "..                                                 ...  \n",
       "245  The desperate life of a chronic alcoholic is f...  \n",
       "246  A 20-something supervising staff member of a r...  \n",
       "247  A newspaper editor uses every trick in the boo...  \n",
       "248  An old man makes a long journey by lawn-mover ...  \n",
       "249  A Mumbai teen reflects on his upbringing in th...  \n",
       "\n",
       "[250 rows x 5 columns]"
      ]
     },
     "execution_count": 143,
     "metadata": {},
     "output_type": "execute_result"
    }
   ],
   "source": [
    "df = df[['Title','Genre','Director','Actors','Plot']]\n",
    "df"
   ]
  },
  {
   "cell_type": "code",
   "execution_count": 144,
   "metadata": {},
   "outputs": [],
   "source": [
    "df['key_words'] = ''\n",
    "for index,row in df.iterrows():\n",
    "    plot = row['Plot']\n",
    "    r = Rake()\n",
    "    r.extract_keywords_from_text(plot)\n",
    "    key_word_score_in_dict = r.get_word_degrees()\n",
    "    row['key_words'] = list(key_word_score_in_dict)"
   ]
  },
  {
   "cell_type": "code",
   "execution_count": 145,
   "metadata": {},
   "outputs": [],
   "source": [
    "df.drop(columns = 'Plot',inplace = True)"
   ]
  },
  {
   "cell_type": "code",
   "execution_count": 146,
   "metadata": {},
   "outputs": [],
   "source": [
    "df['Actors'] = df['Actors'].apply(lambda x : x.split(',')[:3])"
   ]
  },
  {
   "cell_type": "code",
   "execution_count": 147,
   "metadata": {},
   "outputs": [],
   "source": [
    "df['Genre'] = df['Genre'].apply(lambda x : x.split(','))"
   ]
  },
  {
   "cell_type": "code",
   "execution_count": 148,
   "metadata": {},
   "outputs": [],
   "source": [
    "df['Director'] = df['Director'].apply(lambda x : x.split())"
   ]
  },
  {
   "cell_type": "code",
   "execution_count": 149,
   "metadata": {},
   "outputs": [],
   "source": [
    "df['Director'] = df['Director'].apply(lambda x : ''.join(word.lower() for word in x))\n"
   ]
  },
  {
   "cell_type": "code",
   "execution_count": 150,
   "metadata": {},
   "outputs": [],
   "source": [
    "df['Actors'] = df['Actors'].apply(lambda x : [word.lower().replace(' ','') for word in x])"
   ]
  },
  {
   "cell_type": "code",
   "execution_count": 151,
   "metadata": {},
   "outputs": [],
   "source": [
    "df.set_index('Title',inplace = True)"
   ]
  },
  {
   "cell_type": "code",
   "execution_count": 152,
   "metadata": {},
   "outputs": [
    {
     "data": {
      "text/html": [
       "<div>\n",
       "<style scoped>\n",
       "    .dataframe tbody tr th:only-of-type {\n",
       "        vertical-align: middle;\n",
       "    }\n",
       "\n",
       "    .dataframe tbody tr th {\n",
       "        vertical-align: top;\n",
       "    }\n",
       "\n",
       "    .dataframe thead th {\n",
       "        text-align: right;\n",
       "    }\n",
       "</style>\n",
       "<table border=\"1\" class=\"dataframe\">\n",
       "  <thead>\n",
       "    <tr style=\"text-align: right;\">\n",
       "      <th></th>\n",
       "      <th>Genre</th>\n",
       "      <th>Director</th>\n",
       "      <th>Actors</th>\n",
       "      <th>key_words</th>\n",
       "    </tr>\n",
       "    <tr>\n",
       "      <th>Title</th>\n",
       "      <th></th>\n",
       "      <th></th>\n",
       "      <th></th>\n",
       "      <th></th>\n",
       "    </tr>\n",
       "  </thead>\n",
       "  <tbody>\n",
       "    <tr>\n",
       "      <th>The Shawshank Redemption</th>\n",
       "      <td>[Crime,  Drama]</td>\n",
       "      <td>frankdarabont</td>\n",
       "      <td>[timrobbins, morganfreeman, bobgunton]</td>\n",
       "      <td>[number, eventual, redemption, common, decency...</td>\n",
       "    </tr>\n",
       "    <tr>\n",
       "      <th>The Godfather</th>\n",
       "      <td>[Crime,  Drama]</td>\n",
       "      <td>francisfordcoppola</td>\n",
       "      <td>[marlonbrando, alpacino, jamescaan]</td>\n",
       "      <td>[organized, crime, dynasty, transfers, control...</td>\n",
       "    </tr>\n",
       "    <tr>\n",
       "      <th>The Godfather: Part II</th>\n",
       "      <td>[Crime,  Drama]</td>\n",
       "      <td>francisfordcoppola</td>\n",
       "      <td>[alpacino, robertduvall, dianekeaton]</td>\n",
       "      <td>[grip, tightens, family, crime, syndicate, car...</td>\n",
       "    </tr>\n",
       "    <tr>\n",
       "      <th>The Dark Knight</th>\n",
       "      <td>[Action,  Crime,  Drama]</td>\n",
       "      <td>christophernolan</td>\n",
       "      <td>[christianbale, heathledger, aaroneckhart]</td>\n",
       "      <td>[people, chaos, gotham, physical, tests, abili...</td>\n",
       "    </tr>\n",
       "    <tr>\n",
       "      <th>12 Angry Men</th>\n",
       "      <td>[Crime,  Drama]</td>\n",
       "      <td>sidneylumet</td>\n",
       "      <td>[martinbalsam, johnfiedler, leej.cobb]</td>\n",
       "      <td>[jury, holdout, attempts, forcing, miscarriage...</td>\n",
       "    </tr>\n",
       "    <tr>\n",
       "      <th>...</th>\n",
       "      <td>...</td>\n",
       "      <td>...</td>\n",
       "      <td>...</td>\n",
       "      <td>...</td>\n",
       "    </tr>\n",
       "    <tr>\n",
       "      <th>The Lost Weekend</th>\n",
       "      <td>[Drama,  Film-Noir]</td>\n",
       "      <td>billywilder</td>\n",
       "      <td>[raymilland, janewyman, phillipterry]</td>\n",
       "      <td>[chronic, alcoholic, followed, four, desperate...</td>\n",
       "    </tr>\n",
       "    <tr>\n",
       "      <th>Short Term 12</th>\n",
       "      <td>[Drama]</td>\n",
       "      <td>destindanielcretton</td>\n",
       "      <td>[brielarson, johngallagherjr., stephaniebeatriz]</td>\n",
       "      <td>[world, alongside, worker, something, supervis...</td>\n",
       "    </tr>\n",
       "    <tr>\n",
       "      <th>His Girl Friday</th>\n",
       "      <td>[Comedy,  Drama,  Romance]</td>\n",
       "      <td>howardhawks</td>\n",
       "      <td>[carygrant, rosalindrussell, ralphbellamy]</td>\n",
       "      <td>[ace, reporter, ex, wife, newspaper, editor, u...</td>\n",
       "    </tr>\n",
       "    <tr>\n",
       "      <th>The Straight Story</th>\n",
       "      <td>[Biography,  Drama]</td>\n",
       "      <td>davidlynch</td>\n",
       "      <td>[sissyspacek, janegallowayheitz, josepha.carpe...</td>\n",
       "      <td>[lawn, relationship, mend, mover, tractor, lon...</td>\n",
       "    </tr>\n",
       "    <tr>\n",
       "      <th>Slumdog Millionaire</th>\n",
       "      <td>[Drama]</td>\n",
       "      <td>dannyboyle,loveleentandan</td>\n",
       "      <td>[devpatel, saurabhshukla, anilkapoor]</td>\n",
       "      <td>[cheating, upbringing, mumbai, teen, reflects,...</td>\n",
       "    </tr>\n",
       "  </tbody>\n",
       "</table>\n",
       "<p>250 rows × 4 columns</p>\n",
       "</div>"
      ],
      "text/plain": [
       "                                               Genre  \\\n",
       "Title                                                  \n",
       "The Shawshank Redemption             [Crime,  Drama]   \n",
       "The Godfather                        [Crime,  Drama]   \n",
       "The Godfather: Part II               [Crime,  Drama]   \n",
       "The Dark Knight             [Action,  Crime,  Drama]   \n",
       "12 Angry Men                         [Crime,  Drama]   \n",
       "...                                              ...   \n",
       "The Lost Weekend                 [Drama,  Film-Noir]   \n",
       "Short Term 12                                [Drama]   \n",
       "His Girl Friday           [Comedy,  Drama,  Romance]   \n",
       "The Straight Story               [Biography,  Drama]   \n",
       "Slumdog Millionaire                          [Drama]   \n",
       "\n",
       "                                           Director  \\\n",
       "Title                                                 \n",
       "The Shawshank Redemption              frankdarabont   \n",
       "The Godfather                    francisfordcoppola   \n",
       "The Godfather: Part II           francisfordcoppola   \n",
       "The Dark Knight                    christophernolan   \n",
       "12 Angry Men                            sidneylumet   \n",
       "...                                             ...   \n",
       "The Lost Weekend                        billywilder   \n",
       "Short Term 12                   destindanielcretton   \n",
       "His Girl Friday                         howardhawks   \n",
       "The Straight Story                       davidlynch   \n",
       "Slumdog Millionaire       dannyboyle,loveleentandan   \n",
       "\n",
       "                                                                     Actors  \\\n",
       "Title                                                                         \n",
       "The Shawshank Redemption             [timrobbins, morganfreeman, bobgunton]   \n",
       "The Godfather                           [marlonbrando, alpacino, jamescaan]   \n",
       "The Godfather: Part II                [alpacino, robertduvall, dianekeaton]   \n",
       "The Dark Knight                  [christianbale, heathledger, aaroneckhart]   \n",
       "12 Angry Men                         [martinbalsam, johnfiedler, leej.cobb]   \n",
       "...                                                                     ...   \n",
       "The Lost Weekend                      [raymilland, janewyman, phillipterry]   \n",
       "Short Term 12              [brielarson, johngallagherjr., stephaniebeatriz]   \n",
       "His Girl Friday                  [carygrant, rosalindrussell, ralphbellamy]   \n",
       "The Straight Story        [sissyspacek, janegallowayheitz, josepha.carpe...   \n",
       "Slumdog Millionaire                   [devpatel, saurabhshukla, anilkapoor]   \n",
       "\n",
       "                                                                  key_words  \n",
       "Title                                                                        \n",
       "The Shawshank Redemption  [number, eventual, redemption, common, decency...  \n",
       "The Godfather             [organized, crime, dynasty, transfers, control...  \n",
       "The Godfather: Part II    [grip, tightens, family, crime, syndicate, car...  \n",
       "The Dark Knight           [people, chaos, gotham, physical, tests, abili...  \n",
       "12 Angry Men              [jury, holdout, attempts, forcing, miscarriage...  \n",
       "...                                                                     ...  \n",
       "The Lost Weekend          [chronic, alcoholic, followed, four, desperate...  \n",
       "Short Term 12             [world, alongside, worker, something, supervis...  \n",
       "His Girl Friday           [ace, reporter, ex, wife, newspaper, editor, u...  \n",
       "The Straight Story        [lawn, relationship, mend, mover, tractor, lon...  \n",
       "Slumdog Millionaire       [cheating, upbringing, mumbai, teen, reflects,...  \n",
       "\n",
       "[250 rows x 4 columns]"
      ]
     },
     "execution_count": 152,
     "metadata": {},
     "output_type": "execute_result"
    }
   ],
   "source": [
    "df"
   ]
  },
  {
   "cell_type": "code",
   "execution_count": 153,
   "metadata": {},
   "outputs": [],
   "source": [
    "df['bag_of_words'] = ' '\n",
    "columns = df.columns\n",
    "for index,row in df.iterrows():\n",
    "    words = ''\n",
    "    for col in columns:\n",
    "        if col!= 'Director':\n",
    "            words = words + ' '.join(row[col])\n",
    "        else:\n",
    "            words = words + row[col] + ' '\n",
    "    row['bag_of_words'] = words"
   ]
  },
  {
   "cell_type": "code",
   "execution_count": 154,
   "metadata": {},
   "outputs": [
    {
     "data": {
      "text/html": [
       "<div>\n",
       "<style scoped>\n",
       "    .dataframe tbody tr th:only-of-type {\n",
       "        vertical-align: middle;\n",
       "    }\n",
       "\n",
       "    .dataframe tbody tr th {\n",
       "        vertical-align: top;\n",
       "    }\n",
       "\n",
       "    .dataframe thead th {\n",
       "        text-align: right;\n",
       "    }\n",
       "</style>\n",
       "<table border=\"1\" class=\"dataframe\">\n",
       "  <thead>\n",
       "    <tr style=\"text-align: right;\">\n",
       "      <th></th>\n",
       "      <th>bag_of_words</th>\n",
       "    </tr>\n",
       "    <tr>\n",
       "      <th>Title</th>\n",
       "      <th></th>\n",
       "    </tr>\n",
       "  </thead>\n",
       "  <tbody>\n",
       "    <tr>\n",
       "      <th>The Shawshank Redemption</th>\n",
       "      <td>Crime  Dramafrankdarabont timrobbins morganfre...</td>\n",
       "    </tr>\n",
       "    <tr>\n",
       "      <th>The Godfather</th>\n",
       "      <td>Crime  Dramafrancisfordcoppola marlonbrando al...</td>\n",
       "    </tr>\n",
       "    <tr>\n",
       "      <th>The Godfather: Part II</th>\n",
       "      <td>Crime  Dramafrancisfordcoppola alpacino robert...</td>\n",
       "    </tr>\n",
       "    <tr>\n",
       "      <th>The Dark Knight</th>\n",
       "      <td>Action  Crime  Dramachristophernolan christian...</td>\n",
       "    </tr>\n",
       "    <tr>\n",
       "      <th>12 Angry Men</th>\n",
       "      <td>Crime  Dramasidneylumet martinbalsam johnfiedl...</td>\n",
       "    </tr>\n",
       "    <tr>\n",
       "      <th>...</th>\n",
       "      <td>...</td>\n",
       "    </tr>\n",
       "    <tr>\n",
       "      <th>The Lost Weekend</th>\n",
       "      <td>Drama  Film-Noirbillywilder raymilland janewym...</td>\n",
       "    </tr>\n",
       "    <tr>\n",
       "      <th>Short Term 12</th>\n",
       "      <td>Dramadestindanielcretton brielarson johngallag...</td>\n",
       "    </tr>\n",
       "    <tr>\n",
       "      <th>His Girl Friday</th>\n",
       "      <td>Comedy  Drama  Romancehowardhawks carygrant ro...</td>\n",
       "    </tr>\n",
       "    <tr>\n",
       "      <th>The Straight Story</th>\n",
       "      <td>Biography  Dramadavidlynch sissyspacek janegal...</td>\n",
       "    </tr>\n",
       "    <tr>\n",
       "      <th>Slumdog Millionaire</th>\n",
       "      <td>Dramadannyboyle,loveleentandan devpatel saurab...</td>\n",
       "    </tr>\n",
       "  </tbody>\n",
       "</table>\n",
       "<p>250 rows × 1 columns</p>\n",
       "</div>"
      ],
      "text/plain": [
       "                                                               bag_of_words\n",
       "Title                                                                      \n",
       "The Shawshank Redemption  Crime  Dramafrankdarabont timrobbins morganfre...\n",
       "The Godfather             Crime  Dramafrancisfordcoppola marlonbrando al...\n",
       "The Godfather: Part II    Crime  Dramafrancisfordcoppola alpacino robert...\n",
       "The Dark Knight           Action  Crime  Dramachristophernolan christian...\n",
       "12 Angry Men              Crime  Dramasidneylumet martinbalsam johnfiedl...\n",
       "...                                                                     ...\n",
       "The Lost Weekend          Drama  Film-Noirbillywilder raymilland janewym...\n",
       "Short Term 12             Dramadestindanielcretton brielarson johngallag...\n",
       "His Girl Friday           Comedy  Drama  Romancehowardhawks carygrant ro...\n",
       "The Straight Story        Biography  Dramadavidlynch sissyspacek janegal...\n",
       "Slumdog Millionaire       Dramadannyboyle,loveleentandan devpatel saurab...\n",
       "\n",
       "[250 rows x 1 columns]"
      ]
     },
     "execution_count": 154,
     "metadata": {},
     "output_type": "execute_result"
    }
   ],
   "source": [
    "new_df = df[['bag_of_words']]\n",
    "new_df"
   ]
  },
  {
   "cell_type": "code",
   "execution_count": 155,
   "metadata": {},
   "outputs": [],
   "source": [
    "from sklearn.feature_extraction.text import CountVectorizer\n",
    "count = CountVectorizer()\n",
    "matrix = count.fit_transform(new_df['bag_of_words'])"
   ]
  },
  {
   "cell_type": "code",
   "execution_count": 156,
   "metadata": {},
   "outputs": [],
   "source": [
    "indices = pd.Series(new_df.index)"
   ]
  },
  {
   "cell_type": "code",
   "execution_count": 157,
   "metadata": {},
   "outputs": [],
   "source": [
    "cosine_sim = cosine_similarity(matrix,matrix)"
   ]
  },
  {
   "cell_type": "code",
   "execution_count": 158,
   "metadata": {},
   "outputs": [
    {
     "data": {
      "text/plain": [
       "array([[1.        , 0.11764706, 0.10114435, ..., 0.        , 0.        ,\n",
       "        0.        ],\n",
       "       [0.11764706, 1.        , 0.35400522, ..., 0.        , 0.        ,\n",
       "        0.        ],\n",
       "       [0.10114435, 0.35400522, 1.        , ..., 0.        , 0.        ,\n",
       "        0.        ],\n",
       "       ...,\n",
       "       [0.        , 0.        , 0.        , ..., 1.        , 0.        ,\n",
       "        0.        ],\n",
       "       [0.        , 0.        , 0.        , ..., 0.        , 1.        ,\n",
       "        0.        ],\n",
       "       [0.        , 0.        , 0.        , ..., 0.        , 0.        ,\n",
       "        1.        ]])"
      ]
     },
     "execution_count": 158,
     "metadata": {},
     "output_type": "execute_result"
    }
   ],
   "source": [
    "cosine_sim"
   ]
  },
  {
   "cell_type": "code",
   "execution_count": 159,
   "metadata": {},
   "outputs": [],
   "source": [
    "title = \"The Lion King\"\n",
    "recommended_movies = []\n",
    "idx = indices[indices == title].index[0]\n",
    "score_series = pd.Series(cosine_sim[idx]).sort_values(ascending = False)\n",
    "top_10_index = list(score_series.iloc[1:11].index)\n",
    "for i in top_10_index:\n",
    "    recommended_movies.append(list(df.index)[i])"
   ]
  },
  {
   "cell_type": "code",
   "execution_count": 160,
   "metadata": {},
   "outputs": [
    {
     "data": {
      "text/plain": [
       "[52, 181, 145, 98, 234, 147, 243, 25, 151, 228]"
      ]
     },
     "execution_count": 160,
     "metadata": {},
     "output_type": "execute_result"
    }
   ],
   "source": [
    "movies_to_recommend_index"
   ]
  },
  {
   "cell_type": "code",
   "execution_count": 161,
   "metadata": {},
   "outputs": [
    {
     "data": {
      "text/plain": [
       "['Monsters, Inc.',\n",
       " 'Song of the Sea',\n",
       " 'Toy Story',\n",
       " 'Monty Python and the Holy Grail',\n",
       " 'The Nightmare Before Christmas',\n",
       " 'WALL·E',\n",
       " 'Finding Nemo',\n",
       " 'Aladdin',\n",
       " 'Zootopia',\n",
       " 'Up']"
      ]
     },
     "execution_count": 161,
     "metadata": {},
     "output_type": "execute_result"
    }
   ],
   "source": [
    "recommended_movies"
   ]
  },
  {
   "cell_type": "code",
   "execution_count": null,
   "metadata": {},
   "outputs": [],
   "source": []
  }
 ],
 "metadata": {
  "kernelspec": {
   "display_name": "Python",
   "language": "python",
   "name": "conda-env-python-py"
  },
  "language_info": {
   "codemirror_mode": {
    "name": "ipython",
    "version": 3
   },
   "file_extension": ".py",
   "mimetype": "text/x-python",
   "name": "python",
   "nbconvert_exporter": "python",
   "pygments_lexer": "ipython3",
   "version": "3.6.7"
  }
 },
 "nbformat": 4,
 "nbformat_minor": 4
}
